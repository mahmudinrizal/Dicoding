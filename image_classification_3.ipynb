{
  "nbformat": 4,
  "nbformat_minor": 0,
  "metadata": {
    "colab": {
      "name": "image classification 3.ipynb",
      "provenance": [],
      "collapsed_sections": []
    },
    "kernelspec": {
      "name": "python3",
      "display_name": "Python 3"
    },
    "language_info": {
      "name": "python"
    },
    "accelerator": "GPU"
  },
  "cells": [
    {
      "cell_type": "markdown",
      "metadata": {
        "id": "ssaCI022K-y4"
      },
      "source": [
        "**Image Classification Model Deployment by Mahmudin Rizal (Mahmudinrizal11@gmail.com)**\n",
        "\n",
        "Klasifikasi pada kasus ini ialah klasifikasi gambar hewan. Dataset didapatkan dari https://www.kaggle.com/madisona/translated-animals10/version/1"
      ]
    },
    {
      "cell_type": "code",
      "metadata": {
        "id": "rGqODI2rJZC2"
      },
      "source": [
        "import tensorflow as tf\n",
        "from tensorflow.keras.optimizers import RMSprop\n",
        "from tensorflow.keras.preprocessing.image import ImageDataGenerator\n",
        "import zipfile,os\n",
        "import numpy as np\n",
        "from google.colab import files\n",
        "from keras.preprocessing import image\n",
        "import matplotlib.pyplot as plt\n",
        "import matplotlib.image as mpimg\n",
        "from sklearn.metrics import classification_report, confusion_matrix\n",
        "from tensorflow.keras.applications.inception_v3 import InceptionV3\n",
        "from urllib.request import urlopen\n",
        "import warnings\n",
        "warnings.filterwarnings(\"ignore\")"
      ],
      "execution_count": 1,
      "outputs": []
    },
    {
      "cell_type": "markdown",
      "metadata": {
        "id": "YOTRmAMcLCzB"
      },
      "source": [
        "**Data Preparation**"
      ]
    },
    {
      "cell_type": "code",
      "metadata": {
        "id": "vTGvm4l3Jo_z"
      },
      "source": [
        "!pip install -q kaggle"
      ],
      "execution_count": 2,
      "outputs": []
    },
    {
      "cell_type": "code",
      "metadata": {
        "colab": {
          "resources": {
            "http://localhost:8080/nbextensions/google.colab/files.js": {
              "data": "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",
              "ok": true,
              "headers": [
                [
                  "content-type",
                  "application/javascript"
                ]
              ],
              "status": 200,
              "status_text": ""
            }
          },
          "base_uri": "https://localhost:8080/",
          "height": 90
        },
        "id": "vrKgAK_TJsrr",
        "outputId": "af705c04-8d1a-415b-ffa9-34774a89248e"
      },
      "source": [
        "files.upload()"
      ],
      "execution_count": 3,
      "outputs": [
        {
          "output_type": "display_data",
          "data": {
            "text/html": [
              "\n",
              "     <input type=\"file\" id=\"files-4ccb2089-7d92-4697-9c41-90be834d18e7\" name=\"files[]\" multiple disabled\n",
              "        style=\"border:none\" />\n",
              "     <output id=\"result-4ccb2089-7d92-4697-9c41-90be834d18e7\">\n",
              "      Upload widget is only available when the cell has been executed in the\n",
              "      current browser session. Please rerun this cell to enable.\n",
              "      </output>\n",
              "      <script src=\"/nbextensions/google.colab/files.js\"></script> "
            ],
            "text/plain": [
              "<IPython.core.display.HTML object>"
            ]
          },
          "metadata": {}
        },
        {
          "output_type": "stream",
          "text": [
            "Saving kaggle.json to kaggle.json\n"
          ],
          "name": "stdout"
        },
        {
          "output_type": "execute_result",
          "data": {
            "text/plain": [
              "{'kaggle.json': b'{\"username\":\"mahmudinrizal\",\"key\":\"52618f26c8e1d49480f182d9ab65cb11\"}'}"
            ]
          },
          "metadata": {},
          "execution_count": 3
        }
      ]
    },
    {
      "cell_type": "code",
      "metadata": {
        "colab": {
          "base_uri": "https://localhost:8080/"
        },
        "id": "ZXUjNXrnJx-u",
        "outputId": "49426104-b7cd-478a-806c-40a1903c9903"
      },
      "source": [
        "!mkdir -p ~/.kaggle\n",
        "!cp kaggle.json ~/.kaggle/\n",
        "!chmod 600 ~/.kaggle/kaggle.json\n",
        "!ls ~/.kaggle"
      ],
      "execution_count": 4,
      "outputs": [
        {
          "output_type": "stream",
          "text": [
            "kaggle.json\n"
          ],
          "name": "stdout"
        }
      ]
    },
    {
      "cell_type": "code",
      "metadata": {
        "colab": {
          "base_uri": "https://localhost:8080/"
        },
        "id": "QYgYPC6GJ00I",
        "outputId": "be4521a0-bc30-4ed2-b906-58e6359330eb"
      },
      "source": [
        "!kaggle datasets download -d madisona/translated-animals10"
      ],
      "execution_count": 5,
      "outputs": [
        {
          "output_type": "stream",
          "text": [
            "Downloading translated-animals10.zip to /content\n",
            "100% 585M/586M [00:15<00:00, 32.6MB/s]\n",
            "100% 586M/586M [00:15<00:00, 40.2MB/s]\n"
          ],
          "name": "stdout"
        }
      ]
    },
    {
      "cell_type": "code",
      "metadata": {
        "colab": {
          "base_uri": "https://localhost:8080/"
        },
        "id": "ph22fmGyJ8nO",
        "outputId": "1fed0f14-7c5c-4aa8-b978-26e2817874d4"
      },
      "source": [
        "!mkdir animalsdata\n",
        "!unzip -qq translated-animals10.zip -d animalsdata\n",
        "!ls animalsdata"
      ],
      "execution_count": 6,
      "outputs": [
        {
          "output_type": "stream",
          "text": [
            "animals10\n"
          ],
          "name": "stdout"
        }
      ]
    },
    {
      "cell_type": "code",
      "metadata": {
        "colab": {
          "base_uri": "https://localhost:8080/"
        },
        "id": "Khd21ijwJ_vF",
        "outputId": "f5844c2d-0a85-4ea1-84e1-154cf568ecf7"
      },
      "source": [
        "animals_img = ['butterfly', \n",
        "               'cat', \n",
        "               'chicken',\n",
        "               'cow',\n",
        "               'dog',\n",
        "               'elephant',\n",
        "               'horse', \n",
        "               'sheep',\n",
        "               'spider', \n",
        "               'squirrel']\n",
        "\n",
        "for animal in animals_img:\n",
        "    print(f'{animal} images: ', len(os.listdir(f'/content/animalsdata/animals10/raw-img/{animal}')))"
      ],
      "execution_count": 7,
      "outputs": [
        {
          "output_type": "stream",
          "text": [
            "butterfly images:  2112\n",
            "cat images:  1668\n",
            "chicken images:  3098\n",
            "cow images:  1866\n",
            "dog images:  4863\n",
            "elephant images:  1446\n",
            "horse images:  2623\n",
            "sheep images:  1820\n",
            "spider images:  4821\n",
            "squirrel images:  1862\n"
          ],
          "name": "stdout"
        }
      ]
    },
    {
      "cell_type": "code",
      "metadata": {
        "id": "xwEa1SzLKCX3"
      },
      "source": [
        "try:\n",
        "  os.mkdir('/content/animalsdata/animals10/train')\n",
        "  os.mkdir('/content/animalsdata/animals10/test')\n",
        "  for animal in animals_img:\n",
        "    os.mkdir(f'/content/animalsdata/animals10/train/{animal}')\n",
        "    os.mkdir(f'/content/animalsdata/animals10/test/{animal}')\n",
        "except OSError:\n",
        "  pass"
      ],
      "execution_count": 8,
      "outputs": []
    },
    {
      "cell_type": "code",
      "metadata": {
        "id": "F3h8uJJAKFJ2"
      },
      "source": [
        "base_dir = '/content/animalsdata/animals10/raw-img/'"
      ],
      "execution_count": 9,
      "outputs": []
    },
    {
      "cell_type": "code",
      "metadata": {
        "colab": {
          "base_uri": "https://localhost:8080/"
        },
        "id": "3C6Ka_enKHXm",
        "outputId": "f04da5ef-cf41-442e-db3b-46ec9ae4669e"
      },
      "source": [
        "os.listdir(base_dir)"
      ],
      "execution_count": 10,
      "outputs": [
        {
          "output_type": "execute_result",
          "data": {
            "text/plain": [
              "['dog',\n",
              " 'butterfly',\n",
              " 'sheep',\n",
              " 'spider',\n",
              " 'horse',\n",
              " 'chicken',\n",
              " 'elephant',\n",
              " 'cat',\n",
              " 'squirrel',\n",
              " 'cow']"
            ]
          },
          "metadata": {},
          "execution_count": 10
        }
      ]
    },
    {
      "cell_type": "code",
      "metadata": {
        "id": "SwpYs_PMKLnO"
      },
      "source": [
        "train_dir = os.path.join(base_dir, 'train')\n",
        "validation_dir = os.path.join(base_dir, 'val')"
      ],
      "execution_count": 11,
      "outputs": []
    },
    {
      "cell_type": "markdown",
      "metadata": {
        "id": "zoHadv-_KOAO"
      },
      "source": [
        "**Image Augmenation and data split**"
      ]
    },
    {
      "cell_type": "code",
      "metadata": {
        "colab": {
          "base_uri": "https://localhost:8080/"
        },
        "id": "gm_0Lmw3KOrf",
        "outputId": "ae08e850-dd3d-4afe-8333-3ab02738e41e"
      },
      "source": [
        "train_data = ImageDataGenerator(\n",
        "    rescale = 1./255,\n",
        "    rotation_range = 20,\n",
        "    horizontal_flip = True,\n",
        "    shear_range = 0.2,\n",
        "    fill_mode = 'nearest',\n",
        "    zoom_range = 0.2,\n",
        "    validation_split = 0.2 \n",
        ")\n",
        "train_data"
      ],
      "execution_count": 12,
      "outputs": [
        {
          "output_type": "execute_result",
          "data": {
            "text/plain": [
              "<keras.preprocessing.image.ImageDataGenerator at 0x7fd8e8e255d0>"
            ]
          },
          "metadata": {},
          "execution_count": 12
        }
      ]
    },
    {
      "cell_type": "code",
      "metadata": {
        "colab": {
          "base_uri": "https://localhost:8080/"
        },
        "id": "tUGIiq8bKRCu",
        "outputId": "5b148a26-d0e3-44d8-c470-2ada9c4355e5"
      },
      "source": [
        "train_generator = train_data.flow_from_directory(\n",
        "    base_dir,\n",
        "    target_size = (150, 150),\n",
        "    class_mode = 'categorical',\n",
        "    subset = 'training'\n",
        ")\n",
        "\n",
        "validation_generator = train_data.flow_from_directory(\n",
        "    base_dir,\n",
        "    target_size = (150, 150),\n",
        "    class_mode = 'categorical',\n",
        "    subset = 'validation'\n",
        ")"
      ],
      "execution_count": 13,
      "outputs": [
        {
          "output_type": "stream",
          "text": [
            "Found 20947 images belonging to 10 classes.\n",
            "Found 5232 images belonging to 10 classes.\n"
          ],
          "name": "stdout"
        }
      ]
    },
    {
      "cell_type": "markdown",
      "metadata": {
        "id": "bbnYEFMDKXHl"
      },
      "source": [
        "**Modeling**"
      ]
    },
    {
      "cell_type": "code",
      "metadata": {
        "id": "0Qn4KyO5KTgX"
      },
      "source": [
        "tf.keras.backend.clear_session()\n",
        "ourmodel = tf.keras.models.Sequential([\n",
        "    tf.keras.layers.Conv2D(64, (3, 3), activation = 'relu', input_shape = (150, 150, 3)),\n",
        "    tf.keras.layers.MaxPooling2D(2, 2),\n",
        "    tf.keras.layers.Conv2D(64, (3, 3), activation = 'relu'),\n",
        "    tf.keras.layers.MaxPooling2D(2, 2),\n",
        "    tf.keras.layers.Conv2D(32, (3, 3), activation = 'relu'),\n",
        "    tf.keras.layers.MaxPooling2D(2, 2),\n",
        "    tf.keras.layers.Conv2D(32, (3, 3), activation = 'relu'),\n",
        "    tf.keras.layers.MaxPooling2D(2, 2),\n",
        "    tf.keras.layers.Flatten(),\n",
        "    tf.keras.layers.Dropout(0.5), \n",
        "    tf.keras.layers.Dense(32, activation = 'relu'),\n",
        "    tf.keras.layers.Dense(16, activation = 'relu'),\n",
        "    tf.keras.layers.Dense(10, activation = 'softmax')\n",
        "])"
      ],
      "execution_count": 14,
      "outputs": []
    },
    {
      "cell_type": "code",
      "metadata": {
        "colab": {
          "base_uri": "https://localhost:8080/"
        },
        "id": "mijjpGrNKd1e",
        "outputId": "fbc75394-e36a-4b24-b558-aabba0be9d5e"
      },
      "source": [
        "ourmodel.summary()"
      ],
      "execution_count": 15,
      "outputs": [
        {
          "output_type": "stream",
          "text": [
            "Model: \"sequential\"\n",
            "_________________________________________________________________\n",
            "Layer (type)                 Output Shape              Param #   \n",
            "=================================================================\n",
            "conv2d (Conv2D)              (None, 148, 148, 64)      1792      \n",
            "_________________________________________________________________\n",
            "max_pooling2d (MaxPooling2D) (None, 74, 74, 64)        0         \n",
            "_________________________________________________________________\n",
            "conv2d_1 (Conv2D)            (None, 72, 72, 64)        36928     \n",
            "_________________________________________________________________\n",
            "max_pooling2d_1 (MaxPooling2 (None, 36, 36, 64)        0         \n",
            "_________________________________________________________________\n",
            "conv2d_2 (Conv2D)            (None, 34, 34, 32)        18464     \n",
            "_________________________________________________________________\n",
            "max_pooling2d_2 (MaxPooling2 (None, 17, 17, 32)        0         \n",
            "_________________________________________________________________\n",
            "conv2d_3 (Conv2D)            (None, 15, 15, 32)        9248      \n",
            "_________________________________________________________________\n",
            "max_pooling2d_3 (MaxPooling2 (None, 7, 7, 32)          0         \n",
            "_________________________________________________________________\n",
            "flatten (Flatten)            (None, 1568)              0         \n",
            "_________________________________________________________________\n",
            "dropout (Dropout)            (None, 1568)              0         \n",
            "_________________________________________________________________\n",
            "dense (Dense)                (None, 32)                50208     \n",
            "_________________________________________________________________\n",
            "dense_1 (Dense)              (None, 16)                528       \n",
            "_________________________________________________________________\n",
            "dense_2 (Dense)              (None, 10)                170       \n",
            "=================================================================\n",
            "Total params: 117,338\n",
            "Trainable params: 117,338\n",
            "Non-trainable params: 0\n",
            "_________________________________________________________________\n"
          ],
          "name": "stdout"
        }
      ]
    },
    {
      "cell_type": "code",
      "metadata": {
        "id": "h3jIJ7VRKfhD"
      },
      "source": [
        "#compile model\n",
        "ourmodel.compile(\n",
        "    loss = 'categorical_crossentropy',\n",
        "    optimizer = tf.optimizers.Adam(),\n",
        "    metrics = ['accuracy']               \n",
        ")"
      ],
      "execution_count": 16,
      "outputs": []
    },
    {
      "cell_type": "code",
      "metadata": {
        "id": "AmOpeilRKh-w"
      },
      "source": [
        "# callbacks for early stop when reach our target accuracy\n",
        "accuracy_threshold = 92e-2\n",
        "class our_callbacks(tf.keras.callbacks.Callback):\n",
        "    def on_epoch_end(self, epoch, logs = None):\n",
        "        if logs.get('accuracy') > accuracy_threshold and logs.get('val_accuracy')> accuracy_threshold:\n",
        "            print('\\nFor Epoch', epoch, '\\nAccuracy has reach = %2.2f%%' %(logs['accuracy']*100), \n",
        "                  '\\nVal Accuracy has reach = %2.2f%%' %(logs['val_accuracy']*100), '.training has been stopped. Continue to the next step')\n",
        "            self.model.stop_training = True"
      ],
      "execution_count": 17,
      "outputs": []
    },
    {
      "cell_type": "code",
      "metadata": {
        "colab": {
          "base_uri": "https://localhost:8080/"
        },
        "id": "o3C9Uqa6Kj-7",
        "outputId": "7b113c51-79c7-4e2d-cdd7-e01c68bc3f8b"
      },
      "source": [
        "# train data\n",
        "history = ourmodel.fit(\n",
        "    train_generator,\n",
        "    steps_per_epoch = 200,\n",
        "    epochs = 25,\n",
        "    validation_data = validation_generator,\n",
        "    verbose = 1,\n",
        "    callbacks = [our_callbacks()]\n",
        ")"
      ],
      "execution_count": 20,
      "outputs": [
        {
          "output_type": "stream",
          "text": [
            "Epoch 1/25\n",
            "200/200 [==============================] - 88s 442ms/step - loss: 2.1158 - accuracy: 0.2446 - val_loss: 2.0061 - val_accuracy: 0.3047\n",
            "Epoch 2/25\n",
            "200/200 [==============================] - 88s 443ms/step - loss: 2.0122 - accuracy: 0.2812 - val_loss: 1.9622 - val_accuracy: 0.3085\n",
            "Epoch 3/25\n",
            "200/200 [==============================] - 87s 436ms/step - loss: 1.9431 - accuracy: 0.3208 - val_loss: 1.8650 - val_accuracy: 0.3387\n",
            "Epoch 4/25\n",
            "200/200 [==============================] - 89s 444ms/step - loss: 1.8850 - accuracy: 0.3275 - val_loss: 1.8243 - val_accuracy: 0.3593\n",
            "Epoch 5/25\n",
            "200/200 [==============================] - 90s 451ms/step - loss: 1.8069 - accuracy: 0.3634 - val_loss: 1.7411 - val_accuracy: 0.3985\n",
            "Epoch 6/25\n",
            "200/200 [==============================] - 88s 439ms/step - loss: 1.7414 - accuracy: 0.3913 - val_loss: 1.6956 - val_accuracy: 0.4031\n",
            "Epoch 7/25\n",
            "200/200 [==============================] - 89s 446ms/step - loss: 1.6945 - accuracy: 0.4091 - val_loss: 1.6311 - val_accuracy: 0.4306\n",
            "Epoch 8/25\n",
            "200/200 [==============================] - 88s 443ms/step - loss: 1.6236 - accuracy: 0.4305 - val_loss: 1.5086 - val_accuracy: 0.4631\n",
            "Epoch 9/25\n",
            "200/200 [==============================] - 89s 445ms/step - loss: 1.5769 - accuracy: 0.4539 - val_loss: 1.5097 - val_accuracy: 0.4788\n",
            "Epoch 10/25\n",
            "200/200 [==============================] - 87s 435ms/step - loss: 1.5606 - accuracy: 0.4623 - val_loss: 1.4280 - val_accuracy: 0.5038\n",
            "Epoch 11/25\n",
            "200/200 [==============================] - 87s 438ms/step - loss: 1.4973 - accuracy: 0.4869 - val_loss: 1.4340 - val_accuracy: 0.4952\n",
            "Epoch 12/25\n",
            "200/200 [==============================] - 88s 441ms/step - loss: 1.4429 - accuracy: 0.5000 - val_loss: 1.3895 - val_accuracy: 0.5281\n",
            "Epoch 13/25\n",
            "200/200 [==============================] - 87s 437ms/step - loss: 1.4236 - accuracy: 0.5147 - val_loss: 1.3904 - val_accuracy: 0.5149\n",
            "Epoch 14/25\n",
            "200/200 [==============================] - 87s 437ms/step - loss: 1.4111 - accuracy: 0.5144 - val_loss: 1.3367 - val_accuracy: 0.5340\n",
            "Epoch 15/25\n",
            "200/200 [==============================] - 88s 440ms/step - loss: 1.3740 - accuracy: 0.5289 - val_loss: 1.2872 - val_accuracy: 0.5629\n",
            "Epoch 16/25\n",
            "200/200 [==============================] - 88s 441ms/step - loss: 1.3373 - accuracy: 0.5447 - val_loss: 1.3265 - val_accuracy: 0.5193\n",
            "Epoch 17/25\n",
            "200/200 [==============================] - 88s 442ms/step - loss: 1.3467 - accuracy: 0.5331 - val_loss: 1.2613 - val_accuracy: 0.5591\n",
            "Epoch 18/25\n",
            "200/200 [==============================] - 88s 441ms/step - loss: 1.3320 - accuracy: 0.5394 - val_loss: 1.2463 - val_accuracy: 0.5776\n",
            "Epoch 19/25\n",
            "200/200 [==============================] - 90s 448ms/step - loss: 1.3050 - accuracy: 0.5536 - val_loss: 1.3007 - val_accuracy: 0.5464\n",
            "Epoch 20/25\n",
            "200/200 [==============================] - 88s 440ms/step - loss: 1.2851 - accuracy: 0.5530 - val_loss: 1.1800 - val_accuracy: 0.5952\n",
            "Epoch 21/25\n",
            "200/200 [==============================] - 87s 438ms/step - loss: 1.2647 - accuracy: 0.5629 - val_loss: 1.1924 - val_accuracy: 0.5927\n",
            "Epoch 22/25\n",
            "200/200 [==============================] - 88s 442ms/step - loss: 1.2694 - accuracy: 0.5602 - val_loss: 1.1951 - val_accuracy: 0.5900\n",
            "Epoch 23/25\n",
            "200/200 [==============================] - 89s 445ms/step - loss: 1.2567 - accuracy: 0.5694 - val_loss: 1.1802 - val_accuracy: 0.6002\n",
            "Epoch 24/25\n",
            "200/200 [==============================] - 88s 439ms/step - loss: 1.2283 - accuracy: 0.5821 - val_loss: 1.1581 - val_accuracy: 0.6055\n",
            "Epoch 25/25\n",
            "200/200 [==============================] - 87s 435ms/step - loss: 1.2235 - accuracy: 0.5833 - val_loss: 1.1268 - val_accuracy: 0.6175\n"
          ],
          "name": "stdout"
        }
      ]
    },
    {
      "cell_type": "code",
      "metadata": {
        "colab": {
          "base_uri": "https://localhost:8080/",
          "height": 513
        },
        "id": "fKlYj4kZKnzy",
        "outputId": "76c651ef-0d4c-443b-c646-629aba4e570e"
      },
      "source": [
        "plt.figure(figsize=(20, 8))\n",
        "plt.subplot(1, 2, 1)\n",
        "plt.plot(history.history['accuracy'], label='Training Accuracy', color='blue')\n",
        "plt.plot(history.history['val_accuracy'], label='Validation Accuracy', color='red')\n",
        "plt.title('Accuracy Training & Validation')\n",
        "plt.ylabel('Value')\n",
        "plt.xlabel('Epoch')\n",
        "plt.legend(loc=\"lower right\")\n",
        "\n",
        "\n",
        "plt.subplot(1, 2, 2)\n",
        "plt.plot(history.history['loss'], label='Training Loss', color='blue')\n",
        "plt.plot(history.history['val_loss'], label='Validation Loss', color='red')\n",
        "plt.title('Loss Training & Validation')\n",
        "plt.ylabel('Value')\n",
        "plt.xlabel('Epoch')\n",
        "plt.legend(loc=\"lower right\")\n",
        "plt.show()"
      ],
      "execution_count": 21,
      "outputs": [
        {
          "output_type": "display_data",
          "data": {
            "image/png": "[encoded data removed]",
            "text/plain": [
              "<Figure size 1440x576 with 2 Axes>"
            ]
          },
          "metadata": {
            "needs_background": "light"
          }
        }
      ]
    },
    {
      "cell_type": "markdown",
      "metadata": {
        "id": "b6M9dwVVKqY5"
      },
      "source": [
        "Karena hasil dari model belum seperti yang diharapkan, selanjutnya akan diterapkan transfer learning guna membantu meningkatkan akurasi dan val akurasi."
      ]
    },
    {
      "cell_type": "markdown",
      "metadata": {
        "id": "qFux-24bKtcQ"
      },
      "source": [
        "**MODEL WITH ResNet152v2**"
      ]
    },
    {
      "cell_type": "code",
      "metadata": {
        "id": "s8a2ZqgnKvaI"
      },
      "source": [
        "from tensorflow.keras.layers import Input\n",
        "from tensorflow.keras.applications import ResNet50\n",
        "from tensorflow.keras.applications import ResNet152V2"
      ],
      "execution_count": 22,
      "outputs": []
    },
    {
      "cell_type": "code",
      "metadata": {
        "colab": {
          "base_uri": "https://localhost:8080/"
        },
        "id": "Yi9UIkpOKw9l",
        "outputId": "16a85db1-f38c-46ef-f863-6f94f8d49b27"
      },
      "source": [
        "tf.keras.backend.clear_session()\n",
        "\n",
        "model_RN = tf.keras.models.Sequential([\n",
        "    ResNet152V2(weights=\"imagenet\", include_top=False, input_tensor=Input(shape=(150, 150, 3))),\n",
        "    tf.keras.layers.Flatten(),\n",
        "    tf.keras.layers.Dropout(0.5), \n",
        "    tf.keras.layers.Dense(64, activation='relu'),\n",
        "    tf.keras.layers.Dense(32, activation='relu'),\n",
        "    tf.keras.layers.Dense(10, activation='softmax')\n",
        "])\n",
        "\n",
        "model_RN.layers[0].trainable = False\n",
        "model_RN.summary()"
      ],
      "execution_count": 23,
      "outputs": [
        {
          "output_type": "stream",
          "text": [
            "Downloading data from https://storage.googleapis.com/tensorflow/keras-applications/resnet/resnet152v2_weights_tf_dim_ordering_tf_kernels_notop.h5\n",
            "234553344/234545216 [==============================] - 9s 0us/step\n",
            "234561536/234545216 [==============================] - 9s 0us/step\n",
            "Model: \"sequential\"\n",
            "_________________________________________________________________\n",
            "Layer (type)                 Output Shape              Param #   \n",
            "=================================================================\n",
            "resnet152v2 (Functional)     (None, 5, 5, 2048)        58331648  \n",
            "_________________________________________________________________\n",
            "flatten (Flatten)            (None, 51200)             0         \n",
            "_________________________________________________________________\n",
            "dropout (Dropout)            (None, 51200)             0         \n",
            "_________________________________________________________________\n",
            "dense (Dense)                (None, 64)                3276864   \n",
            "_________________________________________________________________\n",
            "dense_1 (Dense)              (None, 32)                2080      \n",
            "_________________________________________________________________\n",
            "dense_2 (Dense)              (None, 10)                330       \n",
            "=================================================================\n",
            "Total params: 61,610,922\n",
            "Trainable params: 3,279,274\n",
            "Non-trainable params: 58,331,648\n",
            "_________________________________________________________________\n"
          ],
          "name": "stdout"
        }
      ]
    },
    {
      "cell_type": "code",
      "metadata": {
        "id": "mve_YEpzKylS"
      },
      "source": [
        "model_RN.compile(optimizer=tf.optimizers.Adam(),\n",
        "              loss='categorical_crossentropy',\n",
        "              metrics = ['accuracy'])"
      ],
      "execution_count": 24,
      "outputs": []
    },
    {
      "cell_type": "code",
      "metadata": {
        "colab": {
          "base_uri": "https://localhost:8080/"
        },
        "id": "ZFAv_ouzK0cE",
        "outputId": "7669f5e9-c81d-4909-ee8d-da9050ce9c50"
      },
      "source": [
        "# train data\n",
        "history2 = model_RN.fit(\n",
        "    train_generator,\n",
        "    epochs = 25,\n",
        "    validation_data = validation_generator,\n",
        "    verbose = 1,\n",
        "    callbacks = [our_callbacks()]\n",
        ")"
      ],
      "execution_count": 25,
      "outputs": [
        {
          "output_type": "stream",
          "text": [
            "Epoch 1/25\n",
            "655/655 [==============================] - 298s 438ms/step - loss: 0.7579 - accuracy: 0.8035 - val_loss: 0.4516 - val_accuracy: 0.8666\n",
            "Epoch 2/25\n",
            "655/655 [==============================] - 282s 431ms/step - loss: 0.4678 - accuracy: 0.8606 - val_loss: 0.4044 - val_accuracy: 0.8773\n",
            "Epoch 3/25\n",
            "655/655 [==============================] - 281s 429ms/step - loss: 0.3887 - accuracy: 0.8840 - val_loss: 0.3532 - val_accuracy: 0.8985\n",
            "Epoch 4/25\n",
            "655/655 [==============================] - 280s 427ms/step - loss: 0.3462 - accuracy: 0.8919 - val_loss: 0.3269 - val_accuracy: 0.8987\n",
            "Epoch 5/25\n",
            "655/655 [==============================] - 280s 427ms/step - loss: 0.3303 - accuracy: 0.8960 - val_loss: 0.3381 - val_accuracy: 0.9023\n",
            "Epoch 6/25\n",
            "655/655 [==============================] - 279s 426ms/step - loss: 0.3092 - accuracy: 0.9052 - val_loss: 0.3348 - val_accuracy: 0.9031\n",
            "Epoch 7/25\n",
            "655/655 [==============================] - 278s 425ms/step - loss: 0.2926 - accuracy: 0.9090 - val_loss: 0.3248 - val_accuracy: 0.9046\n",
            "Epoch 8/25\n",
            "655/655 [==============================] - 279s 426ms/step - loss: 0.2697 - accuracy: 0.9141 - val_loss: 0.3160 - val_accuracy: 0.9063\n",
            "Epoch 9/25\n",
            "655/655 [==============================] - 279s 426ms/step - loss: 0.2604 - accuracy: 0.9146 - val_loss: 0.3297 - val_accuracy: 0.8993\n",
            "Epoch 10/25\n",
            "655/655 [==============================] - 280s 428ms/step - loss: 0.2666 - accuracy: 0.9188 - val_loss: 0.2823 - val_accuracy: 0.9106\n",
            "Epoch 11/25\n",
            "655/655 [==============================] - 282s 430ms/step - loss: 0.2456 - accuracy: 0.9211 - val_loss: 0.3174 - val_accuracy: 0.9073\n",
            "Epoch 12/25\n",
            "655/655 [==============================] - 283s 431ms/step - loss: 0.2408 - accuracy: 0.9232 - val_loss: 0.2969 - val_accuracy: 0.9146\n",
            "Epoch 13/25\n",
            "655/655 [==============================] - 281s 430ms/step - loss: 0.2369 - accuracy: 0.9250 - val_loss: 0.2826 - val_accuracy: 0.9165\n",
            "Epoch 14/25\n",
            "655/655 [==============================] - 281s 429ms/step - loss: 0.2300 - accuracy: 0.9250 - val_loss: 0.2942 - val_accuracy: 0.9117\n",
            "Epoch 15/25\n",
            "655/655 [==============================] - 281s 428ms/step - loss: 0.2216 - accuracy: 0.9302 - val_loss: 0.2778 - val_accuracy: 0.9134\n",
            "Epoch 16/25\n",
            "655/655 [==============================] - 280s 427ms/step - loss: 0.2130 - accuracy: 0.9320 - val_loss: 0.2971 - val_accuracy: 0.9119\n",
            "Epoch 17/25\n",
            "655/655 [==============================] - 282s 431ms/step - loss: 0.2073 - accuracy: 0.9332 - val_loss: 0.2800 - val_accuracy: 0.9132\n",
            "Epoch 18/25\n",
            "655/655 [==============================] - 283s 431ms/step - loss: 0.2078 - accuracy: 0.9330 - val_loss: 0.2942 - val_accuracy: 0.9102\n",
            "Epoch 19/25\n",
            "655/655 [==============================] - 283s 432ms/step - loss: 0.2061 - accuracy: 0.9351 - val_loss: 0.2837 - val_accuracy: 0.9174\n",
            "Epoch 20/25\n",
            "655/655 [==============================] - 279s 426ms/step - loss: 0.1976 - accuracy: 0.9366 - val_loss: 0.3232 - val_accuracy: 0.9063\n",
            "Epoch 21/25\n",
            "655/655 [==============================] - 279s 426ms/step - loss: 0.1953 - accuracy: 0.9366 - val_loss: 0.2812 - val_accuracy: 0.9132\n",
            "Epoch 22/25\n",
            "655/655 [==============================] - 279s 425ms/step - loss: 0.1865 - accuracy: 0.9409 - val_loss: 0.2878 - val_accuracy: 0.9163\n",
            "Epoch 23/25\n",
            "655/655 [==============================] - 281s 428ms/step - loss: 0.1822 - accuracy: 0.9428 - val_loss: 0.2779 - val_accuracy: 0.9188\n",
            "Epoch 24/25\n",
            "655/655 [==============================] - 282s 430ms/step - loss: 0.1790 - accuracy: 0.9430 - val_loss: 0.2787 - val_accuracy: 0.9128\n",
            "Epoch 25/25\n",
            "655/655 [==============================] - 282s 430ms/step - loss: 0.1854 - accuracy: 0.9415 - val_loss: 0.2630 - val_accuracy: 0.9207\n",
            "\n",
            "For Epoch 24 \n",
            "Accuracy has reach = 94.15% \n",
            "Val Accuracy has reach = 92.07% .training has been stopped. Continue to the next step\n"
          ],
          "name": "stdout"
        }
      ]
    },
    {
      "cell_type": "code",
      "metadata": {
        "colab": {
          "base_uri": "https://localhost:8080/",
          "height": 513
        },
        "id": "6pPUFZ7JK2PI",
        "outputId": "32d7188e-c655-403f-ad69-b56e1a125e74"
      },
      "source": [
        "plt.figure(figsize=(20, 8))\n",
        "plt.subplot(1, 2, 1)\n",
        "plt.plot(history2.history['accuracy'], label='Training Accuracy', color='blue')\n",
        "plt.plot(history2.history['val_accuracy'], label='Validation Accuracy', color='red')\n",
        "plt.title('Accuracy Training & Validation')\n",
        "plt.ylabel('Value')\n",
        "plt.xlabel('Epoch')\n",
        "plt.legend(loc=\"lower right\")\n",
        "\n",
        "\n",
        "plt.subplot(1, 2, 2)\n",
        "plt.plot(history2.history['loss'], label='Training Loss', color='blue')\n",
        "plt.plot(history2.history['val_loss'], label='Validation Loss', color='red')\n",
        "plt.title('Loss Training & Validation')\n",
        "plt.ylabel('Value')\n",
        "plt.xlabel('Epoch')\n",
        "plt.legend(loc=\"lower right\")\n",
        "plt.show()"
      ],
      "execution_count": 32,
      "outputs": [
        {
          "output_type": "display_data",
          "data": {
            "image/png": "[encoded data removed]",
            "text/plain": [
              "<Figure size 1440x576 with 2 Axes>"
            ]
          },
          "metadata": {
            "needs_background": "light"
          }
        }
      ]
    },
    {
      "cell_type": "markdown",
      "metadata": {
        "id": "UlM4b8WKz6i2"
      },
      "source": [
        "Dengan bantuan transfer learning Resnet152v2 akurasi dan val akurasinya berhasil mencapai target."
      ]
    },
    {
      "cell_type": "markdown",
      "metadata": {
        "id": "o6oA_V1l1YyA"
      },
      "source": [
        "**Mengubah model ke dalam format tflite**"
      ]
    },
    {
      "cell_type": "code",
      "metadata": {
        "colab": {
          "base_uri": "https://localhost:8080/"
        },
        "id": "HQnoAYOJ0CSs",
        "outputId": "9f86195a-7670-4693-f3d6-e7b3c71eaedd"
      },
      "source": [
        "# Konversi model.\n",
        "converter = tf.lite.TFLiteConverter.from_keras_model(model_RN)\n",
        "tflite_model = converter.convert()"
      ],
      "execution_count": 34,
      "outputs": [
        {
          "output_type": "stream",
          "text": [
            "INFO:tensorflow:Assets written to: /tmp/tmphi22m5g4/assets\n"
          ],
          "name": "stdout"
        }
      ]
    },
    {
      "cell_type": "code",
      "metadata": {
        "id": "28HRi_7i1TvL"
      },
      "source": [
        "with tf.io.gfile.GFile('model.tflite', 'wb') as f:\n",
        "  f.write(tflite_model)"
      ],
      "execution_count": 35,
      "outputs": []
    }
  ]
}