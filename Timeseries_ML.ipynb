{
  "nbformat": 4,
  "nbformat_minor": 0,
  "metadata": {
    "colab": {
      "name": "Timeseries ML.ipynb",
      "provenance": [],
      "collapsed_sections": []
    },
    "kernelspec": {
      "display_name": "Python 3",
      "name": "python3"
    },
    "language_info": {
      "name": "python"
    }
  },
  "cells": [
    {
      "cell_type": "markdown",
      "metadata": {
        "id": "_QZnt3sudIzO"
      },
      "source": [
        "**Timeseries Machine Learning by Mahmudin Rizal (Mahmudinrizal11@gmail.com)**\n",
        "\n",
        "Dataset berasal dari kaggle (https://www.kaggle.com/srinuti/residential-power-usage-3years-data-timeseries?select=power_usage_2016_to_2020.csv)"
      ]
    },
    {
      "cell_type": "code",
      "metadata": {
        "id": "9kEcS8m-pqlt"
      },
      "source": [
        "from datetime import datetime, date\n",
        "from keras.preprocessing.sequence import TimeseriesGenerator\n",
        "from sklearn import metrics\n",
        "from sklearn.model_selection import train_test_split\n",
        "from sklearn.preprocessing import MinMaxScaler\n",
        "import matplotlib.pyplot as plt\n",
        "import numpy as np\n",
        "import pandas as pd\n",
        "import tensorflow as tf"
      ],
      "execution_count": 1,
      "outputs": []
    },
    {
      "cell_type": "markdown",
      "metadata": {
        "id": "Et-5vZcFaZMF"
      },
      "source": [
        "**Data Preparation**"
      ]
    },
    {
      "cell_type": "code",
      "metadata": {
        "colab": {
          "base_uri": "https://localhost:8080/",
          "height": 203
        },
        "id": "f0cvMjGPXMCH",
        "outputId": "e7d48b2e-dc22-4c80-ec18-390946b3f29e"
      },
      "source": [
        "df = pd.read_csv('power_usage_2016_to_2020.csv')\n",
        "df.head()"
      ],
      "execution_count": 2,
      "outputs": [
        {
          "output_type": "execute_result",
          "data": {
            "text/html": [
              "<div>\n",
              "<style scoped>\n",
              "    .dataframe tbody tr th:only-of-type {\n",
              "        vertical-align: middle;\n",
              "    }\n",
              "\n",
              "    .dataframe tbody tr th {\n",
              "        vertical-align: top;\n",
              "    }\n",
              "\n",
              "    .dataframe thead th {\n",
              "        text-align: right;\n",
              "    }\n",
              "</style>\n",
              "<table border=\"1\" class=\"dataframe\">\n",
              "  <thead>\n",
              "    <tr style=\"text-align: right;\">\n",
              "      <th></th>\n",
              "      <th>StartDate</th>\n",
              "      <th>Value (kWh)</th>\n",
              "      <th>day_of_week</th>\n",
              "      <th>notes</th>\n",
              "    </tr>\n",
              "  </thead>\n",
              "  <tbody>\n",
              "    <tr>\n",
              "      <th>0</th>\n",
              "      <td>2016-01-06 00:00:00</td>\n",
              "      <td>1.057</td>\n",
              "      <td>2</td>\n",
              "      <td>weekday</td>\n",
              "    </tr>\n",
              "    <tr>\n",
              "      <th>1</th>\n",
              "      <td>2016-01-06 01:00:00</td>\n",
              "      <td>1.171</td>\n",
              "      <td>2</td>\n",
              "      <td>weekday</td>\n",
              "    </tr>\n",
              "    <tr>\n",
              "      <th>2</th>\n",
              "      <td>2016-01-06 02:00:00</td>\n",
              "      <td>0.560</td>\n",
              "      <td>2</td>\n",
              "      <td>weekday</td>\n",
              "    </tr>\n",
              "    <tr>\n",
              "      <th>3</th>\n",
              "      <td>2016-01-06 03:00:00</td>\n",
              "      <td>0.828</td>\n",
              "      <td>2</td>\n",
              "      <td>weekday</td>\n",
              "    </tr>\n",
              "    <tr>\n",
              "      <th>4</th>\n",
              "      <td>2016-01-06 04:00:00</td>\n",
              "      <td>0.932</td>\n",
              "      <td>2</td>\n",
              "      <td>weekday</td>\n",
              "    </tr>\n",
              "  </tbody>\n",
              "</table>\n",
              "</div>"
            ],
            "text/plain": [
              "             StartDate  Value (kWh)  day_of_week    notes\n",
              "0  2016-01-06 00:00:00        1.057            2  weekday\n",
              "1  2016-01-06 01:00:00        1.171            2  weekday\n",
              "2  2016-01-06 02:00:00        0.560            2  weekday\n",
              "3  2016-01-06 03:00:00        0.828            2  weekday\n",
              "4  2016-01-06 04:00:00        0.932            2  weekday"
            ]
          },
          "metadata": {
            "tags": []
          },
          "execution_count": 2
        }
      ]
    },
    {
      "cell_type": "code",
      "metadata": {
        "colab": {
          "base_uri": "https://localhost:8080/"
        },
        "id": "SQsWo7unXmhu",
        "outputId": "99023fd6-60f3-4e4c-82c0-159fdb4d824a"
      },
      "source": [
        "df.shape"
      ],
      "execution_count": 3,
      "outputs": [
        {
          "output_type": "execute_result",
          "data": {
            "text/plain": [
              "(35952, 4)"
            ]
          },
          "metadata": {
            "tags": []
          },
          "execution_count": 3
        }
      ]
    },
    {
      "cell_type": "code",
      "metadata": {
        "colab": {
          "base_uri": "https://localhost:8080/"
        },
        "id": "o8quIjIOXsZF",
        "outputId": "6ae39737-1f62-425e-bd44-82ce216d939c"
      },
      "source": [
        "df.isnull().sum()"
      ],
      "execution_count": 4,
      "outputs": [
        {
          "output_type": "execute_result",
          "data": {
            "text/plain": [
              "StartDate      0\n",
              "Value (kWh)    0\n",
              "day_of_week    0\n",
              "notes          0\n",
              "dtype: int64"
            ]
          },
          "metadata": {
            "tags": []
          },
          "execution_count": 4
        }
      ]
    },
    {
      "cell_type": "code",
      "metadata": {
        "colab": {
          "base_uri": "https://localhost:8080/"
        },
        "id": "qYsFj_nIXzaH",
        "outputId": "c2626010-ea82-4d46-a869-c330991be011"
      },
      "source": [
        "df.info()"
      ],
      "execution_count": 5,
      "outputs": [
        {
          "output_type": "stream",
          "text": [
            "<class 'pandas.core.frame.DataFrame'>\n",
            "RangeIndex: 35952 entries, 0 to 35951\n",
            "Data columns (total 4 columns):\n",
            " #   Column       Non-Null Count  Dtype  \n",
            "---  ------       --------------  -----  \n",
            " 0   StartDate    35952 non-null  object \n",
            " 1   Value (kWh)  35952 non-null  float64\n",
            " 2   day_of_week  35952 non-null  int64  \n",
            " 3   notes        35952 non-null  object \n",
            "dtypes: float64(1), int64(1), object(2)\n",
            "memory usage: 1.1+ MB\n"
          ],
          "name": "stdout"
        }
      ]
    },
    {
      "cell_type": "code",
      "metadata": {
        "id": "UnxXNXz6YMUQ"
      },
      "source": [
        "df.rename(columns={\"StartDate\": \"Datetime\"}, inplace=True)"
      ],
      "execution_count": 6,
      "outputs": []
    },
    {
      "cell_type": "code",
      "metadata": {
        "colab": {
          "base_uri": "https://localhost:8080/",
          "height": 203
        },
        "id": "SlERrwb4YqD9",
        "outputId": "3c507256-8b6b-4150-966b-943d9659c20a"
      },
      "source": [
        "df['Datetime']= pd.to_datetime(df['Datetime'])\n",
        "df = df[['Datetime','Value (kWh)' ]]\n",
        "df.head()"
      ],
      "execution_count": 7,
      "outputs": [
        {
          "output_type": "execute_result",
          "data": {
            "text/html": [
              "<div>\n",
              "<style scoped>\n",
              "    .dataframe tbody tr th:only-of-type {\n",
              "        vertical-align: middle;\n",
              "    }\n",
              "\n",
              "    .dataframe tbody tr th {\n",
              "        vertical-align: top;\n",
              "    }\n",
              "\n",
              "    .dataframe thead th {\n",
              "        text-align: right;\n",
              "    }\n",
              "</style>\n",
              "<table border=\"1\" class=\"dataframe\">\n",
              "  <thead>\n",
              "    <tr style=\"text-align: right;\">\n",
              "      <th></th>\n",
              "      <th>Datetime</th>\n",
              "      <th>Value (kWh)</th>\n",
              "    </tr>\n",
              "  </thead>\n",
              "  <tbody>\n",
              "    <tr>\n",
              "      <th>0</th>\n",
              "      <td>2016-01-06 00:00:00</td>\n",
              "      <td>1.057</td>\n",
              "    </tr>\n",
              "    <tr>\n",
              "      <th>1</th>\n",
              "      <td>2016-01-06 01:00:00</td>\n",
              "      <td>1.171</td>\n",
              "    </tr>\n",
              "    <tr>\n",
              "      <th>2</th>\n",
              "      <td>2016-01-06 02:00:00</td>\n",
              "      <td>0.560</td>\n",
              "    </tr>\n",
              "    <tr>\n",
              "      <th>3</th>\n",
              "      <td>2016-01-06 03:00:00</td>\n",
              "      <td>0.828</td>\n",
              "    </tr>\n",
              "    <tr>\n",
              "      <th>4</th>\n",
              "      <td>2016-01-06 04:00:00</td>\n",
              "      <td>0.932</td>\n",
              "    </tr>\n",
              "  </tbody>\n",
              "</table>\n",
              "</div>"
            ],
            "text/plain": [
              "             Datetime  Value (kWh)\n",
              "0 2016-01-06 00:00:00        1.057\n",
              "1 2016-01-06 01:00:00        1.171\n",
              "2 2016-01-06 02:00:00        0.560\n",
              "3 2016-01-06 03:00:00        0.828\n",
              "4 2016-01-06 04:00:00        0.932"
            ]
          },
          "metadata": {
            "tags": []
          },
          "execution_count": 7
        }
      ]
    },
    {
      "cell_type": "code",
      "metadata": {
        "id": "DzLdESWgaEgF"
      },
      "source": [
        "df['Datetime'] = df['Datetime'].dt.date"
      ],
      "execution_count": 8,
      "outputs": []
    },
    {
      "cell_type": "code",
      "metadata": {
        "colab": {
          "base_uri": "https://localhost:8080/",
          "height": 203
        },
        "id": "oFpsGIKEeeW8",
        "outputId": "fa2497c0-faba-4ac3-a567-3b69183d27b9"
      },
      "source": [
        "df_baru = df.copy()\n",
        "df_baru.head()"
      ],
      "execution_count": 9,
      "outputs": [
        {
          "output_type": "execute_result",
          "data": {
            "text/html": [
              "<div>\n",
              "<style scoped>\n",
              "    .dataframe tbody tr th:only-of-type {\n",
              "        vertical-align: middle;\n",
              "    }\n",
              "\n",
              "    .dataframe tbody tr th {\n",
              "        vertical-align: top;\n",
              "    }\n",
              "\n",
              "    .dataframe thead th {\n",
              "        text-align: right;\n",
              "    }\n",
              "</style>\n",
              "<table border=\"1\" class=\"dataframe\">\n",
              "  <thead>\n",
              "    <tr style=\"text-align: right;\">\n",
              "      <th></th>\n",
              "      <th>Datetime</th>\n",
              "      <th>Value (kWh)</th>\n",
              "    </tr>\n",
              "  </thead>\n",
              "  <tbody>\n",
              "    <tr>\n",
              "      <th>0</th>\n",
              "      <td>2016-01-06</td>\n",
              "      <td>1.057</td>\n",
              "    </tr>\n",
              "    <tr>\n",
              "      <th>1</th>\n",
              "      <td>2016-01-06</td>\n",
              "      <td>1.171</td>\n",
              "    </tr>\n",
              "    <tr>\n",
              "      <th>2</th>\n",
              "      <td>2016-01-06</td>\n",
              "      <td>0.560</td>\n",
              "    </tr>\n",
              "    <tr>\n",
              "      <th>3</th>\n",
              "      <td>2016-01-06</td>\n",
              "      <td>0.828</td>\n",
              "    </tr>\n",
              "    <tr>\n",
              "      <th>4</th>\n",
              "      <td>2016-01-06</td>\n",
              "      <td>0.932</td>\n",
              "    </tr>\n",
              "  </tbody>\n",
              "</table>\n",
              "</div>"
            ],
            "text/plain": [
              "     Datetime  Value (kWh)\n",
              "0  2016-01-06        1.057\n",
              "1  2016-01-06        1.171\n",
              "2  2016-01-06        0.560\n",
              "3  2016-01-06        0.828\n",
              "4  2016-01-06        0.932"
            ]
          },
          "metadata": {
            "tags": []
          },
          "execution_count": 9
        }
      ]
    },
    {
      "cell_type": "code",
      "metadata": {
        "colab": {
          "base_uri": "https://localhost:8080/",
          "height": 234
        },
        "id": "wco4SrVYfchE",
        "outputId": "71984caf-c2b6-4857-ef0d-4ffbe0d43cf8"
      },
      "source": [
        "df_baru = df_baru.set_index('Datetime')\n",
        "df_baru.head()"
      ],
      "execution_count": 10,
      "outputs": [
        {
          "output_type": "execute_result",
          "data": {
            "text/html": [
              "<div>\n",
              "<style scoped>\n",
              "    .dataframe tbody tr th:only-of-type {\n",
              "        vertical-align: middle;\n",
              "    }\n",
              "\n",
              "    .dataframe tbody tr th {\n",
              "        vertical-align: top;\n",
              "    }\n",
              "\n",
              "    .dataframe thead th {\n",
              "        text-align: right;\n",
              "    }\n",
              "</style>\n",
              "<table border=\"1\" class=\"dataframe\">\n",
              "  <thead>\n",
              "    <tr style=\"text-align: right;\">\n",
              "      <th></th>\n",
              "      <th>Value (kWh)</th>\n",
              "    </tr>\n",
              "    <tr>\n",
              "      <th>Datetime</th>\n",
              "      <th></th>\n",
              "    </tr>\n",
              "  </thead>\n",
              "  <tbody>\n",
              "    <tr>\n",
              "      <th>2016-01-06</th>\n",
              "      <td>1.057</td>\n",
              "    </tr>\n",
              "    <tr>\n",
              "      <th>2016-01-06</th>\n",
              "      <td>1.171</td>\n",
              "    </tr>\n",
              "    <tr>\n",
              "      <th>2016-01-06</th>\n",
              "      <td>0.560</td>\n",
              "    </tr>\n",
              "    <tr>\n",
              "      <th>2016-01-06</th>\n",
              "      <td>0.828</td>\n",
              "    </tr>\n",
              "    <tr>\n",
              "      <th>2016-01-06</th>\n",
              "      <td>0.932</td>\n",
              "    </tr>\n",
              "  </tbody>\n",
              "</table>\n",
              "</div>"
            ],
            "text/plain": [
              "            Value (kWh)\n",
              "Datetime               \n",
              "2016-01-06        1.057\n",
              "2016-01-06        1.171\n",
              "2016-01-06        0.560\n",
              "2016-01-06        0.828\n",
              "2016-01-06        0.932"
            ]
          },
          "metadata": {
            "tags": []
          },
          "execution_count": 10
        }
      ]
    },
    {
      "cell_type": "markdown",
      "metadata": {
        "id": "TNi84gn3bOhV"
      },
      "source": [
        "**Plot Data Awal**"
      ]
    },
    {
      "cell_type": "code",
      "metadata": {
        "colab": {
          "base_uri": "https://localhost:8080/",
          "height": 338
        },
        "id": "bGF8RTh8ZJUn",
        "outputId": "6c2d553e-c14e-40dc-ff25-4909c6307806"
      },
      "source": [
        "plt.figure(figsize=(20,5))\n",
        "plt.plot(df_baru)\n",
        "plt.title('Power Usage 2016-2020')\n",
        "plt.xlabel('Date')\n",
        "plt.ylabel('Value (kWh)')\n",
        "plt.show()"
      ],
      "execution_count": 11,
      "outputs": [
        {
          "output_type": "display_data",
          "data": {
            "image/png": "[encoded data removed]",
            "text/plain": [
              "<Figure size 1440x360 with 1 Axes>"
            ]
          },
          "metadata": {
            "tags": [],
            "needs_background": "light"
          }
        }
      ]
    },
    {
      "cell_type": "markdown",
      "metadata": {
        "id": "BPlsj0NvcHHU"
      },
      "source": [
        "**Membuat Model**"
      ]
    },
    {
      "cell_type": "code",
      "metadata": {
        "id": "O3yZRl2LcEp5"
      },
      "source": [
        "Date = df['Datetime'].values\n",
        "Value = df['Value (kWh)'].values"
      ],
      "execution_count": 12,
      "outputs": []
    },
    {
      "cell_type": "code",
      "metadata": {
        "id": "RGMTDdsvgACk"
      },
      "source": [
        "def windowed_dataset(series, window_size, batch_size, shuffle_buffer):\n",
        "    series = tf.expand_dims(series, axis=-1)\n",
        "    ds = tf.data.Dataset.from_tensor_slices(series)\n",
        "    ds = ds.window(window_size + 1, shift=1, drop_remainder=True)\n",
        "    ds = ds.flat_map(lambda w: w.batch(window_size + 1))\n",
        "    ds = ds.shuffle(shuffle_buffer)\n",
        "    ds = ds.map(lambda w: (w[:-1], w[-1:]))\n",
        "    return ds.batch(batch_size).prefetch(1)"
      ],
      "execution_count": 13,
      "outputs": []
    },
    {
      "cell_type": "code",
      "metadata": {
        "id": "ZMKEJ3qjgkkb"
      },
      "source": [
        "value_train, value_test, y_train, y_test = train_test_split(Value, Date, test_size = 0.2, random_state = 42 )"
      ],
      "execution_count": 14,
      "outputs": []
    },
    {
      "cell_type": "code",
      "metadata": {
        "id": "jvhN00aLhUkb"
      },
      "source": [
        "tf.keras.backend.clear_session()\n",
        "\n",
        "train_set = windowed_dataset(value_train, window_size=60, batch_size=100, shuffle_buffer=1000)\n",
        "test_set = windowed_dataset(value_test, window_size=60, batch_size=100, shuffle_buffer=1000)\n",
        "model_ts = tf.keras.models.Sequential([\n",
        "  tf.keras.layers.LSTM(60, return_sequences=True,),\n",
        "  tf.keras.layers.LSTM(30),\n",
        "  tf.keras.layers.Dense(30, activation=\"relu\"),\n",
        "  tf.keras.layers.Dropout(0.3),\n",
        "  tf.keras.layers.Dense(10, activation=\"relu\"),\n",
        "  tf.keras.layers.Dense(1),\n",
        "])"
      ],
      "execution_count": 40,
      "outputs": []
    },
    {
      "cell_type": "code",
      "metadata": {
        "colab": {
          "base_uri": "https://localhost:8080/"
        },
        "id": "zgvzF4UZiHZe",
        "outputId": "a304e491-5fc5-40bc-8c78-68b2453915b5"
      },
      "source": [
        "optimizer = tf.keras.optimizers.SGD(lr=1.0000e-04, momentum=0.9)\n",
        "model_ts.compile(loss=tf.keras.losses.Huber(),\n",
        "              optimizer=optimizer,\n",
        "              metrics=[\"mae\"])"
      ],
      "execution_count": 41,
      "outputs": [
        {
          "output_type": "stream",
          "text": [
            "/usr/local/lib/python3.7/dist-packages/tensorflow/python/keras/optimizer_v2/optimizer_v2.py:375: UserWarning: The `lr` argument is deprecated, use `learning_rate` instead.\n",
            "  \"The `lr` argument is deprecated, use `learning_rate` instead.\")\n"
          ],
          "name": "stderr"
        }
      ]
    },
    {
      "cell_type": "code",
      "metadata": {
        "colab": {
          "base_uri": "https://localhost:8080/"
        },
        "id": "xyFhLaLqsw3G",
        "outputId": "458b603f-8773-4672-8177-fe5937603851"
      },
      "source": [
        "data_scale10 = (df['Value (kWh)'].max() - df['Value (kWh)'].min()) * (9 / 100)\n",
        "data_scale10"
      ],
      "execution_count": 31,
      "outputs": [
        {
          "output_type": "execute_result",
          "data": {
            "text/plain": [
              "0.5743800000000001"
            ]
          },
          "metadata": {
            "tags": []
          },
          "execution_count": 31
        }
      ]
    },
    {
      "cell_type": "code",
      "metadata": {
        "id": "YXKociG3jvbz"
      },
      "source": [
        "# callbacks for early stop when reach our target accuracy\n",
        "accuracy_threshold = 93e-2\n",
        "class our_callbacks(tf.keras.callbacks.Callback):\n",
        "    def on_epoch_end(self, epoch, logs = None):\n",
        "        if (logs.get('mae')< data_scale10):\n",
        "            print('\\nFor Epoch', epoch, '\\nmae < 9% Data Scale. Training has been stopped. Continue to next step')\n",
        "            self.model.stop_training = True"
      ],
      "execution_count": 34,
      "outputs": []
    },
    {
      "cell_type": "code",
      "metadata": {
        "colab": {
          "base_uri": "https://localhost:8080/"
        },
        "id": "yIdZaiSUuM-m",
        "outputId": "e7fd0b08-a2e2-4b4b-b529-9fc2a55a4361"
      },
      "source": [
        "history = model_ts.fit(train_set ,\n",
        "                    epochs=50,  \n",
        "                    callbacks=[our_callbacks()],\n",
        "                    validation_data = test_set,\n",
        "                    verbose=1)"
      ],
      "execution_count": 42,
      "outputs": [
        {
          "output_type": "stream",
          "text": [
            "Epoch 1/50\n",
            "288/288 [==============================] - 37s 96ms/step - loss: 0.4447 - mae: 0.7516 - val_loss: 0.3554 - val_mae: 0.5847\n",
            "Epoch 2/50\n",
            "288/288 [==============================] - 27s 94ms/step - loss: 0.3404 - mae: 0.5792 - val_loss: 0.3014 - val_mae: 0.5513\n",
            "Epoch 3/50\n",
            "288/288 [==============================] - 27s 93ms/step - loss: 0.3081 - mae: 0.5726 - val_loss: 0.2879 - val_mae: 0.5688\n",
            "\n",
            "For Epoch 2 \n",
            "mae < 9% Data Scale. Training has been stopped. Continue to next step\n"
          ],
          "name": "stdout"
        }
      ]
    },
    {
      "cell_type": "markdown",
      "metadata": {
        "id": "X0phWbOGcLCo"
      },
      "source": [
        "**Plot MAE dan loss**"
      ]
    },
    {
      "cell_type": "code",
      "metadata": {
        "colab": {
          "base_uri": "https://localhost:8080/",
          "height": 295
        },
        "id": "2TCBBjsfZ-Pz",
        "outputId": "f0fc6b9c-c449-443e-961b-1f9067a5fca5"
      },
      "source": [
        "plt.plot(history.history['mae'], label='Training MAE', color='blue')\n",
        "plt.plot(history.history['val_mae'], label='Validation MAE', color='red')\n",
        "plt.title('MAE Training & Validation')\n",
        "plt.ylabel('Value')\n",
        "plt.xlabel('Epoch')\n",
        "plt.legend(loc=\"upper right\")\n",
        "plt.show()"
      ],
      "execution_count": 44,
      "outputs": [
        {
          "output_type": "display_data",
          "data": {
            "image/png": "[encoded data removed]",
            "text/plain": [
              "<Figure size 432x288 with 1 Axes>"
            ]
          },
          "metadata": {
            "tags": [],
            "needs_background": "light"
          }
        }
      ]
    },
    {
      "cell_type": "code",
      "metadata": {
        "colab": {
          "base_uri": "https://localhost:8080/",
          "height": 295
        },
        "id": "zXbxLzb-b-yK",
        "outputId": "c855a63b-f6d7-4978-c528-a441001fb1c8"
      },
      "source": [
        "plt.plot(history.history['loss'], label='Training loss', color='blue')\n",
        "plt.plot(history.history['val_loss'], label='Validation loss', color='red')\n",
        "plt.title('loss Training & Validation')\n",
        "plt.ylabel('Value')\n",
        "plt.xlabel('Epoch')\n",
        "plt.legend(loc=\"upper right\")\n",
        "plt.show()"
      ],
      "execution_count": 45,
      "outputs": [
        {
          "output_type": "display_data",
          "data": {
            "image/png": "[encoded data removed]",
            "text/plain": [
              "<Figure size 432x288 with 1 Axes>"
            ]
          },
          "metadata": {
            "tags": [],
            "needs_background": "light"
          }
        }
      ]
    }
  ]
}