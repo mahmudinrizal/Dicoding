{
  "nbformat": 4,
  "nbformat_minor": 0,
  "metadata": {
    "colab": {
      "name": "Kalsifikasi Text - Dicoding 2.ipynb",
      "provenance": [],
      "collapsed_sections": []
    },
    "kernelspec": {
      "name": "python3",
      "display_name": "Python 3"
    },
    "language_info": {
      "name": "python"
    }
  },
  "cells": [
    {
      "cell_type": "markdown",
      "metadata": {
        "id": "Vj4S99yGLh7b"
      },
      "source": [
        "**Text Classification by Mahmudin Rizal (Mahmudinrizal11@gmail.com)**\n",
        "\n",
        "Dalam kasus ini akan diidentifikasi pengelompokan text berdasarkan blockchain domain. Dataset yang digunakan disediakan berasal dari kaggle (https://www.kaggle.com/chiru12/classification-of-class-on-basis-of-text). Data hanya diambil 3 kategori dan di pilih text yg panjangnya lebih dari 3 kata."
      ]
    },
    {
      "cell_type": "markdown",
      "metadata": {
        "id": "DI8W6AjkFMu3"
      },
      "source": [
        "**Data Preparation**"
      ]
    },
    {
      "cell_type": "code",
      "metadata": {
        "id": "PNbPXE9VLeyl"
      },
      "source": [
        "import pandas as pd\n",
        "import numpy as np\n",
        "from sklearn.model_selection import train_test_split\n",
        "from tensorflow.keras.preprocessing.text import Tokenizer\n",
        "from tensorflow.keras.preprocessing.sequence import pad_sequences\n",
        "import matplotlib.pyplot as plt\n",
        "import tensorflow as tf\n",
        "\n"
      ],
      "execution_count": 102,
      "outputs": []
    },
    {
      "cell_type": "code",
      "metadata": {
        "colab": {
          "base_uri": "https://localhost:8080/",
          "height": 417
        },
        "id": "Bner9TNPMav6",
        "outputId": "6e464ec8-8bc0-4940-d786-a27af4d87776"
      },
      "source": [
        "df = pd.read_csv('root2ai - Data.csv')\n",
        "df"
      ],
      "execution_count": 138,
      "outputs": [
        {
          "output_type": "execute_result",
          "data": {
            "text/html": [
              "<div>\n",
              "<style scoped>\n",
              "    .dataframe tbody tr th:only-of-type {\n",
              "        vertical-align: middle;\n",
              "    }\n",
              "\n",
              "    .dataframe tbody tr th {\n",
              "        vertical-align: top;\n",
              "    }\n",
              "\n",
              "    .dataframe thead th {\n",
              "        text-align: right;\n",
              "    }\n",
              "</style>\n",
              "<table border=\"1\" class=\"dataframe\">\n",
              "  <thead>\n",
              "    <tr style=\"text-align: right;\">\n",
              "      <th></th>\n",
              "      <th>Text</th>\n",
              "      <th>Target</th>\n",
              "    </tr>\n",
              "  </thead>\n",
              "  <tbody>\n",
              "    <tr>\n",
              "      <th>0</th>\n",
              "      <td>reserve bank forming expert committee based in...</td>\n",
              "      <td>Blockchain</td>\n",
              "    </tr>\n",
              "    <tr>\n",
              "      <th>1</th>\n",
              "      <td>director could play role financial system</td>\n",
              "      <td>Blockchain</td>\n",
              "    </tr>\n",
              "    <tr>\n",
              "      <th>2</th>\n",
              "      <td>preliminary discuss secure transaction study r...</td>\n",
              "      <td>Blockchain</td>\n",
              "    </tr>\n",
              "    <tr>\n",
              "      <th>3</th>\n",
              "      <td>security indeed prove essential transforming f...</td>\n",
              "      <td>Blockchain</td>\n",
              "    </tr>\n",
              "    <tr>\n",
              "      <th>4</th>\n",
              "      <td>bank settlement normally take three days based...</td>\n",
              "      <td>Blockchain</td>\n",
              "    </tr>\n",
              "    <tr>\n",
              "      <th>...</th>\n",
              "      <td>...</td>\n",
              "      <td>...</td>\n",
              "    </tr>\n",
              "    <tr>\n",
              "      <th>22699</th>\n",
              "      <td>fourth study discusses blockchain technology e...</td>\n",
              "      <td>Reg Tech</td>\n",
              "    </tr>\n",
              "    <tr>\n",
              "      <th>22700</th>\n",
              "      <td>book finishes stating biggest issue emerging F...</td>\n",
              "      <td>Reg Tech</td>\n",
              "    </tr>\n",
              "    <tr>\n",
              "      <th>22701</th>\n",
              "      <td>people culture cess</td>\n",
              "      <td>Reg Tech</td>\n",
              "    </tr>\n",
              "    <tr>\n",
              "      <th>22702</th>\n",
              "      <td>author challenges execu tive lead change stop ...</td>\n",
              "      <td>Reg Tech</td>\n",
              "    </tr>\n",
              "    <tr>\n",
              "      <th>22703</th>\n",
              "      <td>change data driven culture come bottom must start</td>\n",
              "      <td>Reg Tech</td>\n",
              "    </tr>\n",
              "  </tbody>\n",
              "</table>\n",
              "<p>22704 rows × 2 columns</p>\n",
              "</div>"
            ],
            "text/plain": [
              "                                                    Text      Target\n",
              "0      reserve bank forming expert committee based in...  Blockchain\n",
              "1              director could play role financial system  Blockchain\n",
              "2      preliminary discuss secure transaction study r...  Blockchain\n",
              "3      security indeed prove essential transforming f...  Blockchain\n",
              "4      bank settlement normally take three days based...  Blockchain\n",
              "...                                                  ...         ...\n",
              "22699  fourth study discusses blockchain technology e...    Reg Tech\n",
              "22700  book finishes stating biggest issue emerging F...    Reg Tech\n",
              "22701                                people culture cess    Reg Tech\n",
              "22702  author challenges execu tive lead change stop ...    Reg Tech\n",
              "22703  change data driven culture come bottom must start    Reg Tech\n",
              "\n",
              "[22704 rows x 2 columns]"
            ]
          },
          "metadata": {
            "tags": []
          },
          "execution_count": 138
        }
      ]
    },
    {
      "cell_type": "code",
      "metadata": {
        "colab": {
          "base_uri": "https://localhost:8080/"
        },
        "id": "PlmmrpwvMn8d",
        "outputId": "0b93ed80-c4b7-4034-df10-12e8a8a4a1ea"
      },
      "source": [
        "df.Target.value_counts()"
      ],
      "execution_count": 105,
      "outputs": [
        {
          "output_type": "execute_result",
          "data": {
            "text/plain": [
              "FinTech             8551\n",
              "Cyber Security      2640\n",
              "Bigdata             2267\n",
              "Reg Tech            2206\n",
              "credit reporting    1748\n",
              "Blockchain          1375\n",
              "Neobanks            1069\n",
              "Microservices        977\n",
              "Stock Trading        787\n",
              "Robo Advising        737\n",
              "Data Security        347\n",
              "Name: Target, dtype: int64"
            ]
          },
          "metadata": {
            "tags": []
          },
          "execution_count": 105
        }
      ]
    },
    {
      "cell_type": "code",
      "metadata": {
        "colab": {
          "base_uri": "https://localhost:8080/"
        },
        "id": "DvMhymthM2-R",
        "outputId": "69d7b272-3010-4898-a0f8-c9f12fa08312"
      },
      "source": [
        "df.Target.isnull().sum()"
      ],
      "execution_count": 106,
      "outputs": [
        {
          "output_type": "execute_result",
          "data": {
            "text/plain": [
              "0"
            ]
          },
          "metadata": {
            "tags": []
          },
          "execution_count": 106
        }
      ]
    },
    {
      "cell_type": "code",
      "metadata": {
        "colab": {
          "base_uri": "https://localhost:8080/"
        },
        "id": "6ExAVmF2RDDU",
        "outputId": "0c4f256b-1e7b-4204-e301-9ba560268842"
      },
      "source": [
        "df.Text.isnull().sum()"
      ],
      "execution_count": 107,
      "outputs": [
        {
          "output_type": "execute_result",
          "data": {
            "text/plain": [
              "3"
            ]
          },
          "metadata": {
            "tags": []
          },
          "execution_count": 107
        }
      ]
    },
    {
      "cell_type": "code",
      "metadata": {
        "id": "VAckp7s7Rvs7"
      },
      "source": [
        "df = df.dropna()"
      ],
      "execution_count": 139,
      "outputs": []
    },
    {
      "cell_type": "code",
      "metadata": {
        "colab": {
          "base_uri": "https://localhost:8080/"
        },
        "id": "286ClRSgOVPM",
        "outputId": "1006c6e4-e0c6-4fe9-dc31-fcf66b3b3e64"
      },
      "source": [
        "df.isnull().sum()"
      ],
      "execution_count": 140,
      "outputs": [
        {
          "output_type": "execute_result",
          "data": {
            "text/plain": [
              "Text      0\n",
              "Target    0\n",
              "dtype: int64"
            ]
          },
          "metadata": {
            "tags": []
          },
          "execution_count": 140
        }
      ]
    },
    {
      "cell_type": "code",
      "metadata": {
        "colab": {
          "base_uri": "https://localhost:8080/"
        },
        "id": "ZgvnZWyQfSvk",
        "outputId": "8defa7bd-6324-47d6-bf38-5978e00df7df"
      },
      "source": [
        "df.drop_duplicates(inplace=True)"
      ],
      "execution_count": 141,
      "outputs": [
        {
          "output_type": "stream",
          "text": [
            "/usr/local/lib/python3.7/dist-packages/ipykernel_launcher.py:1: SettingWithCopyWarning: \n",
            "A value is trying to be set on a copy of a slice from a DataFrame\n",
            "\n",
            "See the caveats in the documentation: https://pandas.pydata.org/pandas-docs/stable/user_guide/indexing.html#returning-a-view-versus-a-copy\n",
            "  \"\"\"Entry point for launching an IPython kernel.\n"
          ],
          "name": "stderr"
        }
      ]
    },
    {
      "cell_type": "code",
      "metadata": {
        "colab": {
          "base_uri": "https://localhost:8080/",
          "height": 417
        },
        "id": "uxuUHzcHfeh4",
        "outputId": "52e9978c-5ce1-45cd-e659-e225643a7bc2"
      },
      "source": [
        "df"
      ],
      "execution_count": 142,
      "outputs": [
        {
          "output_type": "execute_result",
          "data": {
            "text/html": [
              "<div>\n",
              "<style scoped>\n",
              "    .dataframe tbody tr th:only-of-type {\n",
              "        vertical-align: middle;\n",
              "    }\n",
              "\n",
              "    .dataframe tbody tr th {\n",
              "        vertical-align: top;\n",
              "    }\n",
              "\n",
              "    .dataframe thead th {\n",
              "        text-align: right;\n",
              "    }\n",
              "</style>\n",
              "<table border=\"1\" class=\"dataframe\">\n",
              "  <thead>\n",
              "    <tr style=\"text-align: right;\">\n",
              "      <th></th>\n",
              "      <th>Text</th>\n",
              "      <th>Target</th>\n",
              "    </tr>\n",
              "  </thead>\n",
              "  <tbody>\n",
              "    <tr>\n",
              "      <th>0</th>\n",
              "      <td>reserve bank forming expert committee based in...</td>\n",
              "      <td>Blockchain</td>\n",
              "    </tr>\n",
              "    <tr>\n",
              "      <th>1</th>\n",
              "      <td>director could play role financial system</td>\n",
              "      <td>Blockchain</td>\n",
              "    </tr>\n",
              "    <tr>\n",
              "      <th>2</th>\n",
              "      <td>preliminary discuss secure transaction study r...</td>\n",
              "      <td>Blockchain</td>\n",
              "    </tr>\n",
              "    <tr>\n",
              "      <th>3</th>\n",
              "      <td>security indeed prove essential transforming f...</td>\n",
              "      <td>Blockchain</td>\n",
              "    </tr>\n",
              "    <tr>\n",
              "      <th>4</th>\n",
              "      <td>bank settlement normally take three days based...</td>\n",
              "      <td>Blockchain</td>\n",
              "    </tr>\n",
              "    <tr>\n",
              "      <th>...</th>\n",
              "      <td>...</td>\n",
              "      <td>...</td>\n",
              "    </tr>\n",
              "    <tr>\n",
              "      <th>22699</th>\n",
              "      <td>fourth study discusses blockchain technology e...</td>\n",
              "      <td>Reg Tech</td>\n",
              "    </tr>\n",
              "    <tr>\n",
              "      <th>22700</th>\n",
              "      <td>book finishes stating biggest issue emerging F...</td>\n",
              "      <td>Reg Tech</td>\n",
              "    </tr>\n",
              "    <tr>\n",
              "      <th>22701</th>\n",
              "      <td>people culture cess</td>\n",
              "      <td>Reg Tech</td>\n",
              "    </tr>\n",
              "    <tr>\n",
              "      <th>22702</th>\n",
              "      <td>author challenges execu tive lead change stop ...</td>\n",
              "      <td>Reg Tech</td>\n",
              "    </tr>\n",
              "    <tr>\n",
              "      <th>22703</th>\n",
              "      <td>change data driven culture come bottom must start</td>\n",
              "      <td>Reg Tech</td>\n",
              "    </tr>\n",
              "  </tbody>\n",
              "</table>\n",
              "<p>21103 rows × 2 columns</p>\n",
              "</div>"
            ],
            "text/plain": [
              "                                                    Text      Target\n",
              "0      reserve bank forming expert committee based in...  Blockchain\n",
              "1              director could play role financial system  Blockchain\n",
              "2      preliminary discuss secure transaction study r...  Blockchain\n",
              "3      security indeed prove essential transforming f...  Blockchain\n",
              "4      bank settlement normally take three days based...  Blockchain\n",
              "...                                                  ...         ...\n",
              "22699  fourth study discusses blockchain technology e...    Reg Tech\n",
              "22700  book finishes stating biggest issue emerging F...    Reg Tech\n",
              "22701                                people culture cess    Reg Tech\n",
              "22702  author challenges execu tive lead change stop ...    Reg Tech\n",
              "22703  change data driven culture come bottom must start    Reg Tech\n",
              "\n",
              "[21103 rows x 2 columns]"
            ]
          },
          "metadata": {
            "tags": []
          },
          "execution_count": 142
        }
      ]
    },
    {
      "cell_type": "code",
      "metadata": {
        "id": "UdHfkIuT0sAU"
      },
      "source": [
        "pilihan = ['Cyber Security','Bigdata','Reg Tech']"
      ],
      "execution_count": 143,
      "outputs": []
    },
    {
      "cell_type": "code",
      "metadata": {
        "id": "p_EUnCo01CBc"
      },
      "source": [
        "df = df[df['Target'].isin(pilihan)]"
      ],
      "execution_count": 144,
      "outputs": []
    },
    {
      "cell_type": "code",
      "metadata": {
        "colab": {
          "base_uri": "https://localhost:8080/"
        },
        "id": "sJDm3Pd81KC8",
        "outputId": "1c1ccba4-8784-4504-bfdf-d2589d6958a6"
      },
      "source": [
        "df.Target.value_counts()"
      ],
      "execution_count": 145,
      "outputs": [
        {
          "output_type": "execute_result",
          "data": {
            "text/plain": [
              "Cyber Security    2472\n",
              "Bigdata           1792\n",
              "Reg Tech          1734\n",
              "Name: Target, dtype: int64"
            ]
          },
          "metadata": {
            "tags": []
          },
          "execution_count": 145
        }
      ]
    },
    {
      "cell_type": "code",
      "metadata": {
        "id": "2maHQQYpium7"
      },
      "source": [
        "df = df.sample(frac=1).reset_index(drop=True)"
      ],
      "execution_count": 146,
      "outputs": []
    },
    {
      "cell_type": "code",
      "metadata": {
        "id": "PVHz6edJj1-7"
      },
      "source": [
        "df['Text'] = df['Text'].str.replace('[^\\w\\s]','')"
      ],
      "execution_count": 147,
      "outputs": []
    },
    {
      "cell_type": "code",
      "metadata": {
        "id": "XekQYF7_ZUQA"
      },
      "source": [
        "df = df[df['Text'].apply(lambda x: len(x.split(' ')) > 3)]"
      ],
      "execution_count": 148,
      "outputs": []
    },
    {
      "cell_type": "code",
      "metadata": {
        "colab": {
          "base_uri": "https://localhost:8080/",
          "height": 417
        },
        "id": "AnmDr8l7axag",
        "outputId": "9bdd6245-e3cb-464d-b9b8-f31203daf1da"
      },
      "source": [
        "df"
      ],
      "execution_count": 149,
      "outputs": [
        {
          "output_type": "execute_result",
          "data": {
            "text/html": [
              "<div>\n",
              "<style scoped>\n",
              "    .dataframe tbody tr th:only-of-type {\n",
              "        vertical-align: middle;\n",
              "    }\n",
              "\n",
              "    .dataframe tbody tr th {\n",
              "        vertical-align: top;\n",
              "    }\n",
              "\n",
              "    .dataframe thead th {\n",
              "        text-align: right;\n",
              "    }\n",
              "</style>\n",
              "<table border=\"1\" class=\"dataframe\">\n",
              "  <thead>\n",
              "    <tr style=\"text-align: right;\">\n",
              "      <th></th>\n",
              "      <th>Text</th>\n",
              "      <th>Target</th>\n",
              "    </tr>\n",
              "  </thead>\n",
              "  <tbody>\n",
              "    <tr>\n",
              "      <th>0</th>\n",
              "      <td>state apply national fair unfair deceptive deb...</td>\n",
              "      <td>Cyber Security</td>\n",
              "    </tr>\n",
              "    <tr>\n",
              "      <th>1</th>\n",
              "      <td>moreover palpable limitation capacity test sca...</td>\n",
              "      <td>Cyber Security</td>\n",
              "    </tr>\n",
              "    <tr>\n",
              "      <th>2</th>\n",
              "      <td>mandatory nature represent guidance based deve...</td>\n",
              "      <td>Cyber Security</td>\n",
              "    </tr>\n",
              "    <tr>\n",
              "      <th>3</th>\n",
              "      <td>These central focus context appropriate regula...</td>\n",
              "      <td>Reg Tech</td>\n",
              "    </tr>\n",
              "    <tr>\n",
              "      <th>4</th>\n",
              "      <td>given infancy growing rapid pace government co...</td>\n",
              "      <td>Cyber Security</td>\n",
              "    </tr>\n",
              "    <tr>\n",
              "      <th>...</th>\n",
              "      <td>...</td>\n",
              "      <td>...</td>\n",
              "    </tr>\n",
              "    <tr>\n",
              "      <th>5992</th>\n",
              "      <td>Kate Report Global RegTech Billion Opportunity...</td>\n",
              "      <td>Reg Tech</td>\n",
              "    </tr>\n",
              "    <tr>\n",
              "      <th>5993</th>\n",
              "      <td>conclusion nature application attack reconnais...</td>\n",
              "      <td>Cyber Security</td>\n",
              "    </tr>\n",
              "    <tr>\n",
              "      <th>5995</th>\n",
              "      <td>towards security digital scope ecosystem decis...</td>\n",
              "      <td>Cyber Security</td>\n",
              "    </tr>\n",
              "    <tr>\n",
              "      <th>5996</th>\n",
              "      <td>argue transformative nature technology capture...</td>\n",
              "      <td>Reg Tech</td>\n",
              "    </tr>\n",
              "    <tr>\n",
              "      <th>5997</th>\n",
              "      <td>data analytics healthcare promise potential</td>\n",
              "      <td>Bigdata</td>\n",
              "    </tr>\n",
              "  </tbody>\n",
              "</table>\n",
              "<p>4825 rows × 2 columns</p>\n",
              "</div>"
            ],
            "text/plain": [
              "                                                   Text          Target\n",
              "0     state apply national fair unfair deceptive deb...  Cyber Security\n",
              "1     moreover palpable limitation capacity test sca...  Cyber Security\n",
              "2     mandatory nature represent guidance based deve...  Cyber Security\n",
              "3     These central focus context appropriate regula...        Reg Tech\n",
              "4     given infancy growing rapid pace government co...  Cyber Security\n",
              "...                                                 ...             ...\n",
              "5992  Kate Report Global RegTech Billion Opportunity...        Reg Tech\n",
              "5993  conclusion nature application attack reconnais...  Cyber Security\n",
              "5995  towards security digital scope ecosystem decis...  Cyber Security\n",
              "5996  argue transformative nature technology capture...        Reg Tech\n",
              "5997        data analytics healthcare promise potential         Bigdata\n",
              "\n",
              "[4825 rows x 2 columns]"
            ]
          },
          "metadata": {
            "tags": []
          },
          "execution_count": 149
        }
      ]
    },
    {
      "cell_type": "markdown",
      "metadata": {
        "id": "o89sJR_mNEet"
      },
      "source": [
        "**Mengubah label kategori menjadi one hot encoding dengan dummy variabel**"
      ]
    },
    {
      "cell_type": "code",
      "metadata": {
        "colab": {
          "base_uri": "https://localhost:8080/",
          "height": 203
        },
        "id": "7AHrI3a-M_aE",
        "outputId": "5cabe077-6782-4746-b9a7-e4102e031539"
      },
      "source": [
        "category = pd.get_dummies(df.Target)\n",
        "df_baru = pd.concat([df, category], axis=1)\n",
        "df_baru = df_baru.drop(columns=['Target'])\n",
        "df_baru.head()"
      ],
      "execution_count": 150,
      "outputs": [
        {
          "output_type": "execute_result",
          "data": {
            "text/html": [
              "<div>\n",
              "<style scoped>\n",
              "    .dataframe tbody tr th:only-of-type {\n",
              "        vertical-align: middle;\n",
              "    }\n",
              "\n",
              "    .dataframe tbody tr th {\n",
              "        vertical-align: top;\n",
              "    }\n",
              "\n",
              "    .dataframe thead th {\n",
              "        text-align: right;\n",
              "    }\n",
              "</style>\n",
              "<table border=\"1\" class=\"dataframe\">\n",
              "  <thead>\n",
              "    <tr style=\"text-align: right;\">\n",
              "      <th></th>\n",
              "      <th>Text</th>\n",
              "      <th>Bigdata</th>\n",
              "      <th>Cyber Security</th>\n",
              "      <th>Reg Tech</th>\n",
              "    </tr>\n",
              "  </thead>\n",
              "  <tbody>\n",
              "    <tr>\n",
              "      <th>0</th>\n",
              "      <td>state apply national fair unfair deceptive deb...</td>\n",
              "      <td>0</td>\n",
              "      <td>1</td>\n",
              "      <td>0</td>\n",
              "    </tr>\n",
              "    <tr>\n",
              "      <th>1</th>\n",
              "      <td>moreover palpable limitation capacity test sca...</td>\n",
              "      <td>0</td>\n",
              "      <td>1</td>\n",
              "      <td>0</td>\n",
              "    </tr>\n",
              "    <tr>\n",
              "      <th>2</th>\n",
              "      <td>mandatory nature represent guidance based deve...</td>\n",
              "      <td>0</td>\n",
              "      <td>1</td>\n",
              "      <td>0</td>\n",
              "    </tr>\n",
              "    <tr>\n",
              "      <th>3</th>\n",
              "      <td>These central focus context appropriate regula...</td>\n",
              "      <td>0</td>\n",
              "      <td>0</td>\n",
              "      <td>1</td>\n",
              "    </tr>\n",
              "    <tr>\n",
              "      <th>4</th>\n",
              "      <td>given infancy growing rapid pace government co...</td>\n",
              "      <td>0</td>\n",
              "      <td>1</td>\n",
              "      <td>0</td>\n",
              "    </tr>\n",
              "  </tbody>\n",
              "</table>\n",
              "</div>"
            ],
            "text/plain": [
              "                                                Text  ...  Reg Tech\n",
              "0  state apply national fair unfair deceptive deb...  ...         0\n",
              "1  moreover palpable limitation capacity test sca...  ...         0\n",
              "2  mandatory nature represent guidance based deve...  ...         0\n",
              "3  These central focus context appropriate regula...  ...         1\n",
              "4  given infancy growing rapid pace government co...  ...         0\n",
              "\n",
              "[5 rows x 4 columns]"
            ]
          },
          "metadata": {
            "tags": []
          },
          "execution_count": 150
        }
      ]
    },
    {
      "cell_type": "code",
      "metadata": {
        "id": "ws6NdA1zNP8B"
      },
      "source": [
        "df_baru.Text = df_baru.Text.str.lower()"
      ],
      "execution_count": 151,
      "outputs": []
    },
    {
      "cell_type": "code",
      "metadata": {
        "id": "esW7OOVpNZub"
      },
      "source": [
        "text = df_baru['Text'].values\n",
        "label = df_baru[['Cyber Security',\n",
        "                 'Bigdata',\n",
        "                 'Reg Tech']].values"
      ],
      "execution_count": 153,
      "outputs": []
    },
    {
      "cell_type": "code",
      "metadata": {
        "colab": {
          "base_uri": "https://localhost:8080/"
        },
        "id": "Bovy1wNmOF1V",
        "outputId": "8c60a144-86ab-4380-f770-2056760b7bf1"
      },
      "source": [
        "text"
      ],
      "execution_count": 154,
      "outputs": [
        {
          "output_type": "execute_result",
          "data": {
            "text/plain": [
              "array(['state apply national fair unfair deceptive debt collection also apply',\n",
              "       'moreover palpable limitation capacity test scale security testing laboratory',\n",
              "       'mandatory nature represent guidance based develop operational',\n",
              "       ...,\n",
              "       'towards security digital scope ecosystem decision must evaluate threat incident matrix',\n",
              "       'argue transformative nature technology captured approach nexus data digital identity regulation',\n",
              "       'data analytics healthcare promise potential'], dtype=object)"
            ]
          },
          "metadata": {
            "tags": []
          },
          "execution_count": 154
        }
      ]
    },
    {
      "cell_type": "code",
      "metadata": {
        "colab": {
          "base_uri": "https://localhost:8080/"
        },
        "id": "wWWjjGInOIKZ",
        "outputId": "a40d0095-be7e-48e4-bbcc-40aef3d8d4bc"
      },
      "source": [
        "label"
      ],
      "execution_count": 155,
      "outputs": [
        {
          "output_type": "execute_result",
          "data": {
            "text/plain": [
              "array([[1, 0, 0],\n",
              "       [1, 0, 0],\n",
              "       [1, 0, 0],\n",
              "       ...,\n",
              "       [1, 0, 0],\n",
              "       [0, 0, 1],\n",
              "       [0, 1, 0]], dtype=uint8)"
            ]
          },
          "metadata": {
            "tags": []
          },
          "execution_count": 155
        }
      ]
    },
    {
      "cell_type": "markdown",
      "metadata": {
        "id": "oP5qj318ONnE"
      },
      "source": [
        "**Membagi data untuk training dan data untuk testing**"
      ]
    },
    {
      "cell_type": "code",
      "metadata": {
        "id": "_FN8USjLOLAc"
      },
      "source": [
        "from sklearn.model_selection import train_test_split\n",
        "text_train, text_test, label_train, label_test = train_test_split(text, label, test_size=0.2, random_state=42, shuffle=True)"
      ],
      "execution_count": 156,
      "outputs": []
    },
    {
      "cell_type": "markdown",
      "metadata": {
        "id": "lfO2bPn-OYJV"
      },
      "source": [
        "**Tokenisasi**"
      ]
    },
    {
      "cell_type": "code",
      "metadata": {
        "id": "H0pLyvsYOWWk"
      },
      "source": [
        "tokenizer = Tokenizer(num_words=4000, oov_token='-')\n",
        "tokenizer.fit_on_texts(text_train) \n",
        "tokenizer.fit_on_texts(text_test)\n",
        " \n",
        "sequen_train = tokenizer.texts_to_sequences(text_train)\n",
        "sequen_test = tokenizer.texts_to_sequences(text_test)\n",
        " \n",
        "padded_train = pad_sequences(sequen_train) \n",
        "padded_test = pad_sequences(sequen_test)"
      ],
      "execution_count": 157,
      "outputs": []
    },
    {
      "cell_type": "code",
      "metadata": {
        "colab": {
          "base_uri": "https://localhost:8080/"
        },
        "id": "ZocZ2gwJSMRT",
        "outputId": "d8a5f7c5-2bb9-44d4-bf04-4007b4436d67"
      },
      "source": [
        "print(tokenizer.word_index)"
      ],
      "execution_count": 158,
      "outputs": [
        {
          "output_type": "stream",
          "text": [
            "{'-': 1, 'data': 2, 'financial': 3, 'security': 4, 'digital': 5, 'regulatory': 6, 'technology': 7, 'information': 8, 'risk': 9, 'fintech': 10, 'market': 11, 'regtech': 12, 'also': 13, 'banking': 14, 'sector': 15, 'industry': 16, 'bank': 17, 'payment': 18, 'compliance': 19, 'based': 20, 'business': 21, 'management': 22, 'system': 23, 'regulators': 24, 'services': 25, 'innovation': 26, 'this': 27, 'mobile': 28, 'time': 29, 'development': 30, 'customer': 31, 'international': 32, 'need': 33, 'framework': 34, 'institutions': 35, 'global': 36, 'regulation': 37, 'sandbox': 38, 'access': 39, 'analysis': 40, 'service': 41, 'protection': 42, 'companies': 43, 'potential': 44, 'national': 45, 'systems': 46, 'government': 47, 'finance': 48, 'large': 49, 'must': 50, 'process': 51, 'used': 52, 'markets': 53, 'could': 54, 'provide': 55, 'infrastructure': 56, 'well': 57, 'banks': 58, 'requirements': 59, 'across': 60, 'approach': 61, 'analytics': 62, 'major': 63, 'critical': 64, 'however': 65, 'within': 66, 'future': 67, 'credit': 68, 'world': 69, 'personal': 70, 'testing': 71, 'technological': 72, 'transaction': 73, 'make': 74, 'many': 75, 'would': 76, 'application': 77, 'reporting': 78, 'ecosystem': 79, 'adoption': 80, 'include': 81, 'like': 82, 'report': 83, 'technologies': 84, 'example': 85, 'real': 86, 'first': 87, 'policy': 88, 'specific': 89, 'research': 90, 'different': 91, 'network': 92, 'authentication': 93, 'user': 94, 'various': 95, 'towards': 96, 'help': 97, 'money': 98, 'trading': 99, 'value': 100, 'crisis': 101, 'level': 102, 'response': 103, 'focus': 104, 'important': 105, 'consumer': 106, 'solutions': 107, 'challenges': 108, 'number': 109, 'tools': 110, 'committee': 111, 'these': 112, 'traditional': 113, 'cost': 114, 'social': 115, 'card': 116, 'secure': 117, 'start': 118, 'often': 119, 'intelligence': 120, 'capital': 121, 'while': 122, 'privacy': 123, 'related': 124, 'businesses': 125, 'order': 126, 'increasing': 127, 'investment': 128, 'company': 129, 'identity': 130, 'support': 131, 'products': 132, 'high': 133, 'processes': 134, 'fraud': 135, 'context': 136, 'driven': 137, 'group': 138, 'particularly': 139, 'product': 140, 'science': 141, 'customers': 142, 'risks': 143, 'create': 144, 'increase': 145, 'growth': 146, 'place': 147, 'platform': 148, 'without': 149, 'best': 150, 'effective': 151, 'learning': 152, 'develop': 153, 'economic': 154, 'innovative': 155, 'even': 156, 'firms': 157, 'china': 158, 'improve': 159, 'monitoring': 160, 'working': 161, 'increasingly': 162, 'public': 163, 'appropriate': 164, 'part': 165, 'including': 166, 'impact': 167, 'using': 168, 'better': 169, 'work': 170, 'since': 171, 'role': 172, 'basel': 173, 'needs': 174, 'settlement': 175, 'individual': 176, 'offer': 177, 'current': 178, 'established': 179, 'ensure': 180, 'internet': 181, 'change': 182, 'section': 183, 'billion': 184, 'exchange': 185, 'third': 186, 'landscape': 187, 'blockchain': 188, 'processing': 189, 'post': 190, 'multiple': 191, 'stability': 192, 'currently': 193, 'study': 194, 'securities': 195, 'common': 196, 'recent': 197, 'take': 198, 'around': 199, 'distributed': 200, 'supervision': 201, 'incident': 202, 'there': 203, 'nature': 204, 'paper': 205, 'following': 206, 'available': 207, 'machine': 208, 'case': 209, 'made': 210, 'cross': 211, 'account': 212, 'enable': 213, 'tech': 214, 'identify': 215, 'costs': 216, 'growing': 217, 'people': 218, 'internal': 219, 'volume': 220, 'google': 221, 'electronic': 222, 'similar': 223, 'efficiency': 224, 'particular': 225, 'developing': 226, 'country': 227, 'become': 228, 'significant': 229, 'central': 230, 'ways': 231, 'much': 232, 'cloud': 233, 'making': 234, 'result': 235, 'space': 236, 'possible': 237, 'especially': 238, 'evolution': 239, 'with': 240, 'operations': 241, 'breach': 242, 'bill': 243, 'allow': 244, 'activity': 245, 'second': 246, 'india': 247, 'private': 248, 'inclusion': 249, 'media': 250, 'massive': 251, 'experience': 252, 'term': 253, 'regulations': 254, 'sensitive': 255, 'reduce': 256, 'models': 257, 'regulator': 258, 'standard': 259, 'technical': 260, 'form': 261, 'authority': 262, 'able': 263, 'strong': 264, 'design': 265, 'state': 266, 'long': 267, 'basis': 268, 'developments': 269, 'chain': 270, 'environment': 271, 'given': 272, 'associated': 273, 'cash': 274, 'relevant': 275, 'legal': 276, 'developed': 277, 'provided': 278, 'good': 279, 'retail': 280, 'model': 281, 'clear': 282, 'facilitate': 283, 'lead': 284, 'survey': 285, 'computer': 286, 'still': 287, 'insurance': 288, 'cent': 289, 'transactions': 290, 'competition': 291, 'insights': 292, 'address': 293, 'supervisory': 294, 'reserve': 295, 'some': 296, 'moreover': 297, 'apply': 298, 'test': 299, 'meet': 300, 'complex': 301, 'integrity': 302, 'certain': 303, 'sources': 304, 'challenge': 305, 'economy': 306, 'additionally': 307, 'early': 308, 'smart': 309, 'approaches': 310, 'solution': 311, 'corporate': 312, 'greater': 313, 'firm': 314, 'open': 315, 'addition': 316, 'awareness': 317, 'countries': 318, 'next': 319, 'million': 320, 'years': 321, 'rules': 322, 'last': 323, 'regulated': 324, 'lack': 325, 'efficient': 326, 'robust': 327, 'monitor': 328, 'according': 329, 'changes': 330, 'institute': 331, 'artificial': 332, 'strategy': 333, 'page': 334, 'providing': 335, 'manage': 336, 'structure': 337, 'today': 338, 'governance': 339, 'forward': 340, 'capacity': 341, 'emergence': 342, 'benefit': 343, 'peer': 344, 'right': 345, 'activities': 346, 'scale': 347, 'rapidly': 348, 'instance': 349, 'special': 350, 'article': 351, 'less': 352, 'issues': 353, 'past': 354, 'allows': 355, 'necessary': 356, 'opportunity': 357, 'control': 358, 'penetration': 359, 'consider': 360, 'implementation': 361, 'decision': 362, 'promote': 363, 'interest': 364, 'understand': 365, 'wide': 366, 'small': 367, 'culture': 368, 'human': 369, 'source': 370, 'clearing': 371, 'therefore': 372, 'another': 373, 'institutional': 374, 'limited': 375, 'united': 376, 'variety': 377, 'users': 378, 'applications': 379, 'storage': 380, 'among': 381, 'systemic': 382, 'sectoral': 383, 'demand': 384, 'designed': 385, 'collaboration': 386, 'terms': 387, 'general': 388, 'consumers': 389, 'view': 390, 'purpose': 391, 'jurisdictions': 392, 'several': 393, 'build': 394, 'thus': 395, 'existing': 396, 'software': 397, 'times': 398, 'identification': 399, 'building': 400, 'sets': 401, 'review': 402, 'usage': 403, 'factor': 404, 'health': 405, 'advanced': 406, 'every': 407, 'three': 408, 'commission': 409, 'database': 410, 'point': 411, 'type': 412, 'domestic': 413, 'federal': 414, 'effectively': 415, 'considered': 416, 'likely': 417, 'structured': 418, 'things': 419, 'enforcement': 420, 'establish': 421, 'fact': 422, 'board': 423, 'initiative': 424, 'online': 425, 'council': 426, 'consent': 427, 'additional': 428, 'note': 429, 'operating': 430, 'currency': 431, 'transformation': 432, 'looking': 433, 'criteria': 434, 'emerging': 435, 'plan': 436, 'inter': 437, 'rise': 438, 'analyze': 439, 'adopted': 440, 'leading': 441, 'scope': 442, 'similarly': 443, 'conduct': 444, 'department': 445, 'avoid': 446, 'ability': 447, 'perspective': 448, 'trade': 449, 'they': 450, 'present': 451, 'offers': 452, 'transfer': 453, 'assets': 454, 'definition': 455, 'power': 456, 'amount': 457, 'march': 458, 'standards': 459, 'trends': 460, 'threat': 461, 'increased': 462, 'setting': 463, 'party': 464, 'makes': 465, 'difficult': 466, 'payments': 467, 'advisory': 468, 'behavior': 469, 'assessment': 470, 'adopt': 471, 'participation': 472, 'trust': 473, 'understanding': 474, 'news': 475, 'states': 476, 'area': 477, 'rapid': 478, 'changing': 479, 'turn': 480, 'perma': 481, 'apps': 482, 'come': 483, 'ledger': 484, 'problems': 485, 'taken': 486, 'taking': 487, 'prevent': 488, 'participants': 489, 'efforts': 490, 'continue': 491, 'fintechs': 492, 'scientists': 493, 'institution': 494, 'from': 495, 'overall': 496, 'safety': 497, 'center': 498, 'border': 499, 'device': 500, 'require': 501, 'share': 502, 'might': 503, 'rather': 504, 'providers': 505, 'quality': 506, 'knowledge': 507, 'look': 508, 'search': 509, 'know': 510, 'fast': 511, 'predict': 512, 'june': 513, 'generally': 514, 'implement': 515, 'size': 516, 'phone': 517, 'reforms': 518, 'range': 519, 'enhanced': 520, 'collected': 521, 'usually': 522, 'practice': 523, 'stage': 524, 'local': 525, 'comprehensive': 526, 'delivery': 527, 'such': 528, 'protect': 529, 'uses': 530, 'entire': 531, 'operational': 532, 'direct': 533, 'tool': 534, 'target': 535, 'opportunities': 536, 'period': 537, 'actions': 538, 'funds': 539, 'commerce': 540, 'previously': 541, 'subject': 542, 'requires': 543, 'potentially': 544, 'algorithms': 545, 'defined': 546, 'date': 547, 'agency': 548, 'required': 549, 'element': 550, 'four': 551, 'recently': 552, 'supra': 553, 'instead': 554, 'engage': 555, 'percent': 556, 'organization': 557, 'speed': 558, 'primary': 559, 'forum': 560, 'vision': 561, 'failure': 562, 'availability': 563, 'regime': 564, 'already': 565, 'strategic': 566, 'verification': 567, 'active': 568, 'broad': 569, 'assess': 570, 'faster': 571, 'typically': 572, 'reach': 573, 'helps': 574, 'transparency': 575, 'office': 576, 'field': 577, 'liquidity': 578, 'manner': 579, 'postcrisis': 580, 'parallel': 581, 'means': 582, 'book': 583, 'year': 584, 'wealth': 585, 'leverage': 586, 'connected': 587, 'least': 588, 'force': 589, 'whether': 590, 'project': 591, 'union': 592, 'main': 593, 'track': 594, 'provides': 595, 'becomes': 596, 'what': 597, 'enhance': 598, 'resources': 599, 'indian': 600, 'lower': 601, 'concept': 602, 'decisions': 603, 'operate': 604, 'competitive': 605, 'higher': 606, 'communication': 607, 'team': 608, 'quantitative': 609, 'prudential': 610, 'explore': 611, 'adequate': 612, 'automated': 613, 'collect': 614, 'organizations': 615, 'architecture': 616, 'focused': 617, 'annual': 618, 'give': 619, 'surveillance': 620, 'globally': 621, 'provider': 622, 'vulnerability': 623, 'resilience': 624, 'bring': 625, 'client': 626, 'anti': 627, 'debit': 628, 'interface': 629, 'unstructured': 630, 'shift': 631, 'essential': 632, 'event': 633, 'comes': 634, 'content': 635, 'foreign': 636, 'done': 637, 'history': 638, 'nonbank': 639, 'european': 640, 'entity': 641, 'side': 642, 'collection': 643, 'unique': 644, 'confidentiality': 645, 'supporting': 646, 'beyond': 647, 'entities': 648, 'find': 649, 'block': 650, 'huge': 651, 'guidance': 652, 'self': 653, 'successful': 654, 'code': 655, 'implemented': 656, 'detection': 657, 'results': 658, 'great': 659, 'drive': 660, 'primarily': 661, 'revolution': 662, 'comply': 663, 'full': 664, 'directly': 665, 'scheme': 666, 'exit': 667, 'pace': 668, 'becoming': 669, 'sites': 670, 'default': 671, 'files': 672, 'japan': 673, 'computing': 674, 'articles': 675, 'transform': 676, 'resulting': 677, 'integration': 678, 'brought': 679, 'although': 680, 'dramatically': 681, 'faced': 682, 'targeted': 683, 'players': 684, 'individuals': 685, 'argue': 686, 'performance': 687, 'carry': 688, 'others': 689, 'predictive': 690, 'indeed': 691, 'handling': 692, 'informed': 693, 'forensic': 694, 'decade': 695, 'creating': 696, 'further': 697, 'techniques': 698, 'play': 699, 'capabilities': 700, 'five': 701, 'regarding': 702, 'reliance': 703, 'formal': 704, 'marketing': 705, 'closely': 706, 'deliver': 707, 'detect': 708, 'task': 709, 'points': 710, 'status': 711, 'seeking': 712, 'single': 713, 'seen': 714, 'white': 715, 'demands': 716, 'clearly': 717, 'ease': 718, 'mandate': 719, 'modeling': 720, 'requisite': 721, 'latest': 722, 'issue': 723, 'automation': 724, 'virtual': 725, 'interaction': 726, 'final': 727, 'types': 728, 'biometric': 729, 'concerned': 730, 'ever': 731, 'clients': 732, 'areas': 733, 'disclosure': 734, 'velocity': 735, 'outside': 736, 'ethics': 737, 'offering': 738, 'staff': 739, 'principles': 740, 'mitigation': 741, 'success': 742, 'deal': 743, 'whole': 744, 'examples': 745, 'furthermore': 746, 'life': 747, 'going': 748, 'agreement': 749, 'action': 750, 'hard': 751, 'list': 752, 'your': 753, 'evidence': 754, 'attack': 755, 'laundering': 756, 'remains': 757, 'true': 758, 'program': 759, 'stock': 760, 'significantly': 761, 'disruption': 762, 'story': 763, 'built': 764, 'political': 765, 'safe': 766, 'perform': 767, 'dynamic': 768, 'paradigm': 769, 'platforms': 770, 'along': 771, 'call': 772, 'fully': 773, 'society': 774, 'evolving': 775, 'together': 776, 'loss': 777, 'upon': 778, 'reports': 779, 'added': 780, 'importance': 781, 'theft': 782, 'fund': 783, 'benefits': 784, 'other': 785, 'detailed': 786, 'grow': 787, 'complexity': 788, 'rate': 789, 'databases': 790, 'lending': 791, 'problem': 792, 'details': 793, 'revenue': 794, 'facebook': 795, 'audit': 796, 'core': 797, 'keep': 798, 'enough': 799, 'maintain': 800, 'mechanism': 801, 'move': 802, 'sophisticated': 803, 'nonbanks': 804, 'called': 805, 'worldwide': 806, 'initiatives': 807, 'handle': 808, 'journal': 809, 'dynamics': 810, 'apple': 811, 'supply': 812, 'finally': 813, 'nearly': 814, 'prevention': 815, 'reducing': 816, 'pressure': 817, 'amounts': 818, 'obligations': 819, 'base': 820, 'mail': 821, 'needed': 822, 'attention': 823, 'gain': 824, 'degree': 825, 'late': 826, 'free': 827, 'house': 828, 'stated': 829, 'manual': 830, 'more': 831, 'century': 832, 'channel': 833, 'frequency': 834, 'scenario': 835, 'sandboxes': 836, 'resolution': 837, 'arner': 838, 'known': 839, 'member': 840, 'sachs': 841, 'protecting': 842, 'that': 843, 'involved': 844, 'started': 845, 'remain': 846, 'found': 847, 'historical': 848, 'deep': 849, 'buckley': 850, 'input': 851, 'live': 852, 'despite': 853, 'applicable': 854, 'internationally': 855, 'andme': 856, 'balance': 857, 'aspect': 858, 'press': 859, 'release': 860, 'question': 861, 'after': 862, 'expand': 863, 'organizational': 864, 'think': 865, 'useful': 866, 'partnership': 867, 'enterprise': 868, 'created': 869, 'longer': 870, 'evaluate': 871, 'integrate': 872, 'commonly': 873, 'policies': 874, 'cybersecurity': 875, 'efficiently': 876, 'engaged': 877, 'encourage': 878, 'agreed': 879, 'included': 880, 'population': 881, 'regard': 882, 'light': 883, 'figure': 884, 'body': 885, 'startups': 886, 'confidence': 887, 'holding': 888, 'specifically': 889, 'algorithmic': 890, 'advantage': 891, 'represents': 892, 'investors': 893, 'education': 894, 'principal': 895, 'recovery': 896, 'fatf': 897, 'policing': 898, 'when': 899, 'discovery': 900, 'store': 901, 'back': 902, 'monetary': 903, 'factors': 904, 'facing': 905, 'petabytes': 906, 'hence': 907, 'provision': 908, 'highly': 909, 'seek': 910, 'laws': 911, 'unlike': 912, 'cannot': 913, 'canada': 914, 'effects': 915, 'physical': 916, 'short': 917, 'creation': 918, 'august': 919, 'tasks': 920, 'jurisdiction': 921, 'devices': 922, 'whilst': 923, 'easily': 924, 'investigation': 925, 'environments': 926, 'discussing': 927, 'almost': 928, 'largely': 929, 'strategies': 930, 'covid': 931, 'treatment': 932, 'publications': 933, 'moving': 934, 'relationship': 935, 'prior': 936, 'actively': 937, 'fraudulent': 938, 'engineering': 939, 'achieve': 940, 'combination': 941, 'macroprudential': 942, 'sharing': 943, 'shared': 944, 'inside': 945, 'stress': 946, 'emergency': 947, 'always': 948, 'levels': 949, 'crime': 950, 'nation': 951, 'mission': 952, 'funding': 953, 'critiques': 954, 'barriers': 955, 'biggest': 956, 'sensors': 957, 'harmonization': 958, 'ethical': 959, 'trend': 960, 'sanctions': 961, 'cases': 962, 'traditionally': 963, 'alternative': 964, 'external': 965, 'published': 966, 'complete': 967, 'progress': 968, 'incumbent': 969, 'simply': 970, 'experiences': 971, 'university': 972, 'powerful': 973, 'quickly': 974, 'hand': 975, 'valuable': 976, 'sectors': 977, 'electronics': 978, 'examine': 979, 'insight': 980, 'emphasis': 981, 'community': 982, 'advances': 983, 'follow': 984, 'mind': 985, 'rule': 986, 'resource': 987, 'characteristics': 988, 'searches': 989, 'proportionate': 990, 'healthcare': 991, 'programs': 992, 'accepted': 993, 'aspects': 994, 'either': 995, 'wallet': 996, 'conference': 997, 'guidelines': 998, 'innovate': 999, 'consequences': 1000, 'purposes': 1001, 'agencies': 1002, 'analytical': 1003, 'represent': 1004, 'july': 1005, 'methods': 1006, 'functions': 1007, 'embrace': 1008, 'collaborate': 1009, 'entry': 1010, 'requirement': 1011, 'april': 1012, 'biometrics': 1013, 'hacker': 1014, 'soundness': 1015, 'digitization': 1016, 'want': 1017, 'underlying': 1018, 'simple': 1019, 'linked': 1020, 'launch': 1021, 'managers': 1022, 'receive': 1023, 'shown': 1024, 'reasonable': 1025, 'applying': 1026, 'approval': 1027, 'medical': 1028, 'modern': 1029, 'beginning': 1030, 'exercise': 1031, 'commercial': 1032, 'financing': 1033, 'asic': 1034, 'thinking': 1035, 'mining': 1036, 'likewise': 1037, 'operation': 1038, 'advice': 1039, 'continuous': 1040, 'generated': 1041, 'amazon': 1042, 'objective': 1043, 'home': 1044, 'reduction': 1045, 'sometimes': 1046, 'robo': 1047, 'loan': 1048, 'industries': 1049, 'suggest': 1050, 'said': 1051, 'rely': 1052, 'unified': 1053, 'merchant': 1054, 'effort': 1055, 'false': 1056, 'generation': 1057, 'experimentation': 1058, 'accord': 1059, 'encryption': 1060, 'court': 1061, 'phase': 1062, 'otherwise': 1063, 'includes': 1064, 'opening': 1065, 'ministry': 1066, 'fundamentally': 1067, 'implementing': 1068, 'powered': 1069, 'namely': 1070, 'delete': 1071, 'reasons': 1072, 'changed': 1073, 'oversight': 1074, 'behavioral': 1075, 'situation': 1076, 'video': 1077, 'coming': 1078, 'save': 1079, 'statistics': 1080, 'predictions': 1081, 'mapreduce': 1082, 'effectiveness': 1083, 'promising': 1084, 'disruptive': 1085, 'statistical': 1086, 'employees': 1087, 'easier': 1088, 'gather': 1089, 'took': 1090, 'scientific': 1091, 'depending': 1092, 'leadership': 1093, 'ongoing': 1094, 'chicago': 1095, 'warehouse': 1096, 'minimum': 1097, 'exposed': 1098, 'charter': 1099, 'license': 1100, 'affected': 1101, 'proposal': 1102, 'transition': 1103, 'implications': 1104, 'connection': 1105, 'forms': 1106, 'studies': 1107, 'numerous': 1108, 'influence': 1109, 'daily': 1110, 'fundamental': 1111, 'combined': 1112, 'undertake': 1113, 'regular': 1114, 'applicant': 1115, 'accessible': 1116, 'really': 1117, 'keeping': 1118, 'hadoop': 1119, 'cart': 1120, 'cell': 1121, 'extensive': 1122, 'enforce': 1123, 'crowdfunding': 1124, 'define': 1125, 'care': 1126, 'derivatives': 1127, 'possibilities': 1128, 'matter': 1129, 'goldman': 1130, 'raised': 1131, 'fines': 1132, 'involves': 1133, 'connectivity': 1134, 'contact': 1135, 'face': 1136, 'tions': 1137, 'largest': 1138, 'convenience': 1139, 'respect': 1140, 'vulnerable': 1141, 'conventional': 1142, 'recommendations': 1143, 'joint': 1144, 'stating': 1145, 'income': 1146, 'ratio': 1147, 'grown': 1148, 'pose': 1149, 'close': 1150, 'mutual': 1151, 'presence': 1152, 'limit': 1153, 'concern': 1154, 'driving': 1155, 'patterns': 1156, 'became': 1157, 'feature': 1158, 'noted': 1159, 'periodic': 1160, 'division': 1161, 'researchers': 1162, 'amongst': 1163, 'push': 1164, 'truly': 1165, 'relation': 1166, 'reflect': 1167, 'integrated': 1168, 'respond': 1169, 'considering': 1170, 'winner': 1171, 'gives': 1172, 'tion': 1173, 'nodal': 1174, 'alone': 1175, 'behaviors': 1176, 'corporation': 1177, 'measure': 1178, 'inherent': 1179, 'person': 1180, 'american': 1181, 'month': 1182, 'automate': 1183, 'exploring': 1184, 'adapt': 1185, 'criminal': 1186, 'days': 1187, 'processed': 1188, 'pandemic': 1189, 'regulate': 1190, 'kent': 1191, 'away': 1192, 'shows': 1193, 'centralized': 1194, 'foster': 1195, 'solve': 1196, 'nasdaq': 1197, 'allowing': 1198, 'concerns': 1199, 'responsible': 1200, 'edge': 1201, 'links': 1202, 'touch': 1203, 'spending': 1204, 'overcome': 1205, 'highlights': 1206, 'analyzed': 1207, 'compensation': 1208, 'investments': 1209, 'underbanked': 1210, 'transformative': 1211, 'phones': 1212, 'loans': 1213, 'engagement': 1214, 'unsafe': 1215, 'applied': 1216, 'responsibility': 1217, 'seamless': 1218, 'terabytes': 1219, 'quite': 1220, 'publicly': 1221, 'under': 1222, 'reliable': 1223, 'most': 1224, 'step': 1225, 'leaders': 1226, 'location': 1227, 'medium': 1228, 'startup': 1229, 'marketplace': 1230, 'transparent': 1231, 'draft': 1232, 'underserved': 1233, 'majority': 1234, 'near': 1235, 'civil': 1236, 'teams': 1237, 'constantly': 1238, 'shadow': 1239, 'remote': 1240, 'reputation': 1241, 'barberis': 1242, 'advance': 1243, 'principle': 1244, 'server': 1245, 'demonstrate': 1246, 'asset': 1247, 'raise': 1248, 'idea': 1249, 'analyzing': 1250, 'easy': 1251, 'choice': 1252, 'comment': 1253, 'association': 1254, 'expanded': 1255, 'sure': 1256, 'impossible': 1257, 'produce': 1258, 'proof': 1259, 'emerge': 1260, 'site': 1261, 'portfolio': 1262, 'accuracy': 1263, 'necessity': 1264, 'probably': 1265, 'malicious': 1266, 'instrument': 1267, 'crowd': 1268, 'practices': 1269, 'exposure': 1270, 'interact': 1271, 'duration': 1272, 'widely': 1273, 'registration': 1274, 'lake': 1275, 'over': 1276, 'annexure': 1277, 'philosophy': 1278, 'explicit': 1279, 'strengthen': 1280, 'evolve': 1281, 'notification': 1282, 'packin': 1283, 'regional': 1284, 'crucial': 1285, 'desired': 1286, 'experts': 1287, 'concepts': 1288, 'prime': 1289, 'advertising': 1290, 'investor': 1291, 'warning': 1292, 'presents': 1293, 'proven': 1294, 'smaller': 1295, 'analyse': 1296, 'flow': 1297, 'personalized': 1298, 'centric': 1299, 'authorities': 1300, 'partner': 1301, 'forecasting': 1302, 'listed': 1303, 'bitcoin': 1304, 'lawmakers': 1305, 'judgment': 1306, 'john': 1307, 'expensive': 1308, 'argues': 1309, 'continuously': 1310, 'experiment': 1311, 'letter': 1312, 'scalable': 1313, 'gathered': 1314, 'dark': 1315, 'vital': 1316, 'cyber': 1317, 'name': 1318, 'morgan': 1319, 'assurance': 1320, 'projects': 1321, 'immediate': 1322, 'umbrella': 1323, 'practical': 1324, 'learn': 1325, 'improvement': 1326, 'notice': 1327, 'here': 1328, 'regulating': 1329, 'transforming': 1330, 'serve': 1331, 'previous': 1332, 'unbanked': 1333, 'england': 1334, 'analyses': 1335, 'periodically': 1336, 'agile': 1337, 'natural': 1338, 'popular': 1339, 'independent': 1340, 'micro': 1341, 'directive': 1342, 'stand': 1343, 'transformed': 1344, 'determine': 1345, 'though': 1346, 'blog': 1347, 'haldane': 1348, 'trace': 1349, 'voice': 1350, 'position': 1351, 'scaling': 1352, 'sufficient': 1353, 'contract': 1354, 'swift': 1355, 'behind': 1356, 'derive': 1357, 'invest': 1358, 'wave': 1359, 'twenty': 1360, 'york': 1361, 'traffic': 1362, 'kind': 1363, 'licensing': 1364, 'techcrunch': 1365, 'innovations': 1366, 'frameworks': 1367, 'completely': 1368, 'evaluation': 1369, 'distribution': 1370, 'array': 1371, 'undertaking': 1372, 'lenders': 1373, 'advisors': 1374, 'getting': 1375, 'reported': 1376, 'volumes': 1377, 'entrepreneurs': 1378, 'broadly': 1379, 'fair': 1380, 'have': 1381, 'introduction': 1382, 'encouraging': 1383, 'their': 1384, 'fall': 1385, 'sampling': 1386, 'execution': 1387, 'guarantee': 1388, 'inadequate': 1389, 'eight': 1390, 'addressing': 1391, 'friendly': 1392, 'conducive': 1393, 'password': 1394, 'offerings': 1395, 'australia': 1396, 'intended': 1397, 'convenient': 1398, 'reduced': 1399, 'dispute': 1400, 'fourth': 1401, 'acceptance': 1402, 'fail': 1403, 'certification': 1404, 'populations': 1405, 'link': 1406, 'thousands': 1407, 'queries': 1408, 'language': 1409, 'outcomes': 1410, 'europe': 1411, 'instruments': 1412, 'believe': 1413, 'makers': 1414, 'nasa': 1415, 'simulations': 1416, 'middle': 1417, 'described': 1418, 'sustainable': 1419, 'nascent': 1420, 'spread': 1421, 'extract': 1422, 'capture': 1423, 'drivers': 1424, 'consultation': 1425, 'appear': 1426, 'appropriately': 1427, 'features': 1428, 'master': 1429, 'anyone': 1430, 'expected': 1431, 'liability': 1432, 'doubt': 1433, 'helping': 1434, 'oracle': 1435, 'acquisition': 1436, 'mandatory': 1437, 'genetic': 1438, 'minister': 1439, 'steps': 1440, 'highlight': 1441, 'constant': 1442, 'thing': 1443, 'enables': 1444, 'series': 1445, 'bodies': 1446, 'flexibility': 1447, 'mark': 1448, 'wake': 1449, 'seems': 1450, 'deloitte': 1451, 'ebay': 1452, 'budget': 1453, 'focuses': 1454, 'wholesale': 1455, 'comptroller': 1456, 'conducted': 1457, 'throughout': 1458, 'guide': 1459, 'supported': 1460, 'picture': 1461, 'domain': 1462, 'meeting': 1463, 'introduced': 1464, 'groups': 1465, 'reliability': 1466, 'chief': 1467, 'thriving': 1468, 'combine': 1469, 'requests': 1470, 'document': 1471, 'difficulty': 1472, 'utah': 1473, 'necessarily': 1474, 'consequently': 1475, 'deploy': 1476, 'sound': 1477, 'congress': 1478, 'parts': 1479, 'metrics': 1480, 'plans': 1481, 'humans': 1482, 'corporations': 1483, 'stack': 1484, 'bureau': 1485, 'smarter': 1486, 'competitors': 1487, 'update': 1488, 'establishment': 1489, 'improving': 1490, 'reference': 1491, 'administration': 1492, 'assessments': 1493, 'experiments': 1494, 'custom': 1495, 'computers': 1496, 'consulting': 1497, 'trillion': 1498, 'entering': 1499, 'teradata': 1500, 'chapter': 1501, 'everyday': 1502, 'restricted': 1503, 'total': 1504, 'approximately': 1505, 'obligation': 1506, 'running': 1507, 'lost': 1508, 'combining': 1509, 'takes': 1510, 'greatly': 1511, 'accurate': 1512, 'extremely': 1513, 'offered': 1514, 'referred': 1515, 'hold': 1516, 'millions': 1517, 'cftc': 1518, 'compa': 1519, 'selling': 1520, 'reform': 1521, 'systemically': 1522, 'ranging': 1523, 'deposit': 1524, 'choose': 1525, 'behaviour': 1526, 'debt': 1527, 'interbank': 1528, 'young': 1529, 'poor': 1530, 'street': 1531, 'expert': 1532, 'depth': 1533, 'logical': 1534, 'industrial': 1535, 'networks': 1536, 'text': 1537, 'boundary': 1538, 'unusual': 1539, 'professionals': 1540, 'inform': 1541, 'altered': 1542, 'method': 1543, 'unregulated': 1544, 'visa': 1545, 'sense': 1546, 'orientation': 1547, 'servers': 1548, 'improved': 1549, 'expect': 1550, 'priority': 1551, 'overview': 1552, 'alliance': 1553, 'america': 1554, 'relational': 1555, 'goals': 1556, 'dramatic': 1557, 'enabled': 1558, 'documents': 1559, 'wherein': 1560, 'turning': 1561, 'mainly': 1562, 'zambia': 1563, 'basic': 1564, 'governments': 1565, 'visualization': 1566, 'parameters': 1567, 'standpoint': 1568, 'executive': 1569, 'impose': 1570, 'because': 1571, 'catalyst': 1572, 'resolve': 1573, 'tracking': 1574, 'climate': 1575, 'severity': 1576, 'proportion': 1577, 'phases': 1578, 'acquire': 1579, 'counter': 1580, 'respecting': 1581, 'effect': 1582, 'excellence': 1583, 'conclusion': 1584, 'arrangement': 1585, 'announces': 1586, 'about': 1587, 'scoring': 1588, 'announced': 1589, 'mechanisms': 1590, 'immediately': 1591, 'normal': 1592, 'engaging': 1593, 'feedback': 1594, 'category': 1595, 'successfully': 1596, 'microsoft': 1597, 'file': 1598, 'extend': 1599, 'sebi': 1600, 'discuss': 1601, 'traded': 1602, 'show': 1603, 'mean': 1604, 'discussion': 1605, 'options': 1606, 'compared': 1607, 'channels': 1608, 'continued': 1609, 'generate': 1610, 'summary': 1611, 'multi': 1612, 'carefully': 1613, 'globalization': 1614, 'felt': 1615, 'enterprises': 1616, 'forthcoming': 1617, 'bangalore': 1618, 'datasets': 1619, 'beneficial': 1620, 'algorithm': 1621, 'actual': 1622, 'utilize': 1623, 'australian': 1624, 'practitioners': 1625, 'analysts': 1626, 'substantial': 1627, 'possibility': 1628, 'obtain': 1629, 'pilot': 1630, 'election': 1631, 'twitter': 1632, 'line': 1633, 'foundation': 1634, 'proposed': 1635, 'gaps': 1636, 'discussed': 1637, 'streams': 1638, 'focusing': 1639, 'suspicious': 1640, 'does': 1641, 'identifiable': 1642, 'began': 1643, 'stance': 1644, 'arising': 1645, 'produced': 1646, 'adaptive': 1647, 'equity': 1648, 'refer': 1649, 'transferred': 1650, 'typical': 1651, 'reason': 1652, 'informal': 1653, 'prove': 1654, 'genuine': 1655, 'cycle': 1656, 'struggle': 1657, 'index': 1658, 'questions': 1659, 'andy': 1660, 'economist': 1661, 'never': 1662, 'investing': 1663, 'heavy': 1664, 'perhaps': 1665, 'predicting': 1666, 'addresses': 1667, 'vast': 1668, 'eligibility': 1669, 'eligible': 1670, 'terrorism': 1671, 'exabytes': 1672, 'clarity': 1673, 'misuse': 1674, 'production': 1675, 'finding': 1676, 'interested': 1677, 'millennials': 1678, 'cfpb': 1679, 'ratings': 1680, 'giving': 1681, 'essentially': 1682, 'serves': 1683, 'coverage': 1684, 'positive': 1685, 'supervisor': 1686, 'operator': 1687, 'average': 1688, 'flexible': 1689, 'leads': 1690, 'word': 1691, 'affecting': 1692, 'class': 1693, 'acceptable': 1694, 'describe': 1695, 'logging': 1696, 'ambit': 1697, 'revolutionize': 1698, 'image': 1699, 'tested': 1700, 'publication': 1701, 'nies': 1702, 'agent': 1703, 'worth': 1704, 'settlements': 1705, 'friction': 1706, 'unprecedented': 1707, 'jurisdictional': 1708, 'hong': 1709, 'singapore': 1710, 'hardware': 1711, 'bamberger': 1712, 'hypothesis': 1713, 'harder': 1714, 'february': 1715, 'brazil': 1716, 'conjunction': 1717, 'creates': 1718, 'financially': 1719, 'critique': 1720, 'senior': 1721, 'careful': 1722, 'manager': 1723, 'wall': 1724, 'intrusion': 1725, 'objectives': 1726, 'importantly': 1727, 'opened': 1728, 'brand': 1729, 'sent': 1730, 'geographical': 1731, 'examination': 1732, 'heavily': 1733, 'hacking': 1734, 'diverse': 1735, 'thought': 1736, 'limiting': 1737, 'considers': 1738, 'poverty': 1739, 'incentive': 1740, 'personalised': 1741, 'profitability': 1742, 'redressal': 1743, 'assist': 1744, 'outdated': 1745, 'managing': 1746, 'connect': 1747, 'rates': 1748, 'intermediation': 1749, 'segment': 1750, 'ready': 1751, 'relief': 1752, 'requiring': 1753, 'dividend': 1754, 'shall': 1755, 'mode': 1756, 'recommend': 1757, 'entirely': 1758, 'literature': 1759, 'patient': 1760, 'profile': 1761, 'errors': 1762, 'accounts': 1763, 'michael': 1764, 'accounting': 1765, 'check': 1766, 'words': 1767, 'accept': 1768, 'suggests': 1769, 'theory': 1770, 'africa': 1771, 'recognize': 1772, 'direction': 1773, 'stream': 1774, 'legislative': 1775, 'preferred': 1776, 'replace': 1777, 'enormous': 1778, 'profiles': 1779, 'numbers': 1780, 'fixed': 1781, 'empower': 1782, 'macro': 1783, 'switch': 1784, 'minimize': 1785, 'involve': 1786, 'respective': 1787, 'cover': 1788, 'energy': 1789, 'january': 1790, 'kpmg': 1791, 'extent': 1792, 'sizes': 1793, 'south': 1794, 'programming': 1795, 'both': 1796, 'innovators': 1797, 'semi': 1798, 'cluster': 1799, 'adverse': 1800, 'denial': 1801, 'ieee': 1802, 'magazine': 1803, 'interactive': 1804, 'northwestern': 1805, 'promise': 1806, 'merely': 1807, 'affairs': 1808, 'kinds': 1809, 'determining': 1810, 'standing': 1811, 'legacy': 1812, 'audio': 1813, 'conform': 1814, 'consistent': 1815, 'commodity': 1816, 'shape': 1817, 'mathematical': 1818, 'density': 1819, 'winning': 1820, 'spent': 1821, 'promotion': 1822, 'compromise': 1823, 'journey': 1824, 'meant': 1825, 'limitations': 1826, 'followed': 1827, 'represented': 1828, 'london': 1829, 'little': 1830, 'hiring': 1831, 'diagnosis': 1832, 'enhancing': 1833, 'leader': 1834, 'facilitating': 1835, 'suitable': 1836, 'procedures': 1837, 'raising': 1838, 'each': 1839, 'expansion': 1840, 'entrants': 1841, 'favor': 1842, 'advise': 1843, 'issued': 1844, 'hack': 1845, 'optimal': 1846, 'align': 1847, 'chartered': 1848, 'genomics': 1849, 'legislation': 1850, 'correlations': 1851, 'executed': 1852, 'streamline': 1853, 'safeguards': 1854, 'soft': 1855, 'rest': 1856, 'read': 1857, 'utility': 1858, 'warehouses': 1859, 'adopters': 1860, 'enter': 1861, 'issuance': 1862, 'highlighted': 1863, 'worked': 1864, 'exchanges': 1865, 'send': 1866, 'uncertainty': 1867, 'room': 1868, 'detail': 1869, 'veracity': 1870, 'refers': 1871, 'option': 1872, 'preparedness': 1873, 'visit': 1874, 'nizan': 1875, 'geslevich': 1876, 'aretz': 1877, 'toward': 1878, 'centre': 1879, 'buzzword': 1880, 'worst': 1881, 'imperative': 1882, 'loyalty': 1883, 'closed': 1884, 'mobility': 1885, 'frank': 1886, 'function': 1887, 'translate': 1888, 'feasible': 1889, 'organized': 1890, 'contexts': 1891, 'challenging': 1892, 'graham': 1893, 'governmental': 1894, 'automating': 1895, 'sample': 1896, 'dialogue': 1897, 'kingdom': 1898, 'considerable': 1899, 'thereof': 1900, 'swap': 1901, 'facility': 1902, 'registered': 1903, 'neutral': 1904, 'disrupt': 1905, 'complicated': 1906, 'official': 1907, 'mass': 1908, 'reaching': 1909, 'game': 1910, 'covering': 1911, 'crore': 1912, 'regu': 1913, 'imposed': 1914, 'herstatt': 1915, 'representative': 1916, 'mitigate': 1917, 'gets': 1918, 'starting': 1919, 'authors': 1920, 'stay': 1921, 'complying': 1922, 'variables': 1923, 'unfortunately': 1924, 'increases': 1925, 'inclusive': 1926, 'thanks': 1927, 'thereby': 1928, 'received': 1929, 'communicate': 1930, 'sole': 1931, 'clinical': 1932, 'informatics': 1933, 'memory': 1934, 'exponentially': 1935, 'campus': 1936, 'laboratory': 1937, 'seven': 1938, 'widespread': 1939, 'relatively': 1940, 'vary': 1941, 'losses': 1942, 'sell': 1943, 'attempting': 1944, 'interactions': 1945, 'gains': 1946, 'viewed': 1947, 'deposits': 1948, 'actually': 1949, 'relied': 1950, 'gradually': 1951, 'impetus': 1952, 'equities': 1953, 'lives': 1954, 'limitation': 1955, 'disaster': 1956, 'hidden': 1957, 'select': 1958, 'generating': 1959, 'issuing': 1960, 'burden': 1961, 'books': 1962, 'left': 1963, 'explaining': 1964, 'pages': 1965, 'kaldero': 1966, 'extending': 1967, 'supplementary': 1968, 'dutch': 1969, 'acting': 1970, 'seamlessly': 1971, 'predicted': 1972, 'larger': 1973, 'incorporate': 1974, 'comprise': 1975, 'encrypted': 1976, 'consuming': 1977, 'safeguard': 1978, 'stakeholders': 1979, 'comprised': 1980, 'whose': 1981, 'demanding': 1982, 'secretary': 1983, 'responses': 1984, 'nations': 1985, 'named': 1986, 'minority': 1987, 'interesting': 1988, 'table': 1989, 'discipline': 1990, 'cial': 1991, 'formation': 1992, 'reasoning': 1993, 'interpretations': 1994, 'simultaneously': 1995, 'sorts': 1996, 'measures': 1997, 'supreme': 1998, 'panacea': 1999, 'talk': 2000, 'sequenced': 2001, 'movement': 2002, 'tend': 2003, 'blogs': 2004, 'covered': 2005, 'frame': 2006, 'achieved': 2007, 'moves': 2008, 'eliminate': 2009, 'eventually': 2010, 'revised': 2011, 'academics': 2012, 'stakeholder': 2013, 'elements': 2014, 'treaty': 2015, 'procedural': 2016, 'recording': 2017, 'productivity': 2018, 'notably': 2019, 'expedite': 2020, 'race': 2021, 'equipment': 2022, 'works': 2023, 'operates': 2024, 'universal': 2025, 'will': 2026, 'consortium': 2027, 'surge': 2028, 'infected': 2029, 'rising': 2030, 'speech': 2031, 'intelligent': 2032, 'emerged': 2033, 'challenged': 2034, 'latin': 2035, 'caribbean': 2036, 'hundreds': 2037, 'demonstrated': 2038, 'indicate': 2039, 'notes': 2040, 'thorough': 2041, 'structures': 2042, 'personally': 2043, 'trying': 2044, 'mentioned': 2045, 'alternatively': 2046, 'infancy': 2047, 'structural': 2048, 'modelling': 2049, 'andrew': 2050, 'simplify': 2051, 'crises': 2052, 'exploit': 2053, 'cause': 2054, 'gross': 2055, 'payer': 2056, 'leveraging': 2057, 'harm': 2058, 'monthly': 2059, 'decided': 2060, 'enabling': 2061, 'challenger': 2062, 'byte': 2063, 'historically': 2064, 'opinion': 2065, 'failed': 2066, 'para': 2067, 'tests': 2068, 'drawn': 2069, 'slightly': 2070, 'message': 2071, 'simulation': 2072, 'stores': 2073, 'sought': 2074, 'explicitly': 2075, 'damage': 2076, 'fine': 2077, 'identified': 2078, 'professional': 2079, 'visual': 2080, 'movements': 2081, 'citizen': 2082, 'compromising': 2083, 'arise': 2084, 'material': 2085, 'departments': 2086, 'thinks': 2087, 'pushing': 2088, 'inherently': 2089, 'responsive': 2090, 'demographic': 2091, 'banker': 2092, 'onboarding': 2093, 'unit': 2094, 'simplified': 2095, 'billions': 2096, 'mandates': 2097, 'prefer': 2098, 'participate': 2099, 'biased': 2100, 'undergo': 2101, 'microsites': 2102, 'ostp': 2103, 'resiliency': 2104, 'apache': 2105, 'insured': 2106, 'relating': 2107, 'redundant': 2108, 'traders': 2109, 'currencies': 2110, 'december': 2111, 'marketers': 2112, 'expertise': 2113, 'advisers': 2114, 'articulated': 2115, 'lawful': 2116, 'aggregate': 2117, 'separate': 2118, 'relaxation': 2119, 'medicine': 2120, 'choices': 2121, 'relevance': 2122, 'website': 2123, 'aware': 2124, 'defining': 2125, 'computational': 2126, 'scalability': 2127, 'enabler': 2128, 'reveals': 2129, 'minimise': 2130, 'validation': 2131, 'communicating': 2132, 'ance': 2133, 'alia': 2134, 'derived': 2135, 'subset': 2136, 'eventual': 2137, 'sensitivity': 2138, 'verify': 2139, 'complement': 2140, 'hsbc': 2141, 'once': 2142, 'expecting': 2143, 'flows': 2144, 'affect': 2145, 'poses': 2146, 'fiduciary': 2147, 'outsourcing': 2148, 'forex': 2149, 'semiannual': 2150, 'informational': 2151, 'lesser': 2152, 'progressing': 2153, 'holistic': 2154, 'yahoo': 2155, 'disclosed': 2156, 'feel': 2157, 'bottom': 2158, 'fairly': 2159, 'amendments': 2160, 'steadily': 2161, 'habits': 2162, 'else': 2163, 'policymakers': 2164, 'alongside': 2165, 'delivers': 2166, 'collaborative': 2167, 'leave': 2168, 'enforcing': 2169, 'adviser': 2170, 'futures': 2171, 'infor': 2172, 'mation': 2173, 'attached': 2174, 'disk': 2175, 'nodes': 2176, 'prospect': 2177, 'layer': 2178, 'domains': 2179, 'officer': 2180, 'captured': 2181, 'nexus': 2182, 'acquisitions': 2183, 'tremendous': 2184, 'grant': 2185, 'city': 2186, 'record': 2187, 'handbook': 2188, 'helped': 2189, 'obama': 2190, 'governor': 2191, 'mortgages': 2192, 'before': 2193, 'basically': 2194, 'partly': 2195, 'begin': 2196, 'frequently': 2197, 'author': 2198, 'intention': 2199, 'colum': 2200, 'classification': 2201, 'massively': 2202, 'massachusetts': 2203, 'parliament': 2204, 'instances': 2205, 'examinations': 2206, 'load': 2207, 'transportation': 2208, 'dodd': 2209, 'property': 2210, 'perimeter': 2211, 'indicators': 2212, 'environmental': 2213, 'path': 2214, 'chase': 2215, 'compete': 2216, 'penalties': 2217, 'assistance': 2218, 'drug': 2219, 'parent': 2220, 'barrier': 2221, 'necessitate': 2222, 'stable': 2223, 'consensus': 2224, 'methodology': 2225, 'secondly': 2226, 'expanding': 2227, 'advent': 2228, 'tell': 2229, 'authorized': 2230, 'authorization': 2231, 'concentrate': 2232, 'recover': 2233, 'violations': 2234, 'proper': 2235, 'specify': 2236, 'brief': 2237, 'revolutionised': 2238, 'allowed': 2239, 'assigned': 2240, 'researcher': 2241, 'appetite': 2242, 'observe': 2243, 'representation': 2244, 'launches': 2245, 'wonder': 2246, 'normally': 2247, 'pervasive': 2248, 'quick': 2249, 'interests': 2250, 'pertaining': 2251, 'insurers': 2252, 'scores': 2253, 'readiness': 2254, 'match': 2255, 'occur': 2256, 'nevertheless': 2257, 'square': 2258, 'excess': 2259, 'decreasing': 2260, 'statement': 2261, 'profound': 2262, 'supercomputers': 2263, 'petabyte': 2264, 'originally': 2265, 'compensate': 2266, 'motivated': 2267, 'sensor': 2268, 'unknown': 2269, 'decide': 2270, 'neither': 2271, 'mirror': 2272, 'phenomenon': 2273, 'alike': 2274, 'exemption': 2275, 'licensee': 2276, 'fsoc': 2277, 'maturity': 2278, 'urban': 2279, 'labcftc': 2280, 'accelerate': 2281, 'carried': 2282, 'machines': 2283, 'grounds': 2284, 'kong': 2285, 'released': 2286, 'rights': 2287, 'politics': 2288, 'truth': 2289, 'replacement': 2290, 'comm': 2291, 'preference': 2292, 'bold': 2293, 'virus': 2294, 'citigroup': 2295, 'subsidiary': 2296, 'unnecessary': 2297, 'mifid': 2298, 'caused': 2299, 'maximum': 2300, 'joining': 2301, 'biology': 2302, 'physics': 2303, 'rural': 2304, 'securely': 2305, 'updates': 2306, 'sports': 2307, 'colleagues': 2308, 'destruction': 2309, 'apis': 2310, 'info': 2311, 'intervention': 2312, 'savings': 2313, 'arbitrage': 2314, 'defence': 2315, 'harvard': 2316, 'opaque': 2317, 'contains': 2318, 'fields': 2319, 'storing': 2320, 'preventive': 2321, 'vices': 2322, 'amplab': 2323, 'mentality': 2324, 'competitiveness': 2325, 'jump': 2326, 'berkeley': 2327, 'boost': 2328, 'android': 2329, 'functioning': 2330, 'recommendation': 2331, 'elsewhere': 2332, 'formats': 2333, 'lens': 2334, 'dealing': 2335, 'went': 2336, 'hinder': 2337, 'buying': 2338, 'prediction': 2339, 'unless': 2340, 'minimal': 2341, 'missing': 2342, 'chris': 2343, 'determined': 2344, 'builds': 2345, 'incentives': 2346, 'cryptography': 2347, 'conditions': 2348, 'promoting': 2349, 'assessing': 2350, 'independently': 2351, 'hope': 2352, 'jones': 2353, 'spot': 2354, 'boards': 2355, 'delivering': 2356, 'hackers': 2357, 'meaningful': 2358, 'earlier': 2359, 'optimize': 2360, 'incorporated': 2361, 'consideration': 2362, 'protocol': 2363, 'background': 2364, 'fragmented': 2365, 'forth': 2366, 'happen': 2367, 'willing': 2368, 'involving': 2369, 'moral': 2370, 'character': 2371, 'liberties': 2372, 'regularly': 2373, 'advantages': 2374, 'partnering': 2375, 'partnerships': 2376, 'embedded': 2377, 'branch': 2378, 'skills': 2379, 'moment': 2380, 'original': 2381, 'shed': 2382, 'confusion': 2383, 'turnaround': 2384, 'admitted': 2385, 'educational': 2386, 'academic': 2387, 'publishing': 2388, 'personnel': 2389, 'yield': 2390, 'impressive': 2391, 'ultimately': 2392, 'unexpected': 2393, 'continues': 2394, 'slow': 2395, 'goal': 2396, 'german': 2397, 'certainly': 2398, 'replication': 2399, 'regula': 2400, 'slowly': 2401, 'accordingly': 2402, 'chairman': 2403, 'establishing': 2404, 'telecommunication': 2405, 'sale': 2406, 'contracts': 2407, 'former': 2408, 'forming': 2409, 'just': 2410, 'assistant': 2411, 'overly': 2412, 'narrow': 2413, 'promontory': 2414, 'sept': 2415, 'aggregation': 2416, 'confident': 2417, 'supports': 2418, 'rose': 2419, 'augment': 2420, 'prominent': 2421, 'geography': 2422, 'roll': 2423, 'prevents': 2424, 'incremental': 2425, 'scientist': 2426, 'relations': 2427, 'segmentation': 2428, 'understood': 2429, 'construct': 2430, 'underpin': 2431, 'automatically': 2432, 'capable': 2433, 'charge': 2434, 'contain': 2435, 'losing': 2436, 'labor': 2437, 'substantially': 2438, 'excessive': 2439, 'tackling': 2440, 'enactment': 2441, 'hosted': 2442, 'initial': 2443, 'bare': 2444, 'telescope': 2445, 'nonetheless': 2446, 'october': 2447, 'collecting': 2448, 'relies': 2449, 'tasked': 2450, 'parties': 2451, 'everything': 2452, 'venture': 2453, 'perception': 2454, 'cope': 2455, 'prepared': 2456, 'matching': 2457, 'audience': 2458, 'analogue': 2459, 'exceed': 2460, 'attributable': 2461, 'affiliate': 2462, 'finan': 2463, 'flash': 2464, 'half': 2465, 'adherence': 2466, 'resulted': 2467, 'measurement': 2468, 'deployment': 2469, 'correlation': 2470, 'sciences': 2471, 'douglas': 2472, 'write': 2473, 'coronavirus': 2474, 'germany': 2475, 'mint': 2476, 'spark': 2477, 'python': 2478, 'solving': 2479, 'highest': 2480, 'dissimilar': 2481, 'immense': 2482, 'delivered': 2483, 'observations': 2484, 'discover': 2485, 'suspected': 2486, 'significance': 2487, 'properly': 2488, 'linkage': 2489, 'until': 2490, 'proactive': 2491, 'internally': 2492, 'technologically': 2493, 'problematic': 2494, 'amendment': 2495, 'strongly': 2496, 'keeps': 2497, 'compatible': 2498, 'relationships': 2499, 'supervisors': 2500, 'independence': 2501, 'augmented': 2502, 'uniformly': 2503, 'gdpr': 2504, 'voluntarily': 2505, 'exists': 2506, 'estimate': 2507, 'uphold': 2508, 'qualities': 2509, 'interpret': 2510, 'nonlinear': 2511, 'reveal': 2512, 'forbes': 2513, 'specialists': 2514, 'recognition': 2515, 'assisted': 2516, 'upgrade': 2517, 'biases': 2518, 'cure': 2519, 'adds': 2520, 'anonymity': 2521, 'skill': 2522, 'supervise': 2523, 'closer': 2524, 'manipulation': 2525, 'intermediaries': 2526, 'lots': 2527, 'cultures': 2528, 'manufacturing': 2529, 'sensory': 2530, 'constraints': 2531, 'possibly': 2532, 'analytic': 2533, 'characteristic': 2534, 'compliant': 2535, 'provincial': 2536, 'aided': 2537, 'tional': 2538, 'fake': 2539, 'session': 2540, 'victim': 2541, 'ment': 2542, 'turbulence': 2543, 'accidental': 2544, 'trautman': 2545, 'generates': 2546, 'continually': 2547, 'referring': 2548, 'consultants': 2549, 'answers': 2550, 'compli': 2551, 'appears': 2552, 'david': 2553, 'prescriptive': 2554, 'culminating': 2555, 'samples': 2556, 'discussions': 2557, 'trades': 2558, 'pools': 2559, 'ecns': 2560, 'training': 2561, 'prepare': 2562, 'events': 2563, 'conflict': 2564, 'chalk': 2565, 'stanley': 2566, 'barclays': 2567, 'deutsche': 2568, 'dnastack': 2569, 'interview': 2570, 'gershkoff': 2571, 'sifis': 2572, 'budgets': 2573, 'bias': 2574, 'soon': 2575, 'ecosystems': 2576, 'adequacy': 2577, 'join': 2578, 'technol': 2579, 'notable': 2580, 'nine': 2581, 'expedited': 2582, 'greatest': 2583, 'liquid': 2584, 'undergoing': 2585, 'detective': 2586, 'dual': 2587, 'israel': 2588, 'solely': 2589, 'snowflake': 2590, 'complexities': 2591, 'zone': 2592, 'hill': 2593, 'shopping': 2594, 'ride': 2595, 'ownership': 2596, 'nick': 2597, 'interconnections': 2598, 'categories': 2599, 'solid': 2600, 'lobbying': 2601, 'coalition': 2602, 'contingent': 2603, 'proliferation': 2604, 'visible': 2605, 'unheard': 2606, 'yafit': 2607, 'concerning': 2608, 'masses': 2609, 'proves': 2610, 'usual': 2611, 'orderly': 2612, 'dynamically': 2613, 'spear': 2614, 'cern': 2615, 'thesis': 2616, 'dedicated': 2617, 'boom': 2618, 'ceos': 2619, 'agree': 2620, 'developers': 2621, 'tensor': 2622, 'alert': 2623, 'retention': 2624, 'sdss': 2625, 'subsequent': 2626, 'simulate': 2627, 'scarcity': 2628, 'diversity': 2629, 'tradi': 2630, 'advisor': 2631, 'commitment': 2632, 'exist': 2633, 'neuroscience': 2634, 'ideas': 2635, 'leap': 2636, 'completion': 2637, 'walmart': 2638, 'intellectual': 2639, 'drone': 2640, 'convergence': 2641, 'heterogeneity': 2642, 'constitutes': 2643, 'land': 2644, 'reconceptualization': 2645, 'darwin': 2646, 'bond': 2647, 'footprint': 2648, 'cutting': 2649, 'correlate': 2650, 'compiles': 2651, 'aims': 2652, 'multilateral': 2653, 'applicability': 2654, 'drugs': 2655, 'adaptation': 2656, 'looked': 2657, 'centers': 2658, 'releases': 2659, 'archives': 2660, 'metadata': 2661, 'buyers': 2662, 'records': 2663, 'expose': 2664, 'places': 2665, 'members': 2666, 'months': 2667, 'specialized': 2668, 'clusters': 2669, 'cheap': 2670, 'formula': 2671, 'supposed': 2672, 'tone': 2673, 'enforced': 2674, 'attributes': 2675, 'subjected': 2676, 'ross': 2677, 'course': 2678, 'variability': 2679, 'boyd': 2680, 'choosing': 2681, 'anywhere': 2682, 'realignment': 2683, 'impacts': 2684, 'digitally': 2685, 'irrelevant': 2686, 'consum': 2687, 'answer': 2688, 'james': 2689, 'eyers': 2690, 'promises': 2691, 'logic': 2692, 'limits': 2693, 'kate': 2694, 'mckinsey': 2695, 'endorsed': 2696, 'fostering': 2697, 'bcbs': 2698, 'qualitative': 2699, 'administrator': 2700, 'forte': 2701, 'wares': 2702, 'instant': 2703, 'contraction': 2704, 'comprises': 2705, 'takeaways': 2706, 'indigenous': 2707, 'formulate': 2708, 'intent': 2709, 'lacks': 2710, 'ground': 2711, 'prominence': 2712, 'kilometre': 2713, 'investigate': 2714, 'invisible': 2715, 'installed': 2716, 'ubiquitous': 2717, 'trials': 2718, 'dimensions': 2719, 'object': 2720, 'innova': 2721, 'categorization': 2722, 'cards': 2723, 'assumptions': 2724, 'wrong': 2725, 'circumstances': 2726, 'drives': 2727, 'causes': 2728, 'findings': 2729, 'commensurate': 2730, 'query': 2731, 'joseph': 2732, 'references': 2733, 'decrease': 2734, 'fold': 2735, 'wherever': 2736, 'appeal': 2737, 'integral': 2738, 'satisfy': 2739, 'concomitant': 2740, 'conversation': 2741, 'submit': 2742, 'checks': 2743, 'filter': 2744, 'tolerance': 2745, 'comparable': 2746, 'calls': 2747, 'anonymous': 2748, 'complementary': 2749, 'alternatives': 2750, 'predominantly': 2751, 'analyzes': 2752, 'uncertain': 2753, 'measuring': 2754, 'associations': 2755, 'pointed': 2756, 'profit': 2757, 'targeting': 2758, 'reviewed': 2759, 'attractive': 2760, 'sophistication': 2761, 'film': 2762, 'degrees': 2763, 'ernst': 2764, 'cheaper': 2765, 'helen': 2766, 'continuity': 2767, 'leakage': 2768, 'unauthorized': 2769, 'blocks': 2770, 'satisfaction': 2771, 'forecast': 2772, 'justice': 2773, 'highlighting': 2774, 'paypal': 2775, 'identifies': 2776, 'alternate': 2777, 'attempt': 2778, 'confidential': 2779, 'dozen': 2780, 'fighting': 2781, 'cancer': 2782, 'emir': 2783, 'messages': 2784, 'merger': 2785, 'depression': 2786, 'fuels': 2787, 'region': 2788, 'something': 2789, 'outline': 2790, 'comparison': 2791, 'fashions': 2792, 'extra': 2793, 'pesa': 2794, 'noreika': 2795, 'charters': 2796, 'advancement': 2797, 'evident': 2798, 'exhaustive': 2799, 'estate': 2800, 'intensive': 2801, 'directed': 2802, 'telephones': 2803, 'bankthink': 2804, 'estimated': 2805, 'economies': 2806, 'functional': 2807, 'pieces': 2808, 'adjustments': 2809, 'margin': 2810, 'occurrence': 2811, 'conscious': 2812, 'where': 2813, 'hilbert': 2814, 'standardized': 2815, 'decades': 2816, 'architectures': 2817, 'aggregated': 2818, 'analogous': 2819, 'feed': 2820, 'moore': 2821, 'draw': 2822, 'inspiration': 2823, 'undermine': 2824, 'balanced': 2825, 'differently': 2826, 'complicate': 2827, 'spectrum': 2828, 'waterloo': 2829, 'stratford': 2830, 'precise': 2831, 'remarks': 2832, 'washington': 2833, 'betting': 2834, 'propose': 2835, 'versus': 2836, 'undertaken': 2837, 'likelihood': 2838, 'vendors': 2839, 'accordance': 2840, 'bearing': 2841, 'price': 2842, 'evade': 2843, 'breaching': 2844, 'emphasizes': 2845, 'quietly': 2846, 'enjoy': 2847, 'cohort': 2848, 'unreliable': 2849, 'chal': 2850, 'controls': 2851, 'constitute': 2852, 'surrounding': 2853, 'participant': 2854, 'doing': 2855, 'adapted': 2856, 'comprehend': 2857, 'coordinated': 2858, 'warfare': 2859, 'cultural': 2860, 'tendency': 2861, 'centralization': 2862, 'notified': 2863, 'deals': 2864, 'defines': 2865, 'conducting': 2866, 'turned': 2867, 'buyer': 2868, 'revolut': 2869, 'clarified': 2870, 'chance': 2871, 'hamish': 2872, 'mcrae': 2873, 'whereby': 2874, 'disclose': 2875, 'regimes': 2876, 'fingerprint': 2877, 'gold': 2878, 'incumbents': 2879, 'skilled': 2880, 'grievance': 2881, 'filters': 2882, 'happens': 2883, 'geolocation': 2884, 'cater': 2885, 'granular': 2886, 'death': 2887, 'firstly': 2888, 'centricity': 2889, 'noncompliance': 2890, 'onus': 2891, 'schemas': 2892, 'pragmatic': 2893, 'debate': 2894, 'procedure': 2895, 'inefficient': 2896, 'portals': 2897, 'introducing': 2898, 'explores': 2899, 'applicants': 2900, 'vertica': 2901, 'authenticity': 2902, 'gadgets': 2903, 'cited': 2904, 'stored': 2905, 'relative': 2906, 'disparate': 2907, 'happy': 2908, 'beneficiaries': 2909, 'nothing': 2910, 'reconsider': 2911, 'negligible': 2912, 'sudden': 2913, 'popularity': 2914, 'ambitious': 2915, 'reflected': 2916, 'backed': 2917, 'happening': 2918, 'sybenetix': 2919, 'christopher': 2920, 'scales': 2921, 'convention': 2922, 'vice': 2923, 'reconnaissance': 2924, 'format': 2925, 'expressed': 2926, 'concentration': 2927, 'depository': 2928, 'accenture': 2929, 'periods': 2930, 'terrorist': 2931, 'browser': 2932, 'surprisingly': 2933, 'collectively': 2934, 'compromised': 2935, 'park': 2936, 'putting': 2937, 'officially': 2938, 'argued': 2939, 'behav': 2940, 'negative': 2941, 'reactive': 2942, 'revolutionary': 2943, 'collaborations': 2944, 'asian': 2945, 'capita': 2946, 'differ': 2947, 'biomedical': 2948, 'battle': 2949, 'pliance': 2950, 'random': 2951, 'dependent': 2952, 'insider': 2953, 'accurately': 2954, 'catch': 2955, 'granted': 2956, 'roles': 2957, 'complain': 2958, 'crash': 2959, 'fico': 2960, 'mastering': 2961, 'naturally': 2962, 'prudent': 2963, 'breaking': 2964, 'adopting': 2965, 'allocation': 2966, 'gathering': 2967, 'gender': 2968, 'feasibility': 2969, 'restrict': 2970, 'bhca': 2971, 'seeks': 2972, 'smartphones': 2973, 'sheet': 2974, 'star': 2975, 'partners': 2976, 'nurture': 2977, 'predictability': 2978, 'possession': 2979, 'destination': 2980, 'tamper': 2981, 'contribute': 2982, 'landscaping': 2983, 'handles': 2984, 'tailored': 2985, 'facilitated': 2986, 'coupled': 2987, 'pulse': 2988, 'opposed': 2989, 'agenda': 2990, 'supervised': 2991, 'conflicts': 2992, 'managerial': 2993, 'oecd': 2994, 'bolster': 2995, 'expense': 2996, 'compulsory': 2997, 'investigated': 2998, 'cooperation': 2999, 'dhan': 3000, 'formulation': 3001, 'speak': 3002, 'handheld': 3003, 'legally': 3004, 'permitted': 3005, 'telephone': 3006, 'acute': 3007, 'rich': 3008, 'examined': 3009, 'daniel': 3010, 'pool': 3011, 'measurable': 3012, 'seller': 3013, 'which': 3014, 'proposition': 3015, 'reality': 3016, 'sovereignty': 3017, 'carrying': 3018, 'leaves': 3019, 'week': 3020, 'lecture': 3021, 'warehousing': 3022, 'exception': 3023, 'licensed': 3024, 'telecommunications': 3025, 'illegal': 3026, 'sourced': 3027, 'hadron': 3028, 'collider': 3029, 'legitimate': 3030, 'peter': 3031, 'head': 3032, 'identifying': 3033, 'inevitable': 3034, 'logs': 3035, 'campaigns': 3036, 'symposium': 3037, 'executives': 3038, 'hoping': 3039, 'wang': 3040, 'varied': 3041, 'flag': 3042, 'structuring': 3043, 'depend': 3044, 'acceptability': 3045, 'antivirus': 3046, 'during': 3047, 'homeland': 3048, 'nissenbaum': 3049, 'unclear': 3050, 'orders': 3051, 'only': 3052, 'breaches': 3053, 'deficiencies': 3054, 'affordable': 3055, 'techno': 3056, 'unaware': 3057, 'attract': 3058, 'realistic': 3059, 'netbanks': 3060, 'meaning': 3061, 'existence': 3062, 'dollar': 3063, 'harmonized': 3064, 'advancements': 3065, 'readers': 3066, 'fight': 3067, 'unsecured': 3068, 'productive': 3069, 'preservation': 3070, 'radio': 3071, 'discusses': 3072, 'constituted': 3073, 'royal': 3074, 'enhancement': 3075, 'accountability': 3076, 'govern': 3077, 'concentrated': 3078, 'exactly': 3079, 'contemporary': 3080, 'consumption': 3081, 'bringing': 3082, 'mitigating': 3083, 'acknowledged': 3084, 'updating': 3085, 'aggregator': 3086, 'kitchin': 3087, 'mcardle': 3088, 'gavin': 3089, 'exam': 3090, 'deserves': 3091, 'progressive': 3092, 'dataflow': 3093, 'beat': 3094, 'brokerage': 3095, 'contagion': 3096, 'proved': 3097, 'genius': 3098, 'overcoming': 3099, 'hurdles': 3100, 'realise': 3101, 'supercomputing': 3102, 'grained': 3103, 'uniquely': 3104, 'respectively': 3105, 'thwart': 3106, 'workflow': 3107, 'counting': 3108, 'predicts': 3109, 'fire': 3110, 'recurring': 3111, 'reyes': 3112, 'citrus': 3113, 'terrifying': 3114, 'capacities': 3115, 'illustrates': 3116, 'invention': 3117, 'arrangements': 3118, 'csbs': 3119, 'geographic': 3120, 'psycho': 3121, 'segments': 3122, 'warns': 3123, 'klarna': 3124, 'engineers': 3125, 'defensive': 3126, 'cast': 3127, 'thrive': 3128, 'undesired': 3129, 'fora': 3130, 'meaningfully': 3131, 'optimization': 3132, 'causal': 3133, 'kenya': 3134, 'wars': 3135, 'should': 3136, 'worry': 3137, 'suck': 3138, 'dire': 3139, 'alerts': 3140, 'collisions': 3141, 'unintended': 3142, 'reflecting': 3143, 'programmers': 3144, 'boarding': 3145, 'wants': 3146, 'kits': 3147, 'than': 3148, 'premier': 3149, 'induction': 3150, 'logistical': 3151, 'integrations': 3152, 'gamut': 3153, 'partial': 3154, 'covers': 3155, 'holders': 3156, 'abside': 3157, 'lseg': 3158, 'broadridge': 3159, 'tops': 3160, 'realm': 3161, 'controller': 3162, 'voluntary': 3163, 'adrs': 3164, 'modify': 3165, 'quantities': 3166, 'anything': 3167, 'exemplarily': 3168, 'roughly': 3169, 'ordinary': 3170, 'permit': 3171, 'effectives': 3172, 'correspond': 3173, 'outlining': 3174, 'thirdly': 3175, 'itoa': 3176, 'zettabytes': 3177, 'promotes': 3178, 'enhances': 3179, 'solidity': 3180, 'supplier': 3181, 'ignorance': 3182, 'bliss': 3183, 'offence': 3184, 'indus': 3185, 'submission': 3186, 'evaluating': 3187, 'certificates': 3188, 'alteration': 3189, 'hype': 3190, 'cryptocurrencies': 3191, 'serious': 3192, 'being': 3193, 'niche': 3194, 'kill': 3195, 'through': 3196, 'values': 3197, 'acknowledging': 3198, 'accuity': 3199, 'compendor': 3200, 'infrasoft': 3201, 'continual': 3202, 'arguably': 3203, 'designing': 3204, 'criminalized': 3205, 'conception': 3206, 'served': 3207, 'catalyze': 3208, 'azure': 3209, 'screen': 3210, 'television': 3211, 'taps': 3212, 'locations': 3213, 'strict': 3214, 'citibank': 3215, 'mumbai': 3216, 'tackles': 3217, 'directorate': 3218, 'widening': 3219, 'deepening': 3220, 'charting': 3221, 'spill': 3222, 'overs': 3223, 'adding': 3224, 'emphasize': 3225, 'dashdevs': 3226, 'statutory': 3227, 'ultimate': 3228, 'ollaborate': 3229, 'constituent': 3230, 'absolute': 3231, 'failures': 3232, 'edition': 3233, 'posed': 3234, 'pickup': 3235, 'accountable': 3236, 'mindset': 3237, 'adequately': 3238, 'corrective': 3239, 'cloudera': 3240, 'spanish': 3241, 'bbva': 3242, 'initially': 3243, 'someone': 3244, 'chosen': 3245, 'conceptual': 3246, 'rough': 3247, 'accessed': 3248, 'fits': 3249, 'improvements': 3250, 'filtering': 3251, 'assessed': 3252, 'ministerial': 3253, 'obamawhitehouse': 3254, 'scanning': 3255, 'identifier': 3256, 'premium': 3257, 'adaptability': 3258, 'localization': 3259, 'obstacle': 3260, 'silos': 3261, 'buried': 3262, 'electrotechnical': 3263, 'showed': 3264, 'adhere': 3265, 'temporal': 3266, 'placing': 3267, 'returns': 3268, 'peek': 3269, 'capitol': 3270, 'entrepreneur': 3271, 'faible': 3272, 'heat': 3273, 'robustness': 3274, 'overhaul': 3275, 'ences': 3276, 'nologies': 3277, 'collaboratively': 3278, 'leak': 3279, 'came': 3280, 'thomson': 3281, 'reuters': 3282, 'entrance': 3283, 'robin': 3284, 'cscworld': 3285, 'written': 3286, 'prac': 3287, 'tices': 3288, 'motivation': 3289, 'cognitive': 3290, 'correspondent': 3291, 'mike': 3292, 'computation': 3293, 'multilinear': 3294, 'subspace': 3295, 'threats': 3296, 'outcome': 3297, 'fuel': 3298, 'devise': 3299, 'amassed': 3300, 'winter': 3301, 'momentum': 3302, 'empirical': 3303, 'offline': 3304, 'talent': 3305, 'absence': 3306, 'situational': 3307, 'viders': 3308, 'digi': 3309, 'hybrid': 3310, 'secretariat': 3311, 'fortification': 3312, 'defeat': 3313, 'jeff': 3314, 'evidentiary': 3315, 'vermont': 3316, 'delaware': 3317, 'hindrance': 3318, 'clearer': 3319, 'repackaged': 3320, 'nationwide': 3321, 'upfront': 3322, 'acknowledges': 3323, 'titled': 3324, 'scratch': 3325, 'millennial': 3326, 'acquired': 3327, 'begs': 3328, 'borrowing': 3329, 'dream': 3330, 'contest': 3331, 'trucking': 3332, 'speeding': 3333, 'infractions': 3334, 'airliners': 3335, 'apart': 3336, 'ensures': 3337, 'optimum': 3338, 'siri': 3339, 'jpmorgan': 3340, 'ments': 3341, 'inte': 3342, 'paced': 3343, 'abilities': 3344, 'understandable': 3345, 'avoiding': 3346, 'diseases': 3347, 'downtime': 3348, 'futuristic': 3349, 'bilateral': 3350, 'judicial': 3351, 'prescription': 3352, 'delay': 3353, 'execu': 3354, 'repository': 3355, 'designated': 3356, 'standardization': 3357, 'mandating': 3358, 'goddard': 3359, 'stronger': 3360, 'insecurity': 3361, 'exciting': 3362, 'orientated': 3363, 'template': 3364, 'sending': 3365, 'commutes': 3366, 'trail': 3367, 'nail': 3368, 'brain': 3369, 'beneficiary': 3370, 'reversed': 3371, 'attachment': 3372, 'overwhelming': 3373, 'connections': 3374, 'sign': 3375, 'cities': 3376, 'lastly': 3377, 'conservative': 3378, 'infra': 3379, 'customized': 3380, 'difference': 3381, 'obsolete': 3382, 'johnson': 3383, 'explained': 3384, 'installation': 3385, 'representativeness': 3386, 'decides': 3387, 'lations': 3388, 'stringent': 3389, 'avenue': 3390, 'labels': 3391, 'paribas': 3392, 'transactional': 3393, 'attempts': 3394, 'blackett': 3395, 'entail': 3396, 'stemming': 3397, 'sejdi': 3398, 'prone': 3399, 'rarc': 3400, 'fragmentation': 3401, 'reconceptualizing': 3402, 'signature': 3403, 'favorably': 3404, 'lators': 3405, 'steve': 3406, 'welcome': 3407, 'ties': 3408, 'scandal': 3409, 'followup': 3410, 'incoming': 3411, 'ahead': 3412, 'banner': 3413, 'forecasts': 3414, 'outsourced': 3415, 'acquires': 3416, 'titan': 3417, 'aerospace': 3418, 'pursued': 3419, 'protectionist': 3420, 'counterparty': 3421, 'dont': 3422, 'overhead': 3423, 'validity': 3424, 'assertion': 3425, 'besides': 3426, 'consciously': 3427, 'cagr': 3428, 'juncture': 3429, 'capitalization': 3430, 'decentralised': 3431, 'escape': 3432, 'indelible': 3433, 'designate': 3434, 'sheer': 3435, 'beforehand': 3436, 'patch': 3437, 'install': 3438, 'mapping': 3439, 'probability': 3440, 'tempting': 3441, 'rigorous': 3442, 'broke': 3443, 'bengaluru': 3444, 'geneva': 3445, 'liberating': 3446, 'sdav': 3447, 'universities': 3448, 'visualize': 3449, 'realtime': 3450, 'rdbms': 3451, 'proceed': 3452, 'distance': 3453, 'impede': 3454, 'relates': 3455, 'gone': 3456, 'conceptualize': 3457, 'recognized': 3458, 'risen': 3459, 'drawing': 3460, 'inventing': 3461, 'preceding': 3462, 'warned': 3463, 'exact': 3464, 'claim': 3465, 'permission': 3466, 'democratize': 3467, 'vague': 3468, 'definitions': 3469, 'promotions': 3470, 'looks': 3471, 'esrb': 3472, 'bulletin': 3473, 'suggested': 3474, 'couldry': 3475, 'turow': 3476, 'oriented': 3477, 'responsibilities': 3478, 'mutually': 3479, 'twice': 3480, 'amia': 3481, 'summits': 3482, 'translational': 3483, 'proceedings': 3484, 'escalate': 3485, 'wishing': 3486, 'broader': 3487, 'deceptive': 3488, 'latency': 3489, 'whenever': 3490, 'introduces': 3491, 'strive': 3492, 'showcase': 3493, 'pockets': 3494, 'improper': 3495, 'jordan': 3496, 'desire': 3497, 'privilege': 3498, 'sorting': 3499, 'tension': 3500, 'langdon': 3501, 'lists': 3502, 'output': 3503, 'primed': 3504, 'origins': 3505, 'etymological': 3506, 'bits': 3507, 'professor': 3508, 'gued': 3509, 'facto': 3510, 'instantly': 3511, 'biosciences': 3512, 'indicating': 3513, 'please': 3514, 'tower': 3515, 'thicker': 3516, 'occurred': 3517, 'weather': 3518, 'loopholes': 3519, 'transmit': 3520, 'liberalization': 3521, 'counterpart': 3522, 'penalizing': 3523, 'bigdata': 3524, 'host': 3525, 'volcker': 3526, 'mathematics': 3527, 'knowing': 3528, 'excellent': 3529, 'describes': 3530, 'plenty': 3531, 'alemany': 3532, 'oliver': 3533, 'vayre': 3534, 'jean': 3535, 'implements': 3536, 'radiation': 3537, 'pursuing': 3538, 'advised': 3539, 'aiming': 3540, 'novelty': 3541, 'reading': 3542, 'mashey': 3543, 'career': 3544, 'surveyed': 3545, 'disrupting': 3546, 'membership': 3547, 'explainer': 3548, 'tobias': 3549, 'preis': 3550, 'moat': 3551, 'newspaper': 3552, 'anecdotal': 3553, 'director': 3554, 'drones': 3555, 'prevail': 3556, 'classified': 3557, 'driver': 3558, 'register': 3559, 'matters': 3560, 'painful': 3561, 'demanded': 3562, 'lobby': 3563, 'facilitators': 3564, 'cryptographic': 3565, 'headed': 3566, 'numerical': 3567, 'underlies': 3568, 'binding': 3569, 'stands': 3570, 'reserved': 3571, 'falls': 3572, 'planned': 3573, 'library': 3574, 'forged': 3575, 'hosting': 3576, 'steal': 3577, 'patrick': 3578, 'panel': 3579, 'underpinning': 3580, 'leveraged': 3581, 'darpa': 3582, 'congestion': 3583, 'clues': 3584, 'richer': 3585, 'arstechnica': 3586, 'pursuance': 3587, 'implies': 3588, 'quantifiable': 3589, 'president': 3590, 'trigger': 3591, 'british': 3592, 'founding': 3593, 'alan': 3594, 'turing': 3595, 'pfizer': 3596, 'crackdown': 3597, 'hunter': 3598, 'frontier': 3599, 'unlawful': 3600, 'exempt': 3601, 'infeasible': 3602, 'tive': 3603, 'stop': 3604, 'aged': 3605, 'conflicting': 3606, 'json': 3607, 'birth': 3608, 'faith': 3609, 'multilevel': 3610, 'applies': 3611, 'graduated': 3612, 'unable': 3613, 'mappings': 3614, 'coherent': 3615, 'programmed': 3616, 'reflects': 3617, 'hinted': 3618, 'denominator': 3619, 'seem': 3620, 'matzat': 3621, 'reips': 3622, 'properties': 3623, 'abundance': 3624, 'down': 3625, 'smooth': 3626, 'satellite': 3627, 'imagery': 3628, 'hopefully': 3629, 'lockdown': 3630, 'appreciation': 3631, 'buzz': 3632, 'introduce': 3633, 'centered': 3634, 'industrialized': 3635, 'relaxed': 3636, 'influences': 3637, 'fusion': 3638, 'fool': 3639, 'spring': 3640, 'trouble': 3641, 'season': 3642, 'sydney': 3643, 'morning': 3644, 'express': 3645, 'templates': 3646, 'straightforward': 3647, 'calculating': 3648, 'firsts': 3649, 'calculators': 3650, 'continent': 3651, 'evolved': 3652, 'watch': 3653, 'photos': 3654, 'transit': 3655, 'physically': 3656, 'schildhauer': 3657, 'reichman': 3658, 'tune': 3659, 'gateway': 3660, 'technique': 3661, 'reward': 3662, 'purchase': 3663, 'academia': 3664, 'treating': 3665, 'artificially': 3666, 'foundations': 3667, 'treasury': 3668, 'approaching': 3669, 'affiliation': 3670, 'belief': 3671, 'embracing': 3672, 'spective': 3673, 'fresh': 3674, 'stuck': 3675, 'tender': 3676, 'prices': 3677, 'optional': 3678, 'controversy': 3679, 'facilitates': 3680, 'treats': 3681, 'seriously': 3682, 'taught': 3683, 'iterative': 3684, 'pattern': 3685, 'sovereign': 3686, 'totally': 3687, 'uptake': 3688, 'turns': 3689, 'vendor': 3690, 'freezing': 3691, 'virtue': 3692, 'distinguish': 3693, 'accelerated': 3694, 'broadband': 3695, 'updated': 3696, 'component': 3697, 'bazaar': 3698, 'stakes': 3699, 'fertile': 3700, 'conclude': 3701, 'yang': 3702, 'brings': 3703, 'pivotal': 3704, 'danger': 3705, 'opinions': 3706, 'ethnic': 3707, 'cleansing': 3708, 'comeback': 3709, 'sufficiently': 3710, 'comfort': 3711, 'costly': 3712, 'selection': 3713, 'sums': 3714, 'mature': 3715, 'atlantic': 3716, 'separately': 3717, 'zero': 3718, 'threatens': 3719, 'freedom': 3720, 'weighs': 3721, 'excluding': 3722, 'cheque': 3723, 'everyone': 3724, 'bankers': 3725, 'correct': 3726, 'payout': 3727, 'julia': 3728, 'vehemently': 3729, 'altogether': 3730, 'sentiment': 3731, 'encompassing': 3732, 'tends': 3733, 'seldom': 3734, 'subsequently': 3735, 'teller': 3736, 'dealt': 3737, 'judiciary': 3738, 'appoint': 3739, 'encourages': 3740, 'circular': 3741, 'preferable': 3742, 'comprising': 3743, 'midst': 3744, 'promoters': 3745, 'underwriting': 3746, 'reorient': 3747, 'lenges': 3748, 'healthy': 3749, 'amplify': 3750, 'removing': 3751, 'glass': 3752, 'bridgeport': 3753, 'connecticut': 3754, 'inquiry': 3755, 'seriousness': 3756, 'maybe': 3757, 'telegraph': 3758, 'identities': 3759, 'prescribe': 3760, 'disguise': 3761, 'abductive': 3762, 'traces': 3763, 'theories': 3764, 'intentional': 3765, 'ibrahim': 3766, 'khan': 3767, 'intermediary': 3768, 'ecommerce': 3769, 'tight': 3770, 'prevalence': 3771, 'palpable': 3772, 'accompany': 3773, 'controlling': 3774, 'entered': 3775, 'premises': 3776, 'novel': 3777, 'addressed': 3778, 'profoundly': 3779, 'execute': 3780, 'extensively': 3781, 'founder': 3782, 'appliances': 3783, 'front': 3784, 'illustration': 3785, 'campaign': 3786, 'statue': 3787, 'liberty': 3788, 'mathematicians': 3789, 'computeraided': 3790, 'swot': 3791, 'ruin': 3792, 'captain': 3793, 'engineer': 3794, 'precrisis': 3795, 'receivables': 3796, 'road': 3797, 'layers': 3798, 'digitized': 3799, 'divided': 3800, 'caution': 3801, 'scrutiny': 3802, 'tors': 3803, 'integrating': 3804, 'propagation': 3805, 'seeing': 3806, 'nimble': 3807, 'double': 3808, 'regardless': 3809, 'bots': 3810, 'berthold': 3811, 'knime': 3812, 'reviews': 3813, 'simpler': 3814, 'ecology': 3815, 'overlapping': 3816, 'cient': 3817, 'unethical': 3818, 'louis': 3819, 'constrain': 3820, 'apparent': 3821, 'reaction': 3822, 'pension': 3823, 'welfare': 3824, 'rating': 3825, 'varying': 3826, 'consultative': 3827, 'desk': 3828, 'failing': 3829, 'quio': 3830, 'healthtech': 3831, 'speeches': 3832, 'articulate': 3833, 'netting': 3834, 'behave': 3835, 'imagine': 3836, 'cooperative': 3837, 'reagan': 3838, 'stolen': 3839, 'held': 3840, 'sends': 3841, 'notifications': 3842, 'funded': 3843, 'verticals': 3844, 'worrying': 3845, 'organic': 3846, 'clinches': 3847, 'supportive': 3848, 'inevitably': 3849, 'collects': 3850, 'doubled': 3851, 'magnitude': 3852, 'agreements': 3853, 'jhtdb': 3854, 'eclac': 3855, 'imperfect': 3856, 'hamper': 3857, 'seemingly': 3858, 'suite': 3859, 'spurred': 3860, 'kept': 3861, 'rdbmss': 3862, 'todd': 3863, 'susceptible': 3864, 'exploratory': 3865, 'blueprints': 3866, 'preventing': 3867, 'electric': 3868, 'corners': 3869, 'contractual': 3870, 'officers': 3871, 'devised': 3872, 'reduces': 3873, 'disposable': 3874, 'reportedly': 3875, 'licenses': 3876, 'enact': 3877, 'genes': 3878, 'california': 3879, 'placement': 3880, 'tens': 3881, 'nowadays': 3882, 'swiss': 3883, 'finscope': 3884, 'eliminating': 3885, 'lenient': 3886, 'begun': 3887, 'lend': 3888, 'distinct': 3889, 'friendliness': 3890, 'label': 3891, 'automatic': 3892, 'documentation': 3893, 'imminent': 3894, 'societies': 3895, 'premise': 3896, 'shattered': 3897, 'familiar': 3898, 'controversial': 3899, 'unlocking': 3900, 'dimension': 3901, 'formed': 3902, 'sentencing': 3903, 'engineered': 3904, 'recurrence': 3905, 'concrete': 3906, 'constructed': 3907, 'bubble': 3908, 'wayback': 3909, 'analysing': 3910, 'shapes': 3911, 'transact': 3912, 'imaging': 3913, 'hours': 3914, 'approve': 3915, 'revealed': 3916, 'watson': 3917, 'pack': 3918, 'trek': 3919, 'chair': 3920, 'monitors': 3921, 'perez': 3922, 'touts': 3923, 'paragon': 3924, 'discrete': 3925, 'inherence': 3926, 'mhealth': 3927, 'crop': 3928, 'safer': 3929, 'breast': 3930, 'tomosynthesis': 3931, 'sequence': 3932, 'disrupted': 3933, 'advancing': 3934, 'protects': 3935, 'strike': 3936, 'subjective': 3937, 'technolo': 3938, 'transmission': 3939, 'sion': 3940, 'opaqueness': 3941, 'onetime': 3942, 'concerted': 3943, 'prevalent': 3944, 'suggesting': 3945, 'tighten': 3946, 'periphery': 3947, 'cryptocurrency': 3948, 'graphs': 3949, 'strictly': 3950, 'imitation': 3951, 'attacker': 3952, 'brayne': 3953, 'societal': 3954, 'criminals': 3955, 'justification': 3956, 'unbiased': 3957, 'shareholders': 3958, 'collective': 3959, 'establishes': 3960, 'swamp': 3961, 'lowering': 3962, 'uploads': 3963, 'struck': 3964, 'combat': 3965, 'rejection': 3966, 'inquire': 3967, 'extant': 3968, 'predominately': 3969, 'consolidated': 3970, 'stages': 3971, 'exabyte': 3972, 'streamlining': 3973, 'pronouncements': 3974, 'yojana': 3975, 'sanctioned': 3976, 'taliban': 3977, 'qaida': 3978, 'osama': 3979, 'laden': 3980, 'separation': 3981, 'equivalent': 3982, 'quintillion': 3983, 'bytes': 3984, 'speaking': 3985, 'wanna': 3986, 'twofold': 3987, 'frustrate': 3988, 'giant': 3989, 'transformations': 3990, 'situations': 3991, 'sustained': 3992, 'tsai': 3993, 'hire': 3994, 'millennium': 3995, 'granularity': 3996, 'existed': 3997, 'brad': 3998, 'tarullo': 3999, 'smitha': 4000, 'francis': 4001, 'abroad': 4002, 'equally': 4003, 'querying': 4004, 'hpcc': 4005, 'unforeseen': 4006, 'primacy': 4007, 'unused': 4008, 'approved': 4009, 'eprints': 4010, 'nyse': 4011, 'payee': 4012, 'resourced': 4013, 'bounce': 4014, 'optical': 4015, 'linear': 4016, 'sphere': 4017, 'signed': 4018, 'literacy': 4019, 'presently': 4020, 'exceeded': 4021, 'rrps': 4022, 'mergers': 4023, 'gaining': 4024, 'nach': 4025, 'download': 4026, 'archive': 4027, 'facebooks': 4028, 'patent': 4029, 'transport': 4030, 'iteration': 4031, 'talks': 4032, 'shelf': 4033, 'insufficient': 4034, 'hundred': 4035, 'tendencies': 4036, 'inhibitors': 4037, 'alms': 4038, 'aftermath': 4039, 'mention': 4040, 'entrepreneurship': 4041, 'attempted': 4042, 'suboptimal': 4043, 'satisfied': 4044, 'indirect': 4045, 'quantifying': 4046, 'seconds': 4047, 'exclusive': 4048, 'directions': 4049, 'contrast': 4050, 'offset': 4051, 'chart': 4052, 'punch': 4053, 'vasileios': 4054, 'madouros': 4055, 'jackson': 4056, 'frisbee': 4057, 'assembly': 4058, 'heads': 4059, 'dataconomy': 4060, 'retrieved': 4061, 'multiply': 4062, 'gomber': 4063, 'robinson': 4064, 'friends': 4065, 'bear': 4066, 'suffered': 4067, 'prosperity': 4068, 'pass': 4069, 'proving': 4070, 'beacon': 4071, 'transmitters': 4072, 'nearby': 4073, 'triad': 4074, 'deluge': 4075, 'spurious': 4076, 'inadequacy': 4077, 'digitizing': 4078, 'proposes': 4079, 'precision': 4080, 'studied': 4081, 'expectations': 4082, 'ravi': 4083, 'organizing': 4084, 'domestically': 4085, 'differentiation': 4086, 'underway': 4087, 'travel': 4088, 'purchasing': 4089, 'redesign': 4090, 'handled': 4091, 'barocas': 4092, 'centralised': 4093, 'murphy': 4094, 'break': 4095, 'genome': 4096, 'weeks': 4097, 'conclusions': 4098, 'calculator': 4099, 'translating': 4100, 'reached': 4101, 'secrecy': 4102, 'intentions': 4103, 'inputs': 4104, 'ratios': 4105, 'taxes': 4106, 'lengthy': 4107, 'wary': 4108, 'distrust': 4109, 'unemployed': 4110, 'talents': 4111, 'commoditization': 4112, 'uniform': 4113, 'underestimate': 4114, 'criticism': 4115, 'solvency': 4116, 'september': 4117, 'viability': 4118, 'nicely': 4119, 'wireless': 4120, 'agement': 4121, 'helpful': 4122, 'suffer': 4123, 'acquiring': 4124, 'scam': 4125, 'determinants': 4126, 'amid': 4127, 'groundbreaking': 4128, 'impacted': 4129, 'nationally': 4130, 'onerous': 4131, 'jargon': 4132, 'revolutionized': 4133, 'topological': 4134, 'village': 4135, 'richard': 4136, 'negotiation': 4137, 'waste': 4138, 'highway': 4139, 'supplement': 4140, 'withdraw': 4141, 'trelewicz': 4142, 'alessi': 4143, 'springer': 4144, 'robert': 4145, 'indi': 4146, 'vidual': 4147, 'competing': 4148, 'boot': 4149, 'patents': 4150, 'journals': 4151, 'conferences': 4152, 'signal': 4153, 'kevin': 4154, 'sitting': 4155, 'posture': 4156, 'architect': 4157, 'consecutive': 4158, 'distributes': 4159, 'siwach': 4160, 'gautam': 4161, 'esmailpour': 4162, 'amir': 4163, 'struggled': 4164, 'cameras': 4165, 'fraction': 4166, 'boys': 4167, 'antennas': 4168, 'ascertain': 4169, 'sort': 4170, 'regions': 4171, 'then': 4172, 'generic': 4173, 'acts': 4174, 'witnessed': 4175, 'ervin': 4176, 'falk': 4177, 'tiago': 4178, 'unpatched': 4179, 'crvs': 4180, 'boycott': 4181, 'creator': 4182, 'blatant': 4183, 'triggered': 4184, 'starship': 4185, 'misconduct': 4186, 'gpfi': 4187, 'frictionless': 4188, 'irrespective': 4189, 'proc': 4190, 'vacuuming': 4191, 'fairness': 4192, 'characterizes': 4193, 'player': 4194, 'governing': 4195, 'mathematically': 4196, 'perfect': 4197, 'janos': 4198, 'globe': 4199, 'maxwell': 4200, 'birmingham': 4201, 'waive': 4202, 'greg': 4203, 'sales': 4204, 'techdigg': 4205, 'harmful': 4206, 'revealing': 4207, 'difficulties': 4208, 'exclusively': 4209, 'sensing': 4210, 'desks': 4211, 'employee': 4212, 'announcement': 4213, 'receives': 4214, 'anomalous': 4215, 'version': 4216, 'nano': 4217, 'ombudsman': 4218, 'tomers': 4219, 'illustratively': 4220, 'criticality': 4221, 'actuarial': 4222, 'bloomberg': 4223, 'asked': 4224, 'food': 4225, 'invested': 4226, 'norms': 4227, 'notify': 4228, 'capability': 4229, 'honest': 4230, 'unlimited': 4231, 'columns': 4232, 'commence': 4233, 'compare': 4234, 'pricing': 4235, 'cracked': 4236, 'alibaba': 4237, 'emilios': 4238, 'avgouleas': 4239, 'thrifts': 4240, 'unions': 4241, 'ined': 4242, 'removed': 4243, 'empowered': 4244, 'cfpbs': 4245, 'determines': 4246, 'pipelines': 4247, 'declarative': 4248, 'horizon': 4249, 'subscriptions': 4250, 'accessing': 4251, 'ital': 4252, 'stole': 4253, 'anaconda': 4254, 'duplication': 4255, 'businesschallenges': 4256, 'encompasses': 4257, 'drastic': 4258, 'penalty': 4259, 'nccs': 4260, 'jennifer': 4261, 'peoples': 4262, 'implicitly': 4263, 'recital': 4264, 'lexical': 4265, 'indexed': 4266, 'proceeding': 4267, 'appeared': 4268, 'patented': 4269, 'vizql': 4270, 'fortunately': 4271, 'simplifies': 4272, 'insecure': 4273, 'linking': 4274, 'seagate': 4275, 'dataage': 4276, 'edwards': 4277, 'composed': 4278, 'swers': 4279, 'extended': 4280, 'initiated': 4281, 'tuned': 4282, 'dictionary': 4283, 'taxono': 4284, 'settling': 4285, 'workable': 4286, 'scarce': 4287, 'ssential': 4288, 'graphic': 4289, 'encompass': 4290, 'kristin': 4291, 'broughton': 4292, 'lenddo': 4293, 'karma': 4294, 'accommodate': 4295, 'disabled': 4296, 'neglect': 4297, 'inten': 4298, 'acquainted': 4299, 'aforementioned': 4300, 'incurring': 4301, 'yourself': 4302, 'digitising': 4303, 'administrative': 4304, 'unrelatedly': 4305, 'amine': 4306, 'legiti': 4307, 'mate': 4308, 'extirpate': 4309, 'inductive': 4310, 'infer': 4311, 'regressions': 4312, 'dependencies': 4313, 'henry': 4314, 'helgeson': 4315, 'dell': 4316, 'specializing': 4317, 'ishti': 4318, 'oiea': 4319, 'bulletins': 4320, 'autolistingtoolshtm': 4321, 'somewhat': 4322, 'views': 4323, 'buddy': 4324, 'receivership': 4325, 'uninsured': 4326, 'lateral': 4327, 'heterogeneous': 4328, 'formidable': 4329, 'frontiers': 4330, 'ramifications': 4331, 'tumultuously': 4332, 'overnight': 4333, 'cautioned': 4334, 'bitcoins': 4335, 'technologie': 4336, 'nice': 4337, 'actimize': 4338, 'bwise': 4339, 'breiman': 4340, 'stat': 4341, 'enrolees': 4342, 'clearance': 4343, 'subsidy': 4344, 'acoustics': 4345, 'vibration': 4346, 'voltage': 4347, 'intervals': 4348, 'customs': 4349, 'compel': 4350, 'earnings': 4351, 'behavioristic': 4352, 'mouse': 4353, 'keyboard': 4354, 'rhythms': 4355, 'privately': 4356, 'multivariate': 4357, 'probe': 4358, 'latent': 4359, 'variate': 4360, 'tabs': 4361, 'employed': 4362, 'outer': 4363, 'boundaries': 4364, 'armies': 4365, 'envi': 4366, 'ronment': 4367, 'mankind': 4368, 'overseas': 4369, 'municipality': 4370, 'systematic': 4371, 'opera': 4372, 'shallow': 4373, 'filling': 4374, 'stealthily': 4375, 'wearables': 4376, 'universe': 4377, 'zeros': 4378, 'crossover': 4379, 'encounters': 4380, 'shield': 4381, 'makebetter': 4382, 'fluid': 4383, 'hydrodynamic': 4384, 'exceedingly': 4385, 'adjust': 4386, 'incorporating': 4387, 'diving': 4388, 'protocols': 4389, 'nasdaqs': 4390, 'unavailability': 4391, 'dnbc': 4392, 'surrounds': 4393, 'edwin': 4394, 'burge': 4395, 'abcs': 4396, 'hastings': 4397, 'undue': 4398, 'dependency': 4399, 'retain': 4400, 'remediation': 4401, 'scott': 4402, 'ingsworth': 4403, 'spain': 4404, 'actico': 4405, 'alto': 4406, 'luxembourg': 4407, 'eastnets': 4408, 'fenergo': 4409, 'ireland': 4410, 'jumio': 4411, 'lombard': 4412, 'reinsel': 4413, 'gantz': 4414, 'rydning': 4415, 'conglomerates': 4416, 'fearful': 4417, 'unhindered': 4418, 'eras': 4419, 'commissioner': 4420, 'hdinsight': 4421, 'physicals': 4422, 'recreate': 4423, 'thrown': 4424, 'scraping': 4425, 'educa': 4426, 'hedge': 4427, 'aggressively': 4428, 'oscillating': 4429, 'flood': 4430, 'newspapers': 4431, 'magazines': 4432, 'proportions': 4433, 'delhi': 4434, 'chennai': 4435, 'abstraction': 4436, 'perplexing': 4437, 'noticeably': 4438, 'wanted': 4439, 'replicate': 4440, 'sixth': 4441, 'explanation': 4442, 'keen': 4443, 'thoughtleadership': 4444, 'centerpiece': 4445, 'icsssm': 4446, 'averaged': 4447, 'crores': 4448, 'extraction': 4449, 'visualizing': 4450, 'operators': 4451, 'hands': 4452, 'intersection': 4453, 'vironment': 4454, 'judge': 4455, 'bench': 4456, 'categorically': 4457, 'percentage': 4458, 'traversing': 4459, 'untested': 4460, 'untrusted': 4461, 'subjects': 4462, 'permanent': 4463, 'launching': 4464, 'personalisation': 4465, 'concurrent': 4466, 'anna': 4467, 'navigate': 4468, 'timely': 4469, 'mixed': 4470, 'hubs': 4471, 'unmatched': 4472, 'taiwan': 4473, 'korea': 4474, 'academy': 4475, 'awards': 4476, 'smoothly': 4477, 'oath': 4478, 'datastreams': 4479, 'unfairly': 4480, 'profiled': 4481, 'refused': 4482, 'craft': 4483, 'roadmap': 4484, 'desirable': 4485, 'schools': 4486, 'subdomains': 4487, 'usability': 4488, 'suits': 4489, 'initi': 4490, 'atives': 4491, 'ineffective': 4492, 'truthfulness': 4493, 'negligence': 4494, 'wrongful': 4495, 'annex': 4496, 'hostile': 4497, 'slower': 4498, 'preferring': 4499, 'sata': 4500, 'redefine': 4501, 'avec': 4502, 'focalisation': 4503, 'analytique': 4504, 'proofing': 4505, 'narmax': 4506, 'spatio': 4507, 'intensively': 4508, 'grade': 4509, 'maggiemcgrath': 4510, 'amazons': 4511, 'situated': 4512, 'risingdaily': 4513, 'dances': 4514, 'densite': 4515, 'discouraging': 4516, 'popularly': 4517, 'discrimination': 4518, 'woodrow': 4519, 'barfield': 4520, 'pagallo': 4521, 'timelines': 4522, 'maps': 4523, 'pressreleases': 4524, 'edges': 4525, 'infrastructures': 4526, 'benjamin': 4527, 'populate': 4528, 'catching': 4529, 'topped': 4530, 'remittance': 4531, 'reluctantly': 4532, 'convoluted': 4533, 'ples': 4534, 'illustrate': 4535, 'ning': 4536, 'siliconangle': 4537, 'blackrock': 4538, 'thirds': 4539, 'fiat': 4540, 'owners': 4541, 'supercomputi': 4542, 'johan': 4543, 'speaker': 4544, 'elaborate': 4545, 'courage': 4546, 'morality': 4547, 'phpsessid': 4548, 'egpi': 4549, 'qbjtj': 4550, 'succeeded': 4551, 'qualified': 4552, 'creative': 4553, 'creators': 4554, 'barnard': 4555, 'therapeutics': 4556, 'onset': 4557, 'riding': 4558, 'lumping': 4559, 'suddenly': 4560, 'ethically': 4561, 'lawfully': 4562, 'cache': 4563, 'nosql': 4564, 'steering': 4565, 'programmes': 4566, 'continuing': 4567, 'night': 4568, 'tabled': 4569, 'notwithstanding': 4570, 'understands': 4571, 'basics': 4572, 'plunging': 4573, 'anticipation': 4574, 'portability': 4575, 'tized': 4576, 'offerors': 4577, 'chapters': 4578, 'defin': 4579, 'letters': 4580, 'memoranda': 4581, 'springbok': 4582, 'nderlying': 4583, 'bespoke': 4584, 'bertolucci': 4585, 'skeel': 4586, 'awrey': 4587, 'harv': 4588, 'reuse': 4589, 'grey': 4590, 'michelle': 4591, 'chen': 4592, 'nicolasheguy': 4593, 'chco': 4594, 'shin': 4595, 'undefined': 4596, 'revisions': 4597, 'tire': 4598, 'burn': 4599, 'authenticate': 4600, 'levelup': 4601, 'grating': 4602, 'utilisation': 4603, 'segmented': 4604, 'intergovernmental': 4605, 'endorse': 4606, 'raghavendra': 4607, 'unpublished': 4608, 'manuscript': 4609, 'ssrn': 4610, 'bundle': 4611, 'simplifying': 4612, 'simultaneous': 4613, 'organizes': 4614, 'defects': 4615, 'immutable': 4616, 'borrower': 4617, 'lender': 4618, 'holographic': 4619, 'specificity': 4620, 'connecting': 4621, 'origin': 4622, 'exemplify': 4623, 'exempts': 4624, 'maker': 4625, 'upcoming': 4626, 'uncer': 4627, 'tainty': 4628, 'crowdsourcing': 4629, 'request': 4630, 'empanel': 4631, 'audiences': 4632, 'michaely': 4633, 'deceit': 4634, 'echos': 4635, 'densit': 4636, 'comme': 4637, 'facteur': 4638, 'discriminant': 4639, 'lecercle': 4640, 'marous': 4641, 'terrify': 4642, 'fixing': 4643, 'sdks': 4644, 'triggers': 4645, 'moreaccurately': 4646, 'permutations': 4647, 'interrelationships': 4648, 'deleting': 4649, 'modifying': 4650, 'culprit': 4651, 'sender': 4652, 'opti': 4653, 'reengineering': 4654, 'bouquet': 4655, 'stressed': 4656, 'wedel': 4657, 'kannan': 4658, 'cashless': 4659, 'piloted': 4660, 'chinese': 4661, 'unveils': 4662, 'hospitality': 4663, 'causing': 4664, 'serving': 4665, 'copy': 4666, 'advising': 4667, 'writ': 4668, 'petition': 4669, 'shooting': 4670, 'backs': 4671, 'articleshow': 4672, 'tended': 4673, 'super': 4674, 'grids': 4675, 'clouds': 4676, 'implying': 4677, 'briefly': 4678, 'uman': 4679, 'rendered': 4680, 'miles': 4681, 'obsolescence': 4682, 'chin': 4683, 'frankbi': 4684, 'insid': 4685, 'dictat': 4686, 'dictated': 4687, 'stifling': 4688, 'paying': 4689, 'reconceptualising': 4690, 'annually': 4691, 'swell': 4692, 'broken': 4693, 'psychographic': 4694, 'dating': 4695, 'scheduling': 4696, 'taxi': 4697, 'cabs': 4698, 'accessibility': 4699, 'charges': 4700, 'abolition': 4701, 'stocks': 4702, 'georgetown': 4703, 'danah': 4704, 'neglecting': 4705, 'incidence': 4706, 'transnational': 4707, 'latter': 4708, 'explosive': 4709, 'plastic': 4710, 'displayed': 4711, 'burdens': 4712, 'forced': 4713, 'bottleneck': 4714, 'appealing': 4715, 'oxford': 4716, 'qtkb': 4717, 'footnotes': 4718, 'brink': 4719, 'antonakes': 4720, 'peggy': 4721, 'twohig': 4722, 'gram': 4723, 'posts': 4724, 'reali': 4725, 'glory': 4726, 'greenpl': 4727, 'matched': 4728, 'presented': 4729, 'piotr': 4730, 'kaminski': 4731, 'robu': 4732, 'exhibit': 4733, 'inaccurate': 4734, 'enters': 4735, 'predicated': 4736, 'pitfall': 4737, 'unduly': 4738, 'stringently': 4739, 'embraced': 4740, 'niches': 4741, 'curve': 4742, 'grabbing': 4743, 'describing': 4744, 'mails': 4745, 'oral': 4746, 'conversa': 4747, 'erfiles': 4748, 'macroeconomic': 4749, 'darrell': 4750, 'etherington': 4751, 'heading': 4752, 'devoid': 4753, 'mobindustry': 4754, 'segregation': 4755, 'cryptographically': 4756, 'nbis': 4757, 'stacking': 4758, 'formally': 4759, 'serverless': 4760, 'snowpipe': 4761, 'changer': 4762, 'trategic': 4763, 'elevated': 4764, 'cybercurrencies': 4765, 'undocumented': 4766, 'blaise': 4767, 'gadanecz': 4768, 'kaushik': 4769, 'jayaram': 4770, 'irving': 4771, 'fisher': 4772, 'commentary': 4773, 'tomorrow': 4774, 'configuration': 4775, 'saving': 4776, 'docume': 4777, 'pierre': 4778, 'delort': 4779, 'inserm': 4780, 'cata': 4781, 'lyst': 4782, 'characterization': 4783, 'resident': 4784, 'lays': 4785, 'organi': 4786, 'zation': 4787, 'hosts': 4788, 'intel': 4789, 'theart': 4790, 'australias': 4791, 'insiders': 4792, 'laboratories': 4793, 'multidecade': 4794, 'harmonize': 4795, 'isolation': 4796, 'giga': 4797, 'verified': 4798, 'passed': 4799, 'fincrime': 4800, 'impac': 4801, 'rare': 4802, 'xday': 4803, 'consid': 4804, 'ered': 4805, 'pler': 4806, 'boldly': 4807, 'schol': 4808, 'categorizing': 4809, 'consensual': 4810, 'recorded': 4811, 'breaks': 4812, 'measured': 4813, 'chiefly': 4814, 'fringe': 4815, 'payday': 4816, 'payroll': 4817, 'finra': 4818, 'aisp': 4819, 'nancing': 4820, 'nonprofits': 4821, 'donor': 4822, 'aggre': 4823, 'gate': 4824, 'donations': 4825, 'argument': 4826, 'pubs': 4827, 'fabric': 4828, 'propensity': 4829, 'actionable': 4830, 'stationary': 4831, 'curation': 4832, 'lineage': 4833, 'philanthropy': 4834, 'datafication': 4835, 'very': 4836, 'xldb': 4837, 'wreak': 4838, 'havoc': 4839, 'reasonably': 4840, 'provisional': 4841, 'disinformation': 4842, 'muse': 4843, 'accredited': 4844, 'certify': 4845, 'scenarios': 4846, 'interdependent': 4847, 'blown': 4848, 'generalize': 4849, 'settings': 4850, 'thousand': 4851, 'declared': 4852, 'avoided': 4853, 'produces': 4854, 'quotes': 4855, 'entails': 4856, 'commen': 4857, 'tators': 4858, 'advocating': 4859, 'exacerbated': 4860, 'tomer': 4861, 'demographics': 4862, 'tiny': 4863, 'unimaginable': 4864, 'originated': 4865, 'misleading': 4866, 'abreast': 4867, 'toolkits': 4868, 'activated': 4869, 'blocked': 4870, 'statuses': 4871, 'unsuccessful': 4872, 'deborah': 4873, 'ralston': 4874, 'certified': 4875, 'amend': 4876, 'monetize': 4877, 'timeframes': 4878, 'matrices': 4879, 'newsroom': 4880, 'aspirational': 4881, 'autonomy': 4882, 'decipher': 4883, 'untangling': 4884, 'latory': 4885, 'accep': 4886, 'tance': 4887, 'artifacts': 4888, 'whale': 4889, 'reactor': 4890, 'prohibited': 4891, 'downloading': 4892, 'flat': 4893, 'indias': 4894, 'kenneth': 4895, 'convert': 4896, 'beautiful': 4897, 'stories': 4898, 'elegant': 4899, 'opportune': 4900, 'remit': 4901, 'syndicate': 4902, 'finextra': 4903, 'agricultural': 4904, 'irrigation': 4905, 'postulate': 4906, 'omics': 4907, 'born': 4908, 'onward': 4909, 'stone': 4910, 'unturned': 4911, 'defini': 4912, 'likening': 4913, 'wrought': 4914, 'abandoned': 4915, 'horse': 4916, 'carriage': 4917, 'automobiles': 4918, 'prophecy': 4919, 'nessing': 4920, 'vided': 4921, 'survive': 4922, 'knowingly': 4923, 'intentionally': 4924, 'punishable': 4925, 'imprisonment': 4926, 'xycs': 4927, 'asli': 4928, 'demirguc': 4929, 'kunt': 4930, 'leora': 4931, 'klapper': 4932, 'findex': 4933, 'camera': 4934, 'abnormalities': 4935, 'deregulation': 4936, 'licence': 4937, 'authorisation': 4938, 'schemes': 4939, 'ooluwada': 4940, 'courses': 4941, 'datamining': 4942, 'extrareading': 4943, 'bulk': 4944, 'russia': 4945, 'unfair': 4946, 'journalism': 4947, 'publishers': 4948, 'journalists': 4949, 'infographics': 4950, 'marketed': 4951, 'fashion': 4952, 'reevaluation': 4953, 'starkly': 4954, 'delineates': 4955, 'descriptive': 4956, 'invalid': 4957, 'mile': 4958, 'luring': 4959, 'mathieu': 4960, 'sebastien': 4961, 'inserts': 4962, 'dbms': 4963, 'matrix': 4964, 'oncology': 4965, 'wisely': 4966, 'corpo': 4967, 'loon': 4968, 'balloons': 4969, 'traveling': 4970, 'proportionately': 4971, 'alter': 4972, 'maximize': 4973, 'popularizing': 4974, 'veyed': 4975, 'modernization': 4976, 'fiscal': 4977, 'susannah': 4978, 'spike': 4979, 'economically': 4980, 'disintegrated': 4981, 'keys': 4982, 'radical': 4983, 'telematics': 4984, 'chatbots': 4985, 'humanoids': 4986, 'competitively': 4987, 'ought': 4988, 'fate': 4989, 'ceptance': 4990, 'unsure': 4991, 'colossally': 4992, 'endpoint': 4993, 'misinformation': 4994, 'panic': 4995, 'amended': 4996, 'upkeep': 4997, 'repudiation': 4998, 'transferring': 4999, 'responder': 5000, 'reactiveness': 5001, 'pursuant': 5002, 'deliberate': 5003, 'techjury': 5004, 'diligent': 5005, 'alipay': 5006, 'deficit': 5007, 'complemented': 5008, 'espionage': 5009, 'wire': 5010, 'spatiotemporal': 5011, 'turbulent': 5012, 'ordered': 5013, 'spoof': 5014, 'disappointed': 5015, 'winners': 5016, 'deemed': 5017, 'decentralising': 5018, 'oppositional': 5019, 'radically': 5020, 'knows': 5021, 'sherubste': 5022, 'vinit': 5023, 'parida': 5024, 'dola': 5025, 'discount': 5026, 'rolled': 5027, 'holistically': 5028, 'foundational': 5029, 'grand': 5030, 'optimally': 5031, 'hiccups': 5032, 'afloat': 5033, 'sponsors': 5034, 'ball': 5035, 'dropped': 5036, 'oversees': 5037, 'collates': 5038, 'smorgasbord': 5039, 'eral': 5040, 'employ': 5041, 'pioneer': 5042, 'breaker': 5043, 'fiercebiotech': 5044, 'flags': 5045, 'investigations': 5046, 'detentions': 5047, 'trio': 5048, 'ponder': 5049, 'viceconti': 5050, 'hose': 5051, 'trained': 5052, 'tennessee': 5053, 'masters': 5054, 'manipulator': 5055, 'offender': 5056, 'practicality': 5057, 'quantify': 5058, 'asking': 5059, 'punish': 5060, 'foremost': 5061, 'danielrunde': 5062, 'purview': 5063, 'initia': 5064, 'tives': 5065, 'advo': 5066, 'cates': 5067, 'confirms': 5068, 'offi': 5069, 'affirmatively': 5070, 'believes': 5071, 'incidental': 5072, 'dearth': 5073, 'chaffee': 5074, 'maturing': 5075, 'foresee': 5076, 'western': 5077, 'crack': 5078, 'uploa': 5079, 'hjno': 5080, 'overcrowded': 5081, 'proprietary': 5082, 'windermere': 5083, 'isolated': 5084, 'enrollees': 5085, 'snijders': 5086, 'comprehension': 5087, 'perceived': 5088, 'prerequisite': 5089, 'shifting': 5090, 'catherine': 5091, 'cato': 5092, 'inst': 5093, 'joanna': 5094, 'diane': 5095, 'caytas': 5096, 'splendid': 5097, 'aircraft': 5098, 'quiet': 5099, 'capacious': 5100, 'blumenstock': 5101, 'rolling': 5102, 'tourism': 5103, 'hotel': 5104, 'dustries': 5105, 'devel': 5106, 'oped': 5107, 'clarify': 5108, 'strat': 5109, 'egies': 5110, 'comparisons': 5111, 'hypotheses': 5112, 'mistakenly': 5113, 'thresholds': 5114, 'wasted': 5115, 'specification': 5116, 'layered': 5117, 'manageable': 5118, 'reserves': 5119, 'protected': 5120, 'draws': 5121, 'images': 5122, 'plus': 5123, 'completes': 5124, 'calculation': 5125, 'valuation': 5126, 'derivative': 5127, 'verdict': 5128, 'constitutional': 5129, 'traceability': 5130, 'influential': 5131, 'stepping': 5132, 'brummer': 5133, 'fordham': 5134, 'salary': 5135, 'sits': 5136, 'citi': 5137, 'cbinsights': 5138, 'herald': 5139, 'decreased': 5140, 'anuli': 5141, 'akanegbu': 5142, 'ricky': 5143, 'ribelro': 5144, 'edtech': 5145, 'semistructured': 5146, 'uxef': 5147, 'yfjza': 5148, 'transcript': 5149, 'excel': 5150, 'spreadsheets': 5151, 'handset': 5152, 'trustworthy': 5153, 'discontinuation': 5154, 'preparing': 5155, 'disruptions': 5156, 'throughput': 5157, 'restrictive': 5158, 'promptly': 5159, 'communist': 5160, 'collateral': 5161, 'simplification': 5162, 'dominated': 5163, 'computerized': 5164, 'bradley': 5165, 'bowers': 5166, 'invoke': 5167, 'protracted': 5168, 'affordably': 5169, 'drop': 5170, 'gunther': 5171, 'bedrock': 5172, 'outlook': 5173, 'broking': 5174, 'navigation': 5175, 'cancellation': 5176, 'forefront': 5177, 'amidst': 5178, 'spend': 5179, 'underground': 5180, 'refined': 5181, 'sustain': 5182, 'operability': 5183, 'utilization': 5184, 'drill': 5185, 'hypothetical': 5186, 'multiplicity': 5187, 'mosaic': 5188, 'emerges': 5189, 'feeding': 5190, 'exchequer': 5191, 'club': 5192, 'stiff': 5193, 'enablement': 5194, 'sexual': 5195, 'intersex': 5196, 'caste': 5197, 'tribe': 5198, 'religious': 5199, 'summarize': 5200, 'combinations': 5201, 'ques': 5202, 'minded': 5203, 'considerate': 5204, 'negotiate': 5205, 'earned': 5206, 'overloaded': 5207, 'unsorted': 5208, 'unusable': 5209, 'grows': 5210, 'replacing': 5211, 'repairing': 5212, 'recalling': 5213, 'drafting': 5214, 'implicit': 5215, 'tables': 5216, 'contractors': 5217, 'uncover': 5218, 'contacted': 5219, 'gave': 5220, 'linuxbased': 5221, 'linux': 5222, 'specifics': 5223, 'lohr': 5224, 'singer': 5225, 'natasha': 5226, 'november': 5227, 'spying': 5228, 'older': 5229, 'occasionally': 5230, 'finds': 5231, 'pertinent': 5232, 'converted': 5233, 'expectation': 5234, 'goods': 5235, 'searching': 5236, 'seventh': 5237, 'accomplished': 5238, 'commendably': 5239, 'climbing': 5240, 'evolves': 5241, 'kryder': 5242, 'magic': 5243, 'susceptibility': 5244, 'timestamp': 5245, 'replicated': 5246, 'safeguarded': 5247, 'rosalind': 5248, 'hursthouse': 5249, 'normative': 5250, 'virtues': 5251, 'trast': 5252, 'duties': 5253, 'deontology': 5254, 'sequences': 5255, 'utilitarianism': 5256, 'tending': 5257, 'luxury': 5258, 'staying': 5259, 'planning': 5260, 'sharper': 5261, 'equipped': 5262, 'storm': 5263, 'ceph': 5264, 'engines': 5265, 'train': 5266, 'adop': 5267, 'izations': 5268, 'ingested': 5269, 'cordis': 5270, 'mindful': 5271, 'flagging': 5272, 'steer': 5273, 'inno': 5274, 'vations': 5275, 'diver': 5276, 'sity': 5277, 'ambidextrous': 5278, 'liyan': 5279, 'remedy': 5280, 'tons': 5281, 'corporates': 5282, 'hygiene': 5283, 'modified': 5284, 'managements': 5285, 'aptitude': 5286, 'conceptu': 5287, 'alize': 5288, 'penetrating': 5289, 'cease': 5290, 'behalf': 5291, 'grate': 5292, 'bound': 5293, 'aries': 5294, 'inflection': 5295, 'strange': 5296, 'rampell': 5297, 'streaming': 5298, 'suppliers': 5299, 'north': 5300, 'render': 5301, 'stark': 5302, 'deviate': 5303, 'thumb': 5304, 'equal': 5305, 'decentralized': 5306, 'delineation': 5307, 'dietrich': 5308, 'wrote': 5309, 'deeds': 5310, 'comprehensively': 5311, 'greengrocers': 5312, 'snippets': 5313, 'paint': 5314, 'subserve': 5315, 'differentiate': 5316, 'bling': 5317, 'congruent': 5318, 'knobloch': 5319, 'manske': 5320, 'encounter': 5321, 'meteorology': 5322, 'connectomics': 5323, 'insp': 5324, 'iration': 5325, 'untapped': 5326, 'denies': 5327, 'wrongdoing': 5328, 'storonsky': 5329, 'reverted': 5330, 'screening': 5331, 'remove': 5332, 'positives': 5333, 'predicament': 5334, 'obscurity': 5335, 'tank': 5336, 'cleaning': 5337, 'carrier': 5338, 'superior': 5339, 'signs': 5340, 'rivers': 5341, 'xinjiang': 5342, 'checkpoints': 5343, 'facial': 5344, 'criterion': 5345, 'living': 5346, 'arid': 5347, 'silver': 5348, 'skulduggery': 5349, 'stealing': 5350, 'choicepoint': 5351, 'letstalkpayments': 5352, 'dozens': 5353, 'websites': 5354, 'wintercorp': 5355, 'tats': 5356, 'manufacturer': 5357, 'actor': 5358, 'script': 5359, 'systematically': 5360, 'dataprocessing': 5361, 'legislature': 5362, 'reap': 5363, 'minimising': 5364, 'integrative': 5365, 'gear': 5366, 'commit': 5367, 'scan': 5368, 'corresponding': 5369, 'modernize': 5370, 'later': 5371, 'explored': 5372, 'interestingly': 5373, 'diamond': 5374, 'alleged': 5375, 'swindled': 5376, 'syndication': 5377, 'countermeasure': 5378, 'usable': 5379, 'defaul': 5380, 'arees': 5381, 'gover': 5382, 'nance': 5383, 'defeated': 5384, 'foods': 5385, 'mahatma': 5386, 'ghandi': 5387, 'tragic': 5388, 'stra': 5389, 'tegic': 5390, 'profitable': 5391, 'tobacco': 5392, 'shelves': 5393, 'pronged': 5394, 'magnifying': 5395, 'digitize': 5396, 'repercussions': 5397, 'reshaping': 5398, 'plausible': 5399, 'arguing': 5400, 'exclusion': 5401, 'practic': 5402, 'feelings': 5403, 'unpredictable': 5404, 'spaces': 5405, 'forcing': 5406, 'blessing': 5407, 'systematization': 5408, 'neutrality': 5409, 'targio': 5410, 'hashem': 5411, 'abaker': 5412, 'yaqoob': 5413, 'ibrar': 5414, 'badrul': 5415, 'anuar': 5416, 'mokhtar': 5417, 'salimah': 5418, 'gani': 5419, 'abdullah': 5420, 'ullah': 5421, 'samee': 5422, 'broaden': 5423, 'honing': 5424, 'intuition': 5425, 'nontraditional': 5426, 'deadlines': 5427, 'tinker': 5428, 'porting': 5429, 'inefficiencies': 5430, 'likeli': 5431, 'hood': 5432, 'mistakes': 5433, 'reassess': 5434, 'pharmaceutical': 5435, 'patients': 5436, 'correlating': 5437, 'semantic': 5438, 'scoping': 5439, 'counterparties': 5440, 'digitisation': 5441, 'skewed': 5442, 'cognizant': 5443, 'between': 5444, 'literate': 5445, 'showcases': 5446, 'overstating': 5447, 'outbreaks': 5448, 'portmanteau': 5449, 'individually': 5450, 'revocation': 5451, 'detected': 5452, 'posting': 5453, 'placed': 5454, 'bitcoinmagazine': 5455, 'reputability': 5456, 'grasp': 5457, 'denote': 5458, 'afford': 5459, 'prey': 5460, 'experi': 5461, 'vehicles': 5462, 'omnibus': 5463, 'pulitzer': 5464, 'pedestal': 5465, 'neer': 5466, 'coordi': 5467, 'nate': 5468, 'fluctuations': 5469, 'played': 5470, 'barack': 5471, 'terabyte': 5472, 'quantity': 5473, 'disposal': 5474, 'kirk': 5475, 'dour': 5476, 'scotty': 5477, 'advantageously': 5478, 'interstate': 5479, 'blended': 5480, 'gritting': 5481, 'rotas': 5482, 'meals': 5483, 'wheels': 5484, 'inconsistently': 5485, 'cybercriminal': 5486, 'fill': 5487, 'loads': 5488, 'beautifully': 5489, 'observational': 5490, 'maximise': 5491, 'paths': 5492, 'cagney': 5493, 'maximizing': 5494, 'lockton': 5495, 'harrison': 5496, 'stanton': 5497, 'discernible': 5498, 'none': 5499, 'uptick': 5500, 'swath': 5501, 'examining': 5502, 'abstract': 5503, 'enforces': 5504, 'disciplining': 5505, 'discourage': 5506, 'stifle': 5507, 'proce': 5508, 'dures': 5509, 'surging': 5510, 'breadth': 5511, 'lifecycles': 5512, 'crucially': 5513, 'creativity': 5514, 'preprocessing': 5515, 'abnormal': 5516, 'nicole': 5517, 'bullock': 5518, 'martin': 5519, 'arnold': 5520, 'spoke': 5521, 'escholarship': 5522, 'uneven': 5523, 'effi': 5524, 'sluggish': 5525, 'thistwitter': 5526, 'porate': 5527, 'snapshot': 5528, 'gritzo': 5529, 'provocative': 5530, 'title': 5531, 'mythology': 5532, 'damaged': 5533, 'phenomenal': 5534, 'interpreting': 5535, 'voluminous': 5536, 'necessitates': 5537, 'manpower': 5538, 'ijop': 5539, 'uyghurs': 5540, 'appreciate': 5541, 'transfers': 5542, 'alphanumeric': 5543, 'preserve': 5544, 'presentable': 5545, 'empt': 5546, 'discern': 5547, 'certainty': 5548, 'calculations': 5549, 'invasive': 5550, 'agrarian': 5551, 'precede': 5552, 'leveled': 5553, 'anderson': 5554, 'spell': 5555, 'notion': 5556, 'contextualized': 5557, 'coattails': 5558, 'branding': 5559, 'champion': 5560, 'fault': 5561, 'secplab': 5562, 'extraordinarily': 5563, 'surveil': 5564, 'lance': 5565, 'coordination': 5566, 'marketer': 5567, 'dataset': 5568, 'trauma': 5569, 'counterintuitive': 5570, 'consis': 5571, 'tent': 5572, 'stature': 5573, 'anticipate': 5574, 'internationalization': 5575, 'nstitute': 5576, 'fortunate': 5577, 'indiaforensic': 5578, 'watchdogs': 5579, 'robots': 5580, 'champions': 5581, 'inspire': 5582, 'materials': 5583, 'bird': 5584, 'stephen': 5585, 'counsel': 5586, 'upheld': 5587, 'piece': 5588, 'corre': 5589, 'cognisance': 5590, 'tireless': 5591, 'controllers': 5592, 'intend': 5593, 'mudra': 5594, 'deputy': 5595, 'chakra': 5596, 'father': 5597, 'reflection': 5598, 'disparity': 5599, 'booming': 5600, 'submitted': 5601, 'melbourne': 5602, 'accomplish': 5603, 'penny': 5604, 'crossman': 5605, 'inbuilt': 5606, 'exploded': 5607, 'laissez': 5608, 'faire': 5609, 'heralds': 5610, 'pushes': 5611, 'bioinformatics': 5612, 'ecological': 5613, 'gene': 5614, 'biosphere': 5615, 'safely': 5616, 'resume': 5617, 'repeated': 5618, 'mechanisation': 5619, 'likened': 5620, 'computerised': 5621, 'johns': 5622, 'hopkins': 5623, 'distancing': 5624, 'explains': 5625, 'entailing': 5626, 'eventu': 5627, 'ally': 5628, 'been': 5629, 'unlock': 5630, 'viewpoint': 5631, 'unassuming': 5632, 'caught': 5633, 'interpretation': 5634, 'infrastress': 5635, 'static': 5636, 'haugh': 5637, 'criminalization': 5638, 'notre': 5639, 'dame': 5640, 'novelties': 5641, 'plat': 5642, 'hetero': 5643, 'geneous': 5644, 'races': 5645, 'cars': 5646, 'engine': 5647, 'mine': 5648, 'utilised': 5649, 'falling': 5650, 'kashmirhill': 5651, 'utilise': 5652, 'accesses': 5653, 'biting': 5654, 'dominant': 5655, 'elemental': 5656, 'misconceptions': 5657, 'diesel': 5658, 'tanks': 5659, 'scooters': 5660, 'potholes': 5661, 'facebo': 5662, 'assume': 5663, 'attitude': 5664, 'inconsistency': 5665, 'studio': 5666, 'vscode': 5667, 'eclipse': 5668, 'intellij': 5669, 'scala': 5670, 'java': 5671, 'owner': 5672, 'weigh': 5673, 'scene': 5674, 'lccd': 5675, 'promulgated': 5676, 'dubbed': 5677, 'penalize': 5678, 'biotech': 5679, 'israeli': 5680, 'treat': 5681, 'diabetes': 5682, 'expeditions': 5683, 'incapacitation': 5684, 'nytimes': 5685, 'eavy': 5686, 'avro': 5687, 'interconnected': 5688, 'bigger': 5689, 'vigorous': 5690, 'acceler': 5691, 'ates': 5692, 'guides': 5693, 'satisfactory': 5694, 'solu': 5695, 'credits': 5696, 'akhil': 5697, 'saklecha': 5698, 'extracted': 5699, 'attracts': 5700, 'essence': 5701, 'surplus': 5702, 'unchanged': 5703, 'closes': 5704, 'guarantees': 5705, 'codd': 5706, 'beings': 5707, 'react': 5708, 'opted': 5709, 'dmapps': 5710, 'falc': 5711, 'magoulas': 5712, 'roger': 5713, 'lorica': 5714, 'outweighs': 5715, 'alterable': 5716, 'turbo': 5717, 'lightly': 5718, 'throw': 5719, 'defa': 5720, 'whitepaper': 5721, 'police': 5722, 'maintenance': 5723, 'engender': 5724, 'school': 5725, 'servicing': 5726, 'humanized': 5727, 'poured': 5728, 'programmatic': 5729, 'writing': 5730, 'embodying': 5731, 'inspired': 5732, 'helper': 5733, 'programmatically': 5734, 'divide': 5735, 'sonam': 5736, 'tobgay': 5737, 'kencho': 5738, 'wangmo': 5739, 'bhutan': 5740, 'weaken': 5741, 'duct': 5742, 'baron': 5743, 'haussmann': 5744, 'parisian': 5745, 'fares': 5746, 'napoleon': 5747, 'buildings': 5748, 'plazas': 5749, 'campuses': 5750, 'defuse': 5751, 'student': 5752, 'demonstrations': 5753, 'cyrus': 5754, 'mccormick': 5755, 'pneumatic': 5756, 'molding': 5757, 'reaper': 5758, 'plant': 5759, 'weed': 5760, 'workers': 5761, 'influencing': 5762, 'onlinelibrary': 5763, 'scholars': 5764, 'robot': 5765, 'cookies': 5766, 'budgeting': 5767, 'tips': 5768, 'discovering': 5769, 'digitalize': 5770, 'evening': 5771, 'except': 5772, 'window': 5773, 'weekend': 5774, 'synonymous': 5775, 'tailor': 5776, 'presidential': 5777, 'lakes': 5778, 'rulemaking': 5779, 'entitled': 5780, 'synergies': 5781, 'teaching': 5782, 'extensional': 5783, 'investmentnews': 5784, 'tukey': 5785, 'vention': 5786, 'bofondi': 5787, 'gobbi': 5788, 'disaggregate': 5789, 'cellan': 5790, 'rory': 5791, 'mistake': 5792, 'borderless': 5793, 'loyal': 5794, 'frauds': 5795, 'impersonate': 5796, 'divides': 5797, 'asee': 5798, 'ubconferences': 5799, 'marginal': 5800, 'ceiling': 5801, 'uncompressed': 5802, 'averages': 5803, 'runs': 5804, 'registers': 5805, 'tweaking': 5806, 'entries': 5807, 'authenticator': 5808, 'compliances': 5809, 'unearthed': 5810, 'marketsandmarkets': 5811, 'valued': 5812, 'evolutionary': 5813, 'impacting': 5814, 'stopped': 5815, 'hallucinating': 5816, 'paranoid': 5817, 'jobs': 5818, 'dove': 5819, 'compiled': 5820, 'clearest': 5821, 'experienced': 5822, 'posing': 5823, 'arriving': 5824, 'queue': 5825, 'fulfilling': 5826, 'nesta': 5827, 'hour': 5828, 'imported': 5829, 'chord': 5830, 'fans': 5831, 'quantifies': 5832, 'gies': 5833, 'preci': 5834, 'bundled': 5835, 'interpretive': 5836, 'black': 5837, 'elimination': 5838, 'seminal': 5839, 'finite': 5840, 'wrapped': 5841, 'parked': 5842, 'everywhere': 5843, 'precepts': 5844, 'habit': 5845, 'fear': 5846, 'scandinavia': 5847, 'eastern': 5848, 'trivial': 5849, 'registry': 5850, 'ontological': 5851, 'retirement': 5852, 'etails': 5853, 'expressly': 5854, 'quirements': 5855, 'disadvantages': 5856, 'epilepsy': 5857, 'customary': 5858, 'petitive': 5859, 'forces': 5860, 'shifted': 5861, 'ricks': 5862, 'fein': 5863, 'steagall': 5864, 'cath': 5865, 'wearesocial': 5866, 'insuffi': 5867, 'portrait': 5868, 'thematic': 5869, 'sizable': 5870, 'inventories': 5871, 'interrelated': 5872, 'timeliness': 5873, 'timeseries': 5874, 'crunch': 5875, 'declaration': 5876, 'stud': 5877, 'dissenting': 5878, 'sarah': 5879, 'reproduce': 5880, 'inequalities': 5881, 'exacerbating': 5882, 'racial': 5883, 'overrepresentation': 5884, 'abandon': 5885, 'obstacles': 5886, 'corrected': 5887, 'hierarchies': 5888, 'coherence': 5889, 'ante': 5890, 'appraisal': 5891, 'cgfs': 5892, 'moyle': 5893, 'fiona': 5894, 'maclean': 5895, 'latham': 5896, 'watkins': 5897, 'desires': 5898, 'grew': 5899, 'strength': 5900, 'severely': 5901, 'achievement': 5902, 'starts': 5903, 'economics': 5904, 'hunger': 5905, 'fitness': 5906, 'makethe': 5907, 'enrol': 5908, 'nineteenth': 5909, 'consist': 5910, 'congressional': 5911, 'compute': 5912, 'scams': 5913, 'revenues': 5914, 'ence': 5915, 'gallery': 5916, 'powerf': 5917, 'sahib': 5918, 'relatable': 5919, 'posterchild': 5920, 'suit': 5921, 'anchor': 5922, 'noncompliant': 5923, 'discourse': 5924, 'safeguarding': 5925, 'risky': 5926, 'nancial': 5927, 'mover': 5928, 'tsinghua': 5929, 'enrolment': 5930, 'laney': 5931, 'metagroup': 5932, 'aura': 5933, 'objectivity': 5934, 'sectional': 5935, 'approves': 5936, 'bankings': 5937, 'irrelevance': 5938, 'personalize': 5939, 'attracted': 5940, 'collabora': 5941, 'forget': 5942, 'switchboards': 5943, 'waiting': 5944, 'shortage': 5945, 'retains': 5946, 'empathy': 5947, 'joined': 5948, 'overturn': 5949, 'undoubtedly': 5950, 'lldr': 5951, 'paramount': 5952, 'manipulate': 5953, 'stick': 5954, 'mini': 5955, 'diagrams': 5956, 'nayef': 5957, 'rodhan': 5958, 'monitored': 5959, 'basil': 5960, 'developmental': 5961, 'issuances': 5962, 'balances': 5963, 'impersonation': 5964, 'huei': 5965, 'kimble': 5966, 'giannis': 5967, 'milolidakis': 5968, 'revolutionizing': 5969, 'innovating': 5970, 'mplab': 5971, 'unhealthy': 5972, 'deleterious': 5973, 'unavailable': 5974, 'instituting': 5975, 'valueless': 5976, 'starring': 5977, 'pitt': 5978, 'disservice': 5979, 'redevelop': 5980, 'absorbing': 5981, 'obeying': 5982, 'owing': 5983, 'lexisnexis': 5984, 'tale': 5985, 'dissemination': 5986, 'intangibility': 5987, 'rush': 5988, 'targets': 5989, 'esteemed': 5990, 'utations': 5991, 'defend': 5992, 'bridge': 5993, 'sport': 5994, 'invent': 5995, 'commis': 5996, 'aimed': 5997, 'resilien': 5998, 'tightly': 5999, 'writes': 6000, 'tbyte': 6001, 'threaten': 6002, 'entirety': 6003, 'neces': 6004, 'sary': 6005, 'cussion': 6006, 'reminder': 6007, 'quately': 6008, 'harvest': 6009, 'exceptionally': 6010, 'terminal': 6011, 'distinguishes': 6012, 'framingham': 6013, 'contradict': 6014, 'piloting': 6015, 'eugene': 6016, 'precursors': 6017, 'concludes': 6018, 'quires': 6019, 'shifts': 6020, 'removal': 6021, 'clustering': 6022, 'nomenon': 6023, 'lowed': 6024, 'enjoying': 6025, 'indications': 6026, 'cess': 6027, 'caveat': 6028, 'watershed': 6029, 'clone': 6030, 'restore': 6031, 'portal': 6032, 'karen': 6033, 'mccullagh': 6034, 'brexit': 6035, 'compile': 6036, 'ivil': 6037, 'affinity': 6038, 'ight': 6039, 'archived': 6040, 'edged': 6041, 'modernizing': 6042, 'catalyzing': 6043, 'employers': 6044, 'tory': 6045, 'nicoletti': 6046, 'usefully': 6047, 'contemplating': 6048, 'newsarticle': 6049, 'chronicling': 6050, 'travelers': 6051, 'paradigmatic': 6052, 'illustrated': 6053, 'quarterly': 6054, 'regionalized': 6055, 'comparative': 6056, 'undis': 6057, 'capitalists': 6058, 'differentiated': 6059, 'toll': 6060, 'loosely': 6061, 'unanticipated': 6062, 'investigating': 6063, 'gary': 6064, 'redlining': 6065, 'rtgs': 6066, 'culpability': 6067, 'genotyping': 6068, 'cabinet': 6069, 'flurry': 6070, 'repositories': 6071, 'usenix': 6072, 'invited': 6073, 'finishes': 6074, 'airline': 6075, 'tickets': 6076, 'parameter': 6077, 'lifetime': 6078, 'ehealth': 6079, 'wearable': 6080, 'contingency': 6081, 'solved': 6082, 'gained': 6083, 'workshop': 6084, 'churn': 6085, 'sturdy': 6086, 'legislate': 6087, 'ostensibly': 6088, 'deem': 6089, 'wider': 6090, 'deeper': 6091, 'surface': 6092, 'pllana': 6093, 'sabri': 6094, 'janciak': 6095, 'ivan': 6096, 'brezany': 6097, 'hrer': 6098, 'alexander': 6099, 'necessitating': 6100, 'validate': 6101, 'packet': 6102, 'christophe': 6103, 'chazot': 6104, 'pragmatically': 6105, 'grounded': 6106, 'entrepre': 6107, 'neurs': 6108, 'chains': 6109, 'whatever': 6110, 'wondered': 6111, 'prevented': 6112, 'curiously': 6113, 'torkkeli': 6114, 'huizingh': 6115, 'coeckelbergh': 6116, 'dupont': 6117, 'reijers': 6118, 'issuesandinsights': 6119, 'thrived': 6120, 'willingness': 6121, 'capitalise': 6122, 'prospective': 6123, 'capitalizations': 6124, 'coinmarketcap': 6125, 'heightened': 6126, 'offices': 6127, 'delineate': 6128, 'sight': 6129, 'phenomena': 6130, 'lies': 6131, 'evaluated': 6132, 'arrive': 6133, 'attracting': 6134, 'error': 6135, 'hurry': 6136, 'obsession': 6137, 'attain': 6138, 'patchy': 6139, 'ideally': 6140, 'discoveries': 6141, 'uncomplicated': 6142, 'buckle': 6143, 'kansas': 6144, 'hole': 6145, 'wyoming': 6146, 'theconversati': 6147, 'spatial': 6148, 'lord': 6149, 'parliamentary': 6150, 'lioncrest': 6151, 'harbisonwalker': 6152, 'vayena': 6153, 'salath': 6154, 'madoff': 6155, 'brownstein': 6156, 'hannah': 6157, 'augur': 6158, 'multiplying': 6159, 'manifold': 6160, 'tried': 6161, 'impeding': 6162, 'pursue': 6163, 'specified': 6164, 'maggie': 6165, 'mcgrath': 6166, 'norm': 6167, 'desktop': 6168, 'packages': 6169, 'trajectory': 6170, 'koch': 6171, 'siering': 6172, 'yandong': 6173, 'goldstone': 6174, 'weikuan': 6175, 'teng': 6176, 'dmlz': 6177, 'meyer': 6178, 'deny': 6179, 'reconcile': 6180, 'sceptical': 6181, 'equals': 6182, 'pointing': 6183, 'attacks': 6184, 'tesco': 6185, 'obligatory': 6186, 'workplace': 6187, 'injection': 6188, 'stitution': 6189, 'individuality': 6190, 'ridiculously': 6191, 'holds': 6192, 'adrian': 6193, 'shedden': 6194, 'gareth': 6195, 'malna': 6196, 'burges': 6197, 'salmon': 6198, 'definite': 6199, 'inconsistencies': 6200, 'reacts': 6201, 'classifying': 6202, 'subcategory': 6203, 'capitalizing': 6204, 'relocating': 6205, 'exceptions': 6206, 'alerting': 6207, 'composition': 6208, 'bluetooth': 6209, 'shortening': 6210, 'hanging': 6211, 'detecting': 6212, 'calude': 6213, 'giuseppe': 6214, 'longo': 6215, 'whopping': 6216, 'competence': 6217, 'subtle': 6218, 'cues': 6219, 'dismissed': 6220, 'perceive': 6221, 'gobble': 6222, 'digitalization': 6223, 'deepan': 6224, 'palguna': 6225, 'vikas': 6226, 'joshi': 6227, 'venkatesan': 6228, 'chakravarthy': 6229, 'kothari': 6230, 'sequencers': 6231, 'sequencing': 6232, 'puted': 6233, 'breakthroughs': 6234, 'tweets': 6235, 'videos': 6236, 'efficacy': 6237, 'arose': 6238, 'encoding': 6239, 'enhancements': 6240, 'unfamiliar': 6241, 'tied': 6242, 'crest': 6243, 'accreditation': 6244, 'supervising': 6245, 'divisions': 6246, 'institu': 6247, 'reticence': 6248, 'backing': 6249, 'entrust': 6250, 'rationale': 6251, 'collaborating': 6252, 'clause': 6253, 'exceeds': 6254, 'uarantee': 6255, 'assign': 6256, 'slot': 6257, 'rotated': 6258, 'secretarial': 6259, 'ventures': 6260, 'validated': 6261, 'looped': 6262, 'iterations': 6263, 'disease': 6264, 'capitalize': 6265, 'ockbuster': 6266, 'restitution': 6267, 'circumnavigate': 6268, 'into': 6269, 'pick': 6270, 'warn': 6271, 'against': 6272, 'consisted': 6273, 'committing': 6274, 'frequent': 6275, 'donoghue': 6276, 'herbert': 6277, 'bars': 6278, 'outset': 6279, 'illustrative': 6280, 'lifestyle': 6281, 'zhou': 6282, 'lock': 6283, 'focal': 6284, 'unmet': 6285, 'hoped': 6286, 'disruptors': 6287, 'defy': 6288, 'conceptually': 6289, 'dehumanization': 6290, 'photo': 6291, 'selfie': 6292, 'consolidating': 6293, 'centralising': 6294, 'aggregators': 6295, 'paymann': 6296, 'valley': 6297, 'geared': 6298, 'ebays': 6299, 'regulates': 6300, 'whom': 6301, 'misconfiguration': 6302, 'optimized': 6303, 'shah': 6304, 'shvetank': 6305, 'horne': 6306, 'capell': 6307, 'jaime': 6308, 'differentiati': 6309, 'knowldg': 6310, 'remarkable': 6311, 'consequen': 6312, 'tial': 6313, 'debunking': 6314, 'myths': 6315, 'fielding': 6316, 'cumulatively': 6317, 'customization': 6318, 'vagueness': 6319, 'contents': 6320, 'aegis': 6321, 'visiting': 6322, 'unveiled': 6323, 'facet': 6324, 'constraint': 6325, 'erode': 6326, 'casting': 6327, 'soldier': 6328, 'undetected': 6329, 'conspira': 6330, 'cies': 6331, 'observes': 6332, 'anks': 6333, 'minus': 6334, 'positively': 6335, 'correlated': 6336, 'kalakota': 6337, 'diligence': 6338, 'nominated': 6339, 'distorting': 6340, 'libraries': 6341, 'loggly': 6342, 'facilitator': 6343, 'touching': 6344, 'reputable': 6345, 'tasking': 6346, 'messy': 6347, 'hacked': 6348, 'departmental': 6349, 'hacks': 6350, 'languages': 6351, 'keith': 6352, 'chat': 6353, 'mammoth': 6354, 'detector': 6355, 'forty': 6356, 'auditing': 6357, 'owns': 6358, 'exploited': 6359, 'lieu': 6360, 'babble': 6361, 'blue': 6362, 'household': 6363, 'unlikely': 6364, 'expiry': 6365, 'mediumto': 6366, 'tail': 6367, 'freak': 6368, 'surpass': 6369, 'anonymized': 6370, 'alignment': 6371, 'aspiring': 6372, 'segaran': 6373, 'toby': 6374, 'hammerbacher': 6375, 'smes': 6376, 'egtech': 6377, 'meticulous': 6378, 'visualizes': 6379, 'idiosyncratic': 6380, 'extracting': 6381, 'hereinafter': 6382, 'unnetworked': 6383, 'noun': 6384, 'objections': 6385, 'diminish': 6386, 'remainder': 6387, 'longevity': 6388, 'polythene': 6389, 'sweet': 6390, 'portfolios': 6391, 'nological': 6392, 'illegit': 6393, 'imate': 6394, 'falcon': 6395, 'repeatability': 6396, 'systematics': 6397, 'poised': 6398, 'subscription': 6399, 'wired': 6400, 'efficiencies': 6401, 'flaws': 6402, 'intrapreneur': 6403, 'ship': 6404, 'brunswicker': 6405, 'chesbrough': 6406, 'exchanging': 6407, 'perceptibility': 6408, 'understandability': 6409, 'publicity': 6410, 'gathers': 6411, 'ernance': 6412, 'whistleblowers': 6413, 'bounty': 6414, 'parlance': 6415, 'conversely': 6416, 'bypass': 6417, 'cesses': 6418, 'coping': 6419, 'favorable': 6420, 'zetzsche': 6421, 'overdue': 6422, 'exceeding': 6423, 'surveying': 6424, 'entrant': 6425, 'accusations': 6426, 'enrolled': 6427, 'expressive': 6428, 'visibility': 6429, 'encode': 6430, 'boolean': 6431, 'readable': 6432, 'expressions': 6433, 'regionalism': 6434, 'remony': 6435, 'runde': 6436, 'pascal': 6437, 'bouvier': 6438, 'garage': 6439, 'lumen': 6440, 'convincingly': 6441, 'accelerating': 6442, 'constrained': 6443, 'obscure': 6444, 'peers': 6445, 'accumulation': 6446, 'burst': 6447, 'buffer': 6448, 'memcached': 6449, 'securi': 6450, 'launched': 6451, 'motion': 6452, 'surveybiggest': 6453, 'ryan': 6454, 'browne': 6455, 'votes': 6456, 'protectionism': 6457, 'pledges': 6458, 'poli': 6459, 'ticians': 6460, 'representatives': 6461, 'clinton': 6462, 'shouldnt': 6463, 'believed': 6464, 'ayasdi': 6465, 'exponential': 6466, 'indexing': 6467, 'outlier': 6468, 'agriculture': 6469, 'manyika': 6470, 'chui': 6471, 'bughin': 6472, 'jaques': 6473, 'brown': 6474, 'dobbs': 6475, 'roxburgh': 6476, 'charles': 6477, 'byers': 6478, 'angela': 6479, 'hung': 6480, 'shocking': 6481, 'override': 6482, 'revamp': 6483, 'passing': 6484, 'qualifies': 6485, 'varies': 6486, 'mirkes': 6487, 'coats': 6488, 'levesley': 6489, 'gorban': 6490, 'mired': 6491, 'controversies': 6492, 'saves': 6493, 'freeing': 6494, 'workforce': 6495, 'depressio': 6496, 'below': 6497, 'dashboards': 6498, 'asia': 6499, 'ovation': 6500, 'corona': 6501, 'beast': 6502, 'mandated': 6503, 'faculty': 6504, 'scholarship': 6505, 'nath': 6506, 'investopedia': 6507, 'registries': 6508, 'dustry': 6509, 'financialsector': 6510, 'aggressive': 6511, 'flick': 6512, 'scrambling': 6513, 'authorised': 6514, 'attorney': 6515, 'positioning': 6516, 'obtaining': 6517, 'dostov': 6518, 'shoust': 6519, 'ryabkova': 6520, 'savvy': 6521, 'berlin': 6522, 'heidelberg': 6523, 'carve': 6524, 'warren': 6525, 'mead': 6526, 'iferenta': 6527, 'hibbert': 6528, 'solon': 6529, 'lane': 6530, 'stodden': 6531, 'victoria': 6532, 'bender': 6533, 'stefan': 6534, 'morris': 6535, 'panner': 6536, 'strangling': 6537, 'tape': 6538, 'wash': 6539, 'thrift': 6540, 'volvement': 6541, 'promoted': 6542, 'conformist': 6543, 'playfield': 6544, 'venue': 6545, 'afoul': 6546, 'spectacularly': 6547, 'includelarge': 6548, 'institutionstoo': 6549, 'softwareand': 6550, 'camp': 6551, 'venturebeat': 6552, 'vwluassets': 6553, 'inaccessible': 6554, 'defaults': 6555, 'codification': 6556, 'refereed': 6557, 'volunteers': 6558, 'distillations': 6559, 'maga': 6560, 'zine': 6561, 'overload': 6562, 'geographically': 6563, 'nonfinancial': 6564, 'commissioners': 6565, 'contributing': 6566, 'assumption': 6567, 'distributor': 6568, 'ashton': 6569, 'credited': 6570, 'coining': 6571, 'quote': 6572, 'knew': 6573, 'count': 6574, 'singaporean': 6575, 'lithuanian': 6576, 'dust': 6577, 'blink': 6578, 'receivesan': 6579, 'streamlined': 6580, 'deferred': 6581, 'prosecution': 6582, 'outlined': 6583, 'kpis': 6584, 'specialties': 6585, 'analyst': 6586, 'rachel': 6587, 'witkowski': 6588, 'ackerman': 6589, 'senate': 6590, 'hudn': 6591, 'takeover': 6592, 'tsunami': 6593, 'unleashed': 6594, 'treasure': 6595, 'chest': 6596, 'flip': 6597, 'vector': 6598, 'premised': 6599, 'outbreak': 6600, 'spotlight': 6601, 'planet': 6602, 'effec': 6603, 'invasion': 6604, 'pretation': 6605, 'determination': 6606, 'partitions': 6607, 'extir': 6608, 'pate': 6609, 'detriment': 6610, 'activism': 6611, 'presentation': 6612, 'particle': 6613, 'accelerator': 6614, 'embodies': 6615, 'loophole': 6616, 'nondepository': 6617, 'sears': 6618, 'brian': 6619, 'milligan': 6620, 'invented': 6621, 'fina': 6622, 'interdepartmental': 6623, 'strategically': 6624, 'northeast': 6625, 'differentiating': 6626, 'abound': 6627, 'sustainability': 6628, 'figuring': 6629, 'advocates': 6630, 'panels': 6631, 'dirty': 6632, 'inaccuracies': 6633, 'replay': 6634, 'resumption': 6635, 'withdrawn': 6636, 'lewis': 6637, 'revolt': 6638, 'overlaps': 6639, 'contradictions': 6640, 'purposeful': 6641, 'ahmad': 6642, 'hariri': 6643, 'psychology': 6644, 'duke': 6645, 'customise': 6646, 'fingerprints': 6647, 'retina': 6648, 'scans': 6649, 'split': 6650, 'bishop': 6651, 'severe': 6652, 'overestimate': 6653, 'timothy': 6654, 'teodor': 6655, 'moldovan': 6656, 'matei': 6657, 'zaharia': 6658, 'justin': 6659, 'franklin': 6660, 'pieter': 6661, 'abbeel': 6662, 'alexandre': 6663, 'bayen': 6664, 'disapproval': 6665, 'portance': 6666, 'smith': 6667, 'gerry': 6668, 'hallman': 6669, 'lawrence': 6670, 'claudiacopeland': 6671, 'bootcamp': 6672, 'econ': 6673, 'appliance': 6674, 'forensically': 6675, 'achievable': 6676, 'tracing': 6677, 'outlooks': 6678, 'daniele': 6679, 'medri': 6680, 'broker': 6681, 'grave': 6682, 'slash': 6683, 'playing': 6684, 'subscribe': 6685, 'redeem': 6686, 'onto': 6687, 'accentuated': 6688, 'ambition': 6689, 'reconciling': 6690, 'monzo': 6691, 'headlines': 6692, 'catastrophic': 6693, 'biological': 6694, 'excites': 6695, 'casualty': 6696, 'dictate': 6697, 'retrieve': 6698, 'hungry': 6699, 'mohandas': 6700, 'manipal': 6701, 'infosys': 6702, 'collapse': 6703, 'frtb': 6704, 'fatca': 6705, 'warrants': 6706, 'reconceptualize': 6707, 'soften': 6708, 'sejdic': 6709, 'undefeated': 6710, 'subsidiaries': 6711, 'captures': 6712, 'pitfalls': 6713, 'medi': 6714, 'ocracy': 6715, 'demise': 6716, 'triennial': 6717, 'turnover': 6718, 'deployed': 6719, 'merchandising': 6720, 'landmark': 6721, 'pronouncement': 6722, 'constitution': 6723, 'broadcaster': 6724, 'reinvent': 6725, 'jointly': 6726, 'multiplication': 6727, 'noise': 6728, 'contributions': 6729, 'contamination': 6730, 'considerably': 6731, 'moneyball': 6732, 'fiction': 6733, 'oakland': 6734, 'athletics': 6735, 'outperform': 6736, 'relentless': 6737, 'disbursements': 6738, 'borrowers': 6739, 'conforming': 6740, 'morale': 6741, 'questioning': 6742, 'gambling': 6743, 'organize': 6744, 'hesitate': 6745, 'immutability': 6746, 'implementers': 6747, 'fillip': 6748, 'moolah': 6749, 'saved': 6750, 'approachis': 6751, 'arms': 6752, 'emanate': 6753, 'dare': 6754, 'camps': 6755, 'incubator': 6756, 'paid': 6757, 'whereas': 6758, 'travelling': 6759, 'webinar': 6760, 'seat': 6761, 'leia': 6762, 'portugu': 6763, 'democratization': 6764, 'cheaply': 6765, 'anuj': 6766, 'agarwal': 6767, 'gdps': 6768, 'indicated': 6769, 'excluded': 6770, 'suited': 6771, 'responsibly': 6772, 'bangladesh': 6773, 'heist': 6774, 'vulnerabilities': 6775, 'differences': 6776, 'tagging': 6777, 'helicopter': 6778, 'outage': 6779, 'matches': 6780, 'logged': 6781, 'introductory': 6782, 'parcel': 6783, 'smoothen': 6784, 'entrepreneurial': 6785, 'unethically': 6786, 'profits': 6787, 'benevolence': 6788, 'thrives': 6789, 'manufactured': 6790, 'corpora': 6791, 'latinamerica': 6792, 'architects': 6793, 'recommended': 6794, 'custodial': 6795, 'enlisted': 6796, 'sunset': 6797, 'command': 6798, 'flourished': 6799, 'troves': 6800, 'magazin': 6801, 'cardholder': 6802, 'industrys': 6803, 'counterpunch': 6804, 'struments': 6805, 'governs': 6806, 'ontology': 6807, 'naming': 6808, 'login': 6809, 'tableau': 6810, 'jack': 6811, 'nelson': 6812, 'lexology': 6813, 'showing': 6814, 'roust': 6815, 'dividends': 6816, 'withholding': 6817, 'depositary': 6818, 'receipts': 6819, 'jury': 6820, 'immune': 6821, 'tackle': 6822, 'wont': 6823, 'guaranteegood': 6824, 'visually': 6825, 'greenplum': 6826, 'unremittingly': 6827, 'immunity': 6828, 'citizens': 6829, 'score': 6830, 'refraining': 6831, 'rogatory': 6832, 'string': 6833, 'speeds': 6834, 'contained': 6835, 'istic': 6836, 'transferwise': 6837, 'sounds': 6838, 'amazing': 6839, 'crown': 6840, 'nixon': 6841, 'formerly': 6842, 'waqas': 6843, 'shabbir': 6844, 'thief': 6845, 'ortunity': 6846, 'applica': 6847, 'thorization': 6848, 'abhijit': 6849, 'bose': 6850, 'miscellaneous': 6851, 'recognising': 6852, 'functioned': 6853, 'cfrt': 6854, 'ducing': 6855, 'oren': 6856, 'bracha': 6857, 'pasquale': 6858, 'cornell': 6859, 'wealthfront': 6860, 'wheelock': 6861, 'wilson': 6862, 'regtechfs': 6863, 'eagerness': 6864, 'rigor': 6865, 'schedules': 6866, 'markup': 6867, 'spur': 6868, 'userfiles': 6869, 'ambiguity': 6870, 'organically': 6871, 'completeness': 6872, 'obvious': 6873, 'causation': 6874, 'causality': 6875, 'explainability': 6876, 'interpretability': 6877, 'census': 6878, 'performed': 6879, 'computed': 6880, 'variances': 6881, 'asymmetric': 6882, 'hazard': 6883, 'originate': 6884, 'distribute': 6885, 'electorate': 6886, 'responding': 6887, 'augmentation': 6888, 'cusp': 6889, 'processors': 6890, 'roadblock': 6891, 'knees': 6892, 'suitability': 6893, 'storytelling': 6894, 'enjoyable': 6895, 'reader': 6896, 'durand': 6897, 'complies': 6898, 'iccp': 6899, 'foresight': 6900, 'capgemini': 6901, 'tionally': 6902, 'classi': 6903, 'fied': 6904, 'moni': 6905, 'tored': 6906, 'unscrupulous': 6907, 'predatory': 6908, 'contributed': 6909, 'develops': 6910, 'helicarriers': 6911, 'flavors': 6912, 'sloan': 6913, 'astronomical': 6914, 'astronomy': 6915, 'prohibit': 6916, 'championaccenture': 6917, 'haleem': 6918, 'abid': 6919, 'javaid': 6920, 'mohd': 6921, 'vaishya': 6922, 'raju': 6923, 'searchengineland': 6924, 'tedx': 6925, 'partially': 6926, 'wholly': 6927, 'texas': 6928, 'institut': 6929, 'promulgate': 6930, 'lobbyists': 6931, 'hpcd': 6932, 'manbeck': 6933, 'marc': 6934, 'franson': 6935, 'chapman': 6936, 'cutler': 6937, 'hous': 6938, 'inculcate': 6939, 'instantaneous': 6940, 'elena': 6941, 'kvochko': 6942, 'threshold': 6943, 'waivers': 6944, 'waiver': 6945, 'timeline': 6946, 'prospec': 6947, 'tively': 6948, 'ensuring': 6949, 'passage': 6950, 'incorpora': 6951, 'statutes': 6952, 'legislatures': 6953, 'quasi': 6954, 'controlled': 6955, 'conviction': 6956, 'tells': 6957, 'intellect': 6958, 'democracy': 6959, 'syndicated': 6960, 'repo': 6961, 'ccar': 6962, 'keenly': 6963, 'palvia': 6964, 'spilled': 6965, 'motives': 6966, 'setups': 6967, 'fragility': 6968, 'lugmayr': 6969, 'artur': 6970, 'stockleben': 6971, 'bjoern': 6972, 'scheib': 6973, 'christoph': 6974, 'mailaparampil': 6975, 'mathew': 6976, 'mesia': 6977, 'noora': 6978, 'ranta': 6979, 'hannu': 6980, 'emmi': 6981, 'intimate': 6982, 'litigation': 6983, 'dispose': 6984, 'iron': 6985, 'cagebook': 6986, 'priorities': 6987, 'textbooks': 6988, 'earth': 6989, 'nology': 6990, 'reluctant': 6991, 'interfaces': 6992, 'unidentified': 6993, 'baker': 6994, 'return': 6995, 'instability': 6996, 'zambian': 6997, 'zipss': 6998, 'precautionary': 6999, 'infamous': 7000, 'trafficking': 7001, 'bfsi': 7002, 'pocs': 7003, 'catered': 7004, 'educate': 7005, 'sensitise': 7006, 'evangelise': 7007, 'quarters': 7008, 'distances': 7009, 'lets': 7010, 'diversion': 7011, 'export': 7012, 'compound': 7013, 'canadian': 7014, 'topic': 7015, 'infect': 7016, 'propagate': 7017, 'aerial': 7018, 'microphones': 7019, 'rfid': 7020, 'displace': 7021, 'ironically': 7022, 'floors': 7023, 'rows': 7024, 'screens': 7025, 'conjoining': 7026, 'metaanalysis': 7027, 'rimes': 7028, 'wolters': 7029, 'kluwer': 7030, 'gmbh': 7031, 'touche': 7032, 'tohmatsu': 7033, 'entropy': 7034, 'aggressiveness': 7035, 'specifications': 7036, 'mirrored': 7037, 'dead': 7038, 'letting': 7039, 'accumulate': 7040, 'foolish': 7041, 'updetails': 7042, 'indicates': 7043, 'improperly': 7044, 'creditscoring': 7045, 'noting': 7046, 'incidents': 7047, 'prompted': 7048, 'organised': 7049, 'predetermined': 7050, 'chemical': 7051, 'agility': 7052, 'onslaught': 7053, 'observing': 7054, 'medcraft': 7055, 'says': 7056, 'explain': 7057, 'mediated': 7058, 'escholarshi': 7059, 'rapidity': 7060, 'setup': 7061, 'iris': 7062, 'lighting': 7063, 'differential': 7064, 'obam': 7065, 'adjunct': 7066, 'indefinitely': 7067, 'theoretical': 7068, 'violate': 7069, 'favors': 7070, 'lobbied': 7071, 'wiki': 7072, 'offeri': 7073, 'unserved': 7074, 'browsing': 7075, 'contrary': 7076, 'rescue': 7077, 'ltcm': 7078, 'squeeze': 7079, 'threatening': 7080, 'pacific': 7081, 'regression': 7082, 'routing': 7083, 'manually': 7084, 'knell': 7085, 'formance': 7086, 'intervi': 7087, 'deck': 7088, 'stacked': 7089, 'collate': 7090, 'hiding': 7091, 'taxation': 7092, 'mexican': 7093, 'bcci': 7094, 'barings': 7095, 'robustly': 7096, 'family': 7097, 'purchases': 7098, 'receipt': 7099, 'initiation': 7100, 'oncoming': 7101, 'hindered': 7102, 'resilient': 7103, 'conclave': 7104, 'hern': 7105, 'lessons': 7106, 'learned': 7107, 'mchenry': 7108, 'inappropri': 7109, 'induct': 7110, 'critically': 7111, 'successes': 7112, 'components': 7113, 'follows': 7114, 'charts': 7115, 'displays': 7116, 'multidimensional': 7117, 'olap': 7118, 'cubes': 7119, 'tensors': 7120, 'rushed': 7121, 'allocate': 7122, 'topics': 7123, 'fundraising': 7124, 'mart': 7125, 'synthetic': 7126, 'gateways': 7127, 'reproduction': 7128, 'fatigue': 7129, 'sellers': 7130, 'ying': 7131, 'siming': 7132, 'zhangxi': 7133, 'josh': 7134, 'constine': 7135, 'acqhires': 7136, 'ascenta': 7137, 'buyouts': 7138, 'communications': 7139, 'pensive': 7140, 'william': 7141, 'shaw': 7142, 'approximate': 7143, 'revive': 7144, 'unfolded': 7145, 'cnbc': 7146, 'internalize': 7147, 'selves': 7148, 'norton': 7149, 'fulbright': 7150, 'gpmj': 7151, 'tbytes': 7152, 'pbytes': 7153, 'behavioural': 7154, 'greensill': 7155, 'viewable': 7156, 'alleviate': 7157, 'interdisciplinary': 7158, 'weighted': 7159, 'outputs': 7160, 'busi': 7161, 'ness': 7162, 'taxonomy': 7163, 'attributed': 7164, 'drove': 7165, 'vaults': 7166, 'conversations': 7167, 'gotten': 7168, 'creditworthiness': 7169, 'psroduct': 7170, 'expression': 7171, 'buqo': 7172, 'gstsay': 7173, 'lxok': 7174, 'panies': 7175, 'functionality': 7176, 'dependence': 7177, 'knight': 7178, 'batman': 7179, 'sonar': 7180, 'gotham': 7181, 'complexion': 7182, 'churning': 7183, 'migration': 7184, 'outlet': 7185, 'settle': 7186, 'clich': 7187, 'metaphor': 7188, 'precious': 7189, 'ioannidis': 7190, 'portion': 7191, 'fees': 7192, 'fills': 7193, 'substantiate': 7194, 'committed': 7195, 'maintaining': 7196, 'conscientious': 7197, 'dominate': 7198, 'traction': 7199, 'scroll': 7200, 'unbundled': 7201, 'successors': 7202, 'workshops': 7203, 'mmds': 7204, 'statisticians': 7205, 'measurements': 7206, 'broadcast': 7207, 'sells': 7208, 'broadness': 7209, 'agents': 7210, 'resea': 7211, 'jonah': 7212, 'boston': 7213, 'capo': 7214, 'lifelong': 7215, 'ferently': 7216, 'traditions': 7217, 'jumping': 7218, 'uncomfortable': 7219, 'succeeding': 7220, 'cautious': 7221, 'capturing': 7222, 'curate': 7223, 'tolerable': 7224, 'elapsed': 7225, 'backbone': 7226, 'absolutely': 7227, 'discarded': 7228, 'mihalcescu': 7229, 'ionel': 7230, 'iacob': 7231, 'solicitation': 7232, 'html': 7233, 'castillo': 7234, 'opens': 7235, 'coindesk': 7236, 'supercomp': 7237, 'uting': 7238, 'arises': 7239, 'tailoring': 7240, 'advertisements': 7241, 'gleaned': 7242, 'normatively': 7243, 'incomplete': 7244, 'conversion': 7245, 'undermined': 7246, 'transforms': 7247, 'commenced': 7248, 'switzerland': 7249, 'thailand': 7250, 'dhabi': 7251, 'malaysia': 7252, 'depends': 7253, 'doors': 7254, 'asks': 7255, 'instantiation': 7256, 'elaboration': 7257, 'fare': 7258, 'legitimacy': 7259, 'delegated': 7260, 'discretion': 7261, 'patterson': 7262, 'enlist': 7263, 'cientists': 7264, 'precautions': 7265, 'securing': 7266, 'repayment': 7267, 'substitutable': 7268, 'suspect': 7269, 'aptly': 7270, 'quoting': 7271, 'organisations': 7272, 'profiling': 7273, 'implied': 7274, 'milestone': 7275, 'bases': 7276, 'arena': 7277, 'meola': 7278, 'heltman': 7279, 'recoverability': 7280, 'benefiting': 7281, 'motive': 7282, 'earn': 7283, 'borrow': 7284, 'tribute': 7285, 'construction': 7286, 'environ': 7287, 'mental': 7288, 'irdai': 7289, 'pfrda': 7290, 'advocate': 7291, 'revision': 7292, 'ceremony': 7293, 'schwartz': 7294, 'those': 7295, 'opacity': 7296, 'discriminatory': 7297, 'wise': 7298, 'undesirable': 7299, 'griffith': 7300, 'quantum': 7301, 'intuitive': 7302, 'indirectly': 7303, 'repeatable': 7304, 'gigabytes': 7305, 'speedy': 7306, 'affordances': 7307, 'knowledgeable': 7308, 'developer': 7309, 'agrees': 7310, 'confirm': 7311, 'refute': 7312, 'aspx': 7313, 'prtf': 7314, 'itemid': 7315, 'printpage': 7316, 'fsec': 7317, 'fsub': 7318, 'sifi': 7319, 'swedish': 7320, 'adroit': 7321, 'tactical': 7322, 'route': 7323, 'finances': 7324, 'combines': 7325, 'obtains': 7326, 'facts': 7327, 'figures': 7328, 'finished': 7329, 'arizona': 7330, 'honor': 7331, 'beta': 7332, 'kappa': 7333, 'opposition': 7334, 'certificate': 7335, 'aeronautical': 7336, 'noblesse': 7337, 'oblige': 7338, 'deter': 7339, 'calling': 7340, 'visions': 7341, 'segregationist': 7342, 'embodied': 7343, 'height': 7344, 'bridges': 7345, 'parkways': 7346, 'island': 7347, 'competent': 7348, 'selective': 7349, 'ommand': 7350, 'saying': 7351, 'goes': 7352, 'spare': 7353, 'fifth': 7354, 'rank': 7355, 'mushrooms': 7356, 'longstanding': 7357, 'exacerbate': 7358, 'interoperability': 7359, 'jmau': 7360, 'reenhenderson': 7361, 'violation': 7362, 'contravention': 7363, 'zing': 7364, 'sincere': 7365, 'ioral': 7366, 'granting': 7367, 'narrowly': 7368, 'stagnant': 7369, 'refuse': 7370, 'perfecting': 7371, 'convey': 7372, 'statistically': 7373, 'decoding': 7374, 'paolo': 7375, 'tasca': 7376, 'assuring': 7377, 'devops': 7378, 'pounds': 7379, 'unauthorised': 7380, 'debates': 7381, 'theperspective': 7382, 'duplicative': 7383, 'erencing': 7384, 'sections': 7385, 'blurred': 7386, 'lines': 7387, 'shaping': 7388, 'characterized': 7389, 'webster': 7390, 'dana': 7391, 'crawford': 7392, 'indicative': 7393, 'hdinsights': 7394, 'batch': 7395, 'inadvertently': 7396, 'names': 7397, 'email': 7398, 'preponderance': 7399, 'leaps': 7400, 'couple': 7401, 'excited': 7402, 'mainstream': 7403, 'shane': 7404, 'ferro': 7405, 'econresdata': 7406, 'synoptic': 7407, 'successor': 7408, 'designers': 7409, 'pampered': 7410, 'lessen': 7411, 'dong': 7412, 'bahroos': 7413, 'sadhu': 7414, 'chukhman': 7415, 'hynes': 7416, 'belonging': 7417, 'laughlin': 7418, 'colo': 7419, 'durations': 7420, 'milestones': 7421, 'dive': 7422, 'diabetic': 7423, 'treatments': 7424, 'glucome': 7425, 'swipe': 7426, 'ubiquity': 7427, 'complicating': 7428, 'virtually': 7429, 'baidu': 7430, 'tencent': 7431, 'bats': 7432, 'embraces': 7433, 'tata': 7434, 'ankers': 7435, 'dangers': 7436, 'walmarts': 7437, 'tradeoffs': 7438, 'female': 7439, 'male': 7440, 'allsopp': 7441, 'bruce': 7442, 'summers': 7443, 'veale': 7444, 'rticle': 7445, 'finish': 7446, 'governors': 7447, 'provisions': 7448, 'prompt': 7449, 'spotting': 7450, 'persistent': 7451, 'defeating': 7452, 'insane': 7453, 'pdodds': 7454, 'papers': 7455, 'reset': 7456, 'passes': 7457, 'zenefits': 7458, 'insur': 7459, 'unlicensed': 7460, 'brokers': 7461, 'underwriters': 7462, 'inappropriate': 7463, 'employment': 7464, 'schedule': 7465, 'extension': 7466, 'provident': 7467, 'trader': 7468, 'coding': 7469, 'english': 7470, 'proficiency': 7471, 'drastically': 7472, 'groupthink': 7473, 'inspection': 7474, 'desperate': 7475, 'believability': 7476, 'missed': 7477, 'fortuno': 7478, 'prospects': 7479, 'puts': 7480, 'diffi': 7481, 'cult': 7482, 'factored': 7483, 'predic': 7484, 'divisional': 7485, 'marital': 7486, 'clothing': 7487, 'selected': 7488, 'encouraged': 7489, 'actors': 7490, 'gmbic': 7491, 'coincidences': 7492, 'randomness': 7493, 'ramsey': 7494, 'nonincluded': 7495, 'experimenters': 7496, 'questioned': 7497, 'paris': 7498, 'modes': 7499, 'matlab': 7500, 'fortran': 7501, 'executing': 7502, 'monetization': 7503, 'rethought': 7504, 'notions': 7505, 'scanner': 7506}\n"
          ],
          "name": "stdout"
        }
      ]
    },
    {
      "cell_type": "code",
      "metadata": {
        "colab": {
          "base_uri": "https://localhost:8080/"
        },
        "id": "DFhztdGO-BdS",
        "outputId": "61d09426-0e37-474a-9389-e4758e0e4b9e"
      },
      "source": [
        "padded_train"
      ],
      "execution_count": 159,
      "outputs": [
        {
          "output_type": "execute_result",
          "data": {
            "text/plain": [
              "array([[   0,    0,    0, ...,  978,    8,    7],\n",
              "       [   0,    0,    0, ...,    6,   26,   26],\n",
              "       [   0,    0,    0, ...,   12,   63,  305],\n",
              "       ...,\n",
              "       [   0,    0,    0, ...,  487,  147,  185],\n",
              "       [   0,    0,    0, ...,  109,  388,    6],\n",
              "       [   0,    0,    0, ...,  805,  247, 1484]], dtype=int32)"
            ]
          },
          "metadata": {
            "tags": []
          },
          "execution_count": 159
        }
      ]
    },
    {
      "cell_type": "markdown",
      "metadata": {
        "id": "xsXzK7P3Dbz4"
      },
      "source": [
        "**Modeling dengan beberapa layer dengan juga menggunaka LSTM dan Dropout serta callback agar efisien** "
      ]
    },
    {
      "cell_type": "code",
      "metadata": {
        "id": "GsBtL0-rSRAx"
      },
      "source": [
        "tf.keras.backend.clear_session()\n",
        "\n",
        "model = tf.keras.Sequential([\n",
        "    tf.keras.layers.Embedding(input_dim=40000, output_dim=16),\n",
        "    tf.keras.layers.Dropout(0.3),\n",
        "    tf.keras.layers.LSTM(32),\n",
        "    tf.keras.layers.Dense(3, activation='softmax')\n",
        "])"
      ],
      "execution_count": 160,
      "outputs": []
    },
    {
      "cell_type": "code",
      "metadata": {
        "id": "8coELEv-S2Ue"
      },
      "source": [
        "model.compile(loss='categorical_crossentropy',\n",
        "              optimizer='adam',\n",
        "              metrics=['accuracy'])"
      ],
      "execution_count": 161,
      "outputs": []
    },
    {
      "cell_type": "code",
      "metadata": {
        "colab": {
          "base_uri": "https://localhost:8080/"
        },
        "id": "MSdf-XffS5Om",
        "outputId": "35a92455-ee2e-40ed-a914-c7f487c8ba6c"
      },
      "source": [
        "model.summary()"
      ],
      "execution_count": 162,
      "outputs": [
        {
          "output_type": "stream",
          "text": [
            "Model: \"sequential\"\n",
            "_________________________________________________________________\n",
            "Layer (type)                 Output Shape              Param #   \n",
            "=================================================================\n",
            "embedding (Embedding)        (None, None, 16)          640000    \n",
            "_________________________________________________________________\n",
            "dropout (Dropout)            (None, None, 16)          0         \n",
            "_________________________________________________________________\n",
            "lstm (LSTM)                  (None, 32)                6272      \n",
            "_________________________________________________________________\n",
            "dense (Dense)                (None, 3)                 99        \n",
            "=================================================================\n",
            "Total params: 646,371\n",
            "Trainable params: 646,371\n",
            "Non-trainable params: 0\n",
            "_________________________________________________________________\n"
          ],
          "name": "stdout"
        }
      ]
    },
    {
      "cell_type": "code",
      "metadata": {
        "id": "xer6FuALTKq2"
      },
      "source": [
        "# callbacks for early stop when reach our target accuracy\n",
        "accuracy_threshold = 93e-2\n",
        "class our_callbacks(tf.keras.callbacks.Callback):\n",
        "    def on_epoch_end(self, epoch, logs = None):\n",
        "        if logs.get('accuracy') >= accuracy_threshold and logs.get('val_accuracy')>0.9:\n",
        "            print('\\nFor Epoch', epoch, '\\nAccuracy has reach = %2.2f%%' %(logs['accuracy']*100), \n",
        "                  '\\nVal Accuracy has reach = %2.2f%%' %(logs['val_accuracy']*100), '.training has been stopped. Continue to predict')\n",
        "            self.model.stop_training = True"
      ],
      "execution_count": 32,
      "outputs": []
    },
    {
      "cell_type": "code",
      "metadata": {
        "colab": {
          "base_uri": "https://localhost:8080/"
        },
        "id": "4rdsNygbTZx-",
        "outputId": "727a9969-83b1-4719-fd5c-51979d371554"
      },
      "source": [
        "# train data\n",
        "history_sentiment = model.fit(\n",
        "    padded_train,\n",
        "    label_train,\n",
        "    epochs = 100,\n",
        "    callbacks = [our_callbacks()],\n",
        "    verbose = 1,\n",
        "    validation_data = (padded_test, label_test)\n",
        ")"
      ],
      "execution_count": 163,
      "outputs": [
        {
          "output_type": "stream",
          "text": [
            "Epoch 1/100\n",
            "121/121 [==============================] - 8s 48ms/step - loss: 0.9774 - accuracy: 0.5163 - val_loss: 0.7306 - val_accuracy: 0.6518\n",
            "Epoch 2/100\n",
            "121/121 [==============================] - 5s 44ms/step - loss: 0.5973 - accuracy: 0.7650 - val_loss: 0.5020 - val_accuracy: 0.8010\n",
            "Epoch 3/100\n",
            "121/121 [==============================] - 5s 45ms/step - loss: 0.3520 - accuracy: 0.8793 - val_loss: 0.3478 - val_accuracy: 0.8756\n",
            "Epoch 4/100\n",
            "121/121 [==============================] - 5s 45ms/step - loss: 0.2177 - accuracy: 0.9277 - val_loss: 0.3453 - val_accuracy: 0.8674\n",
            "Epoch 5/100\n",
            "121/121 [==============================] - 5s 44ms/step - loss: 0.1435 - accuracy: 0.9565 - val_loss: 0.2905 - val_accuracy: 0.8974\n",
            "Epoch 6/100\n",
            "121/121 [==============================] - 5s 44ms/step - loss: 0.0980 - accuracy: 0.9681 - val_loss: 0.2987 - val_accuracy: 0.9005\n",
            "\n",
            "For Epoch 5 \n",
            "Accuracy has reach = 96.81% \n",
            "Val Accuracy has reach = 90.05% .training has been stopped. Continue to predict\n"
          ],
          "name": "stdout"
        }
      ]
    },
    {
      "cell_type": "markdown",
      "metadata": {
        "id": "tkTdsS7NicMa"
      },
      "source": [
        "**Plot accuracy dan loss**"
      ]
    },
    {
      "cell_type": "code",
      "metadata": {
        "colab": {
          "base_uri": "https://localhost:8080/",
          "height": 295
        },
        "id": "bcForWtfD6YT",
        "outputId": "eb1bcddc-30a7-4ead-8449-237901156979"
      },
      "source": [
        "plt.plot(history_sentiment.history['accuracy'], label='Training Accuracy', color='blue')\n",
        "plt.plot(history_sentiment.history['val_accuracy'], label='Validation Accuracy', color='red')\n",
        "plt.title('Accuracy Training & Validation')\n",
        "plt.ylabel('Value')\n",
        "plt.xlabel('Epoch')\n",
        "plt.legend(loc=\"lower right\")\n",
        "plt.show()"
      ],
      "execution_count": 164,
      "outputs": [
        {
          "output_type": "display_data",
          "data": {
            "image/png": "[encoded data removed]",
            "text/plain": [
              "<Figure size 432x288 with 1 Axes>"
            ]
          },
          "metadata": {
            "tags": [],
            "needs_background": "light"
          }
        }
      ]
    },
    {
      "cell_type": "code",
      "metadata": {
        "colab": {
          "base_uri": "https://localhost:8080/",
          "height": 295
        },
        "id": "44tcqNP9ihak",
        "outputId": "0ba1f1c9-654a-4ed7-9304-8468ef41489b"
      },
      "source": [
        "plt.plot(history_sentiment.history['loss'], label='Training loss', color='blue')\n",
        "plt.plot(history_sentiment.history['val_loss'], label='Validation loss', color='red')\n",
        "plt.title('Loss Training & Validation')\n",
        "plt.ylabel('Value')\n",
        "plt.xlabel('Epoch')\n",
        "plt.legend(loc=\"lower right\")\n",
        "plt.show()"
      ],
      "execution_count": 165,
      "outputs": [
        {
          "output_type": "display_data",
          "data": {
            "image/png": "[encoded data removed]",
            "text/plain": [
              "<Figure size 432x288 with 1 Axes>"
            ]
          },
          "metadata": {
            "tags": [],
            "needs_background": "light"
          }
        }
      ]
    }
  ]
}
